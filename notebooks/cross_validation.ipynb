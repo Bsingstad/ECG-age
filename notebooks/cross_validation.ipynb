{
  "cells": [
    {
      "cell_type": "code",
      "execution_count": 1,
      "metadata": {
        "colab": {
          "base_uri": "https://localhost:8080/"
        },
        "id": "h-wFUDFP50F2",
        "outputId": "b420cf5c-fda5-4175-94df-f41e1c78a88c"
      },
      "outputs": [
        {
          "output_type": "stream",
          "name": "stdout",
          "text": [
            "Looking in indexes: https://pypi.org/simple, https://us-python.pkg.dev/colab-wheels/public/simple/\n",
            "Collecting GitPython\n",
            "  Downloading GitPython-3.1.29-py3-none-any.whl (182 kB)\n",
            "\u001b[K     |████████████████████████████████| 182 kB 11.8 MB/s \n",
            "\u001b[?25hCollecting gitdb<5,>=4.0.1\n",
            "  Downloading gitdb-4.0.10-py3-none-any.whl (62 kB)\n",
            "\u001b[K     |████████████████████████████████| 62 kB 814 kB/s \n",
            "\u001b[?25hCollecting smmap<6,>=3.0.1\n",
            "  Downloading smmap-5.0.0-py3-none-any.whl (24 kB)\n",
            "Installing collected packages: smmap, gitdb, GitPython\n",
            "Successfully installed GitPython-3.1.29 gitdb-4.0.10 smmap-5.0.0\n"
          ]
        }
      ],
      "source": [
        "!pip install GitPython\n",
        "from git import Repo"
      ]
    },
    {
      "cell_type": "code",
      "execution_count": 2,
      "metadata": {
        "colab": {
          "base_uri": "https://localhost:8080/"
        },
        "id": "GxnaopyB9CC3",
        "outputId": "5c4385c2-cdda-4cd8-fd14-2d80d17cecb8"
      },
      "outputs": [
        {
          "output_type": "stream",
          "name": "stdout",
          "text": [
            "Looking in indexes: https://pypi.org/simple, https://us-python.pkg.dev/colab-wheels/public/simple/\n",
            "Collecting wget\n",
            "  Downloading wget-3.2.zip (10 kB)\n",
            "Collecting wfdb\n",
            "  Downloading wfdb-4.0.0-py3-none-any.whl (161 kB)\n",
            "\u001b[K     |████████████████████████████████| 161 kB 14.4 MB/s \n",
            "\u001b[?25hCollecting neurokit2\n",
            "  Downloading neurokit2-0.2.2-py2.py3-none-any.whl (1.2 MB)\n",
            "\u001b[K     |████████████████████████████████| 1.2 MB 14.1 MB/s \n",
            "\u001b[?25hRequirement already satisfied: pandas<2.0.0,>=1.0.0 in /usr/local/lib/python3.8/dist-packages (from wfdb) (1.3.5)\n",
            "Requirement already satisfied: requests<3.0.0,>=2.8.1 in /usr/local/lib/python3.8/dist-packages (from wfdb) (2.23.0)\n",
            "Requirement already satisfied: matplotlib<4.0.0,>=3.2.2 in /usr/local/lib/python3.8/dist-packages (from wfdb) (3.2.2)\n",
            "Requirement already satisfied: numpy<2.0.0,>=1.10.1 in /usr/local/lib/python3.8/dist-packages (from wfdb) (1.21.6)\n",
            "Requirement already satisfied: scipy<2.0.0,>=1.0.0 in /usr/local/lib/python3.8/dist-packages (from wfdb) (1.7.3)\n",
            "Requirement already satisfied: SoundFile<0.12.0,>=0.10.0 in /usr/local/lib/python3.8/dist-packages (from wfdb) (0.11.0)\n",
            "Requirement already satisfied: python-dateutil>=2.1 in /usr/local/lib/python3.8/dist-packages (from matplotlib<4.0.0,>=3.2.2->wfdb) (2.8.2)\n",
            "Requirement already satisfied: cycler>=0.10 in /usr/local/lib/python3.8/dist-packages (from matplotlib<4.0.0,>=3.2.2->wfdb) (0.11.0)\n",
            "Requirement already satisfied: kiwisolver>=1.0.1 in /usr/local/lib/python3.8/dist-packages (from matplotlib<4.0.0,>=3.2.2->wfdb) (1.4.4)\n",
            "Requirement already satisfied: pyparsing!=2.0.4,!=2.1.2,!=2.1.6,>=2.0.1 in /usr/local/lib/python3.8/dist-packages (from matplotlib<4.0.0,>=3.2.2->wfdb) (3.0.9)\n",
            "Requirement already satisfied: pytz>=2017.3 in /usr/local/lib/python3.8/dist-packages (from pandas<2.0.0,>=1.0.0->wfdb) (2022.6)\n",
            "Requirement already satisfied: six>=1.5 in /usr/local/lib/python3.8/dist-packages (from python-dateutil>=2.1->matplotlib<4.0.0,>=3.2.2->wfdb) (1.15.0)\n",
            "Requirement already satisfied: idna<3,>=2.5 in /usr/local/lib/python3.8/dist-packages (from requests<3.0.0,>=2.8.1->wfdb) (2.10)\n",
            "Requirement already satisfied: urllib3!=1.25.0,!=1.25.1,<1.26,>=1.21.1 in /usr/local/lib/python3.8/dist-packages (from requests<3.0.0,>=2.8.1->wfdb) (1.24.3)\n",
            "Requirement already satisfied: certifi>=2017.4.17 in /usr/local/lib/python3.8/dist-packages (from requests<3.0.0,>=2.8.1->wfdb) (2022.9.24)\n",
            "Requirement already satisfied: chardet<4,>=3.0.2 in /usr/local/lib/python3.8/dist-packages (from requests<3.0.0,>=2.8.1->wfdb) (3.0.4)\n",
            "Requirement already satisfied: cffi>=1.0 in /usr/local/lib/python3.8/dist-packages (from SoundFile<0.12.0,>=0.10.0->wfdb) (1.15.1)\n",
            "Requirement already satisfied: pycparser in /usr/local/lib/python3.8/dist-packages (from cffi>=1.0->SoundFile<0.12.0,>=0.10.0->wfdb) (2.21)\n",
            "Requirement already satisfied: scikit-learn>=1.0.0 in /usr/local/lib/python3.8/dist-packages (from neurokit2) (1.0.2)\n",
            "Requirement already satisfied: joblib>=0.11 in /usr/local/lib/python3.8/dist-packages (from scikit-learn>=1.0.0->neurokit2) (1.2.0)\n",
            "Requirement already satisfied: threadpoolctl>=2.0.0 in /usr/local/lib/python3.8/dist-packages (from scikit-learn>=1.0.0->neurokit2) (3.1.0)\n",
            "Building wheels for collected packages: wget\n",
            "  Building wheel for wget (setup.py) ... \u001b[?25l\u001b[?25hdone\n",
            "  Created wheel for wget: filename=wget-3.2-py3-none-any.whl size=9674 sha256=fb3fd9731a14240bd2c25f569cc631ff12334eeb9da4faa64f4bb08d6da25e2c\n",
            "  Stored in directory: /root/.cache/pip/wheels/bd/a8/c3/3cf2c14a1837a4e04bd98631724e81f33f462d86a1d895fae0\n",
            "Successfully built wget\n",
            "Installing collected packages: wget, wfdb, neurokit2\n",
            "Successfully installed neurokit2-0.2.2 wfdb-4.0.0 wget-3.2\n"
          ]
        }
      ],
      "source": [
        "!pip install wget wfdb neurokit2"
      ]
    },
    {
      "cell_type": "code",
      "execution_count": 3,
      "metadata": {
        "colab": {
          "base_uri": "https://localhost:8080/"
        },
        "id": "ZAshTjBx9Ku5",
        "outputId": "85476748-1fe4-4d56-c968-b90831e0332a"
      },
      "outputs": [
        {
          "output_type": "stream",
          "name": "stdout",
          "text": [
            "kaggle.json\n",
            "/bin/bash: -c: line 0: unexpected EOF while looking for matching `''\n",
            "/bin/bash: -c: line 1: syntax error: unexpected end of file\n"
          ]
        }
      ],
      "source": [
        "!mkdir -p ~/.kaggle\n",
        "!cp kaggle.json ~/.kaggle/\n",
        "!ls ~/.kaggle\n",
        "!chmod 600 /root/.kaggle/kaggle.json'"
      ]
    },
    {
      "cell_type": "code",
      "execution_count": 4,
      "metadata": {
        "colab": {
          "base_uri": "https://localhost:8080/"
        },
        "id": "NZxKR5aF9WLI",
        "outputId": "7bfc1b08-720d-4dae-809c-c57c1174a5e0"
      },
      "outputs": [
        {
          "output_type": "stream",
          "name": "stdout",
          "text": [
            "Warning: Your Kaggle API key is readable by other users on this system! To fix this, you can run 'chmod 600 /root/.kaggle/kaggle.json'\n",
            "Downloading georgia-12lead-ecg-challenge-database.zip to /content\n",
            "100% 482M/483M [00:16<00:00, 35.5MB/s]\n",
            "100% 483M/483M [00:16<00:00, 30.1MB/s]\n"
          ]
        }
      ],
      "source": [
        "!kaggle datasets download -d bjoernjostein/georgia-12lead-ecg-challenge-database"
      ]
    },
    {
      "cell_type": "code",
      "execution_count": 5,
      "metadata": {
        "colab": {
          "base_uri": "https://localhost:8080/"
        },
        "id": "XX8Ht9i69dgA",
        "outputId": "96e6dbee-0919-4aa1-8fc7-e2802d3e7005"
      },
      "outputs": [
        {
          "output_type": "stream",
          "name": "stdout",
          "text": [
            "Warning: Your Kaggle API key is readable by other users on this system! To fix this, you can run 'chmod 600 /root/.kaggle/kaggle.json'\n",
            "Downloading st-petersburg-incart-12lead-arrhythmia-database.zip to /content\n",
            " 99% 561M/564M [00:20<00:00, 27.5MB/s]\n",
            "100% 564M/564M [00:21<00:00, 28.1MB/s]\n"
          ]
        }
      ],
      "source": [
        "!kaggle datasets download -d bjoernjostein/st-petersburg-incart-12lead-arrhythmia-database"
      ]
    },
    {
      "cell_type": "code",
      "execution_count": 6,
      "metadata": {
        "colab": {
          "base_uri": "https://localhost:8080/"
        },
        "id": "FQCFShZc9mMD",
        "outputId": "4cf43292-2f65-4712-b16e-b35230141670"
      },
      "outputs": [
        {
          "output_type": "stream",
          "name": "stdout",
          "text": [
            "Warning: Your Kaggle API key is readable by other users on this system! To fix this, you can run 'chmod 600 /root/.kaggle/kaggle.json'\n",
            "Downloading china-12lead-ecg-challenge-database.zip to /content\n",
            " 99% 403M/406M [00:14<00:00, 34.8MB/s]\n",
            "100% 406M/406M [00:14<00:00, 29.2MB/s]\n"
          ]
        }
      ],
      "source": [
        "!kaggle datasets download -d bjoernjostein/china-12lead-ecg-challenge-database"
      ]
    },
    {
      "cell_type": "code",
      "execution_count": 7,
      "metadata": {
        "colab": {
          "base_uri": "https://localhost:8080/"
        },
        "id": "8MbmWr3b9p3o",
        "outputId": "cc459b0c-a65b-41e8-f354-359cc80a9275"
      },
      "outputs": [
        {
          "output_type": "stream",
          "name": "stdout",
          "text": [
            "Warning: Your Kaggle API key is readable by other users on this system! To fix this, you can run 'chmod 600 /root/.kaggle/kaggle.json'\n",
            "Downloading china-physiological-signal-challenge-in-2018.zip to /content\n",
            "100% 820M/824M [00:27<00:00, 29.1MB/s]\n",
            "100% 824M/824M [00:27<00:00, 31.7MB/s]\n"
          ]
        }
      ],
      "source": [
        "!kaggle datasets download -d bjoernjostein/china-physiological-signal-challenge-in-2018"
      ]
    },
    {
      "cell_type": "code",
      "execution_count": 8,
      "metadata": {
        "colab": {
          "base_uri": "https://localhost:8080/"
        },
        "id": "0o7RcxfN9sml",
        "outputId": "e0041025-33bb-4e41-c6ba-604b5bf00210"
      },
      "outputs": [
        {
          "output_type": "stream",
          "name": "stdout",
          "text": [
            "Warning: Your Kaggle API key is readable by other users on this system! To fix this, you can run 'chmod 600 /root/.kaggle/kaggle.json'\n",
            "Downloading physionet-challenge-2021-snomed-mappings.zip to /content\n",
            "  0% 0.00/4.13k [00:00<?, ?B/s]\n",
            "100% 4.13k/4.13k [00:00<00:00, 3.82MB/s]\n"
          ]
        }
      ],
      "source": [
        "!kaggle datasets download -d bjoernjostein/physionet-challenge-2021-snomed-mappings"
      ]
    },
    {
      "cell_type": "code",
      "execution_count": 9,
      "metadata": {
        "colab": {
          "base_uri": "https://localhost:8080/"
        },
        "id": "jgsUSYQB9x6I",
        "outputId": "83cad87e-94d6-4f7c-ebc3-ad9567fff66f"
      },
      "outputs": [
        {
          "output_type": "stream",
          "name": "stdout",
          "text": [
            "Warning: Your Kaggle API key is readable by other users on this system! To fix this, you can run 'chmod 600 /root/.kaggle/kaggle.json'\n",
            "Downloading chapmanshaoxing-12lead-ecg-database.zip to /content\n",
            " 99% 543M/547M [00:20<00:00, 33.1MB/s]\n",
            "100% 547M/547M [00:20<00:00, 27.7MB/s]\n"
          ]
        }
      ],
      "source": [
        "!kaggle datasets download -d erarayamorenzomuten/chapmanshaoxing-12lead-ecg-database"
      ]
    },
    {
      "cell_type": "code",
      "execution_count": 10,
      "metadata": {
        "colab": {
          "base_uri": "https://localhost:8080/"
        },
        "id": "S6k9-C4691Eg",
        "outputId": "ecae0146-c141-4e6b-8014-63fc74b6ebb5"
      },
      "outputs": [
        {
          "output_type": "stream",
          "name": "stdout",
          "text": [
            "Warning: Your Kaggle API key is readable by other users on this system! To fix this, you can run 'chmod 600 /root/.kaggle/kaggle.json'\n",
            "Downloading ningbo-first-hospital-12lead-ecg-database.zip to /content\n",
            "100% 1.78G/1.78G [01:01<00:00, 36.8MB/s]\n",
            "100% 1.78G/1.78G [01:01<00:00, 31.2MB/s]\n"
          ]
        }
      ],
      "source": [
        "!kaggle datasets download -d erarayamorenzomuten/ningbo-first-hospital-12lead-ecg-database"
      ]
    },
    {
      "cell_type": "code",
      "source": [
        "HTTPS_REMOTE_URL = 'https://github.com/Bsingstad/ECG-age.git'\n",
        "DEST_NAME = 'ecg_age'\n",
        "cloned_repo = Repo.clone_from(HTTPS_REMOTE_URL, DEST_NAME)"
      ],
      "metadata": {
        "id": "-y7QwfMKGsD2"
      },
      "execution_count": 11,
      "outputs": []
    },
    {
      "cell_type": "code",
      "execution_count": 12,
      "metadata": {
        "id": "vDRLPbh-96DT"
      },
      "outputs": [],
      "source": [
        "import os, zipfile\n",
        "\n",
        "dir_name = \"./\"\n",
        "extension = \".zip\"\n",
        " \n",
        "os.chdir(dir_name) # change directory from working dir to dir with files\n",
        "\n",
        "for item in os.listdir(dir_name): # loop through items in dir\n",
        "    if item.endswith(extension): # check for \".zip\" extension\n",
        "        file_name = os.path.abspath(item) # get full path of files\n",
        "        zip_ref = zipfile.ZipFile(file_name) # create zipfile object\n",
        "        zip_ref.extractall(dir_name) # extract file to dir\n",
        "        zip_ref.close() # close file\n",
        "        os.remove(file_name) # delete zipped file"
      ]
    },
    {
      "cell_type": "code",
      "execution_count": 13,
      "metadata": {
        "id": "zpTuYst398gs"
      },
      "outputs": [],
      "source": [
        "#this code is to move datasets to corresponding folders in the \"data\" folder\n",
        "import shutil\n",
        "import os\n",
        "os.mkdir(\"/content/ecg_age/data\")\n",
        "sources = ['Training_2/',  'Training_StPetersburg/','Training_WFDB/','WFDB_ChapmanShaoxing/', 'WFDB_Ningbo/', \"WFDB/\"]\n",
        "dest1 = '/content/ecg_age/data/'\n",
        "\n",
        "\n",
        "for s in sources:\n",
        "  files = os.listdir(s)\n",
        "  for f in files:\n",
        "      shutil.move(s+f, dest1)"
      ]
    },
    {
      "cell_type": "code",
      "execution_count": 14,
      "metadata": {
        "id": "Rcmhr7MGXNSI"
      },
      "outputs": [],
      "source": [
        "from ecg_age.src.helpers.helpers import *\n",
        "from ecg_age.src.models.models import *"
      ]
    },
    {
      "cell_type": "code",
      "execution_count": 15,
      "metadata": {
        "_kg_hide-input": true,
        "execution": {
          "iopub.execute_input": "2022-05-31T14:25:18.521174Z",
          "iopub.status.busy": "2022-05-31T14:25:18.520855Z",
          "iopub.status.idle": "2022-05-31T14:25:25.957466Z",
          "shell.execute_reply": "2022-05-31T14:25:25.955896Z",
          "shell.execute_reply.started": "2022-05-31T14:25:18.521144Z"
        },
        "id": "BmvpEhIaXNSJ",
        "trusted": true
      },
      "outputs": [],
      "source": [
        "import pandas as pd\n",
        "from scipy import stats\n",
        "import os\n",
        "import numpy as np\n",
        "import matplotlib.pyplot as plt\n",
        "import seaborn as sns\n",
        "import tensorflow as tf\n",
        "import tqdm\n",
        "from scipy import signal\n",
        "from tensorflow import keras\n",
        "#from keras.preprocessing.sequence import pad_sequences\n",
        "from sklearn.preprocessing import LabelEncoder\n",
        "from sklearn.utils.class_weight import compute_class_weight\n",
        "from sklearn.metrics import roc_auc_score\n",
        "from scipy.io import loadmat\n",
        "from sklearn.preprocessing import MultiLabelBinarizer\n",
        "from sklearn.model_selection import StratifiedKFold\n",
        "from sklearn.metrics import confusion_matrix\n",
        "from sklearn.metrics import mean_absolute_error\n",
        "from sklearn.metrics import mean_squared_error\n",
        "from sklearn.metrics import accuracy_score\n",
        "from sklearn.metrics import f1_score\n",
        "import warnings\n",
        "warnings.filterwarnings('ignore')\n",
        "%matplotlib inline\n",
        "%load_ext autoreload\n",
        "%autoreload\n",
        "%reload_ext autoreload\n",
        "sns.set_style(\"dark\")"
      ]
    },
    {
      "cell_type": "code",
      "execution_count": 16,
      "metadata": {
        "id": "jY0fiALAgw1N"
      },
      "outputs": [],
      "source": [
        "select_gender=\"both\""
      ]
    },
    {
      "cell_type": "code",
      "execution_count": 17,
      "metadata": {
        "_kg_hide-input": true,
        "colab": {
          "base_uri": "https://localhost:8080/"
        },
        "execution": {
          "iopub.execute_input": "2022-05-31T14:25:25.961233Z",
          "iopub.status.busy": "2022-05-31T14:25:25.960438Z",
          "iopub.status.idle": "2022-05-31T14:36:53.050758Z",
          "shell.execute_reply": "2022-05-31T14:36:53.049532Z",
          "shell.execute_reply.started": "2022-05-31T14:25:25.961183Z"
        },
        "id": "6ou1aKAnXNSK",
        "outputId": "5fc9d387-ecb9-4939-99fa-8de9a40280e5",
        "trusted": true
      },
      "outputs": [
        {
          "output_type": "stream",
          "name": "stdout",
          "text": [
            "Collecting labels, ECG filenames and metadata...\n"
          ]
        },
        {
          "output_type": "stream",
          "name": "stderr",
          "text": [
            "100%|██████████| 131800/131800 [02:38<00:00, 830.45it/s]\n"
          ]
        },
        {
          "output_type": "stream",
          "name": "stdout",
          "text": [
            "Total number of patients found: 59490\n"
          ]
        }
      ],
      "source": [
        "print(\"Collecting labels, ECG filenames and metadata...\")\n",
        "gender, age, labels, ecg_len, ecg_filenames = import_key_data(\"/content/ecg_age/data/\")\n",
        "ecg_filenames = np.asarray(ecg_filenames)\n",
        "age = np.asarray(age)\n",
        "gender = np.asarray(gender)\n",
        "ecg_len = np.asarray(ecg_len)\n",
        "labels = np.asarray(labels)\n",
        "print(f\"Total number of patients found: {len(age)}\")"
      ]
    },
    {
      "cell_type": "code",
      "execution_count": 18,
      "metadata": {
        "_kg_hide-input": true,
        "colab": {
          "base_uri": "https://localhost:8080/"
        },
        "execution": {
          "iopub.execute_input": "2022-05-31T14:36:53.058323Z",
          "iopub.status.busy": "2022-05-31T14:36:53.055616Z",
          "iopub.status.idle": "2022-05-31T14:36:53.1412Z",
          "shell.execute_reply": "2022-05-31T14:36:53.140173Z",
          "shell.execute_reply.started": "2022-05-31T14:36:53.058278Z"
        },
        "id": "KR2ws89DXNSL",
        "outputId": "ac1db0fb-24d7-4bb4-a7ff-7a329c0256b3",
        "trusted": true
      },
      "outputs": [
        {
          "output_type": "stream",
          "name": "stdout",
          "text": [
            "remove all ECGs not equal to 10 seconds\n"
          ]
        }
      ],
      "source": [
        "print(\"remove all ECGs not equal to 10 seconds\")\n",
        "age, gender,ecg_filenames, labels = only_ten_sec(ecg_len, age, gender, ecg_filenames, labels)"
      ]
    },
    {
      "cell_type": "code",
      "execution_count": 19,
      "metadata": {
        "_kg_hide-input": true,
        "execution": {
          "iopub.execute_input": "2022-05-31T14:36:53.14854Z",
          "iopub.status.busy": "2022-05-31T14:36:53.145887Z",
          "iopub.status.idle": "2022-05-31T14:36:53.341279Z",
          "shell.execute_reply": "2022-05-31T14:36:53.339929Z",
          "shell.execute_reply.started": "2022-05-31T14:36:53.148494Z"
        },
        "id": "rl9vd9BzXNSM",
        "trusted": true,
        "colab": {
          "base_uri": "https://localhost:8080/"
        },
        "outputId": "9005be23-b7a0-48e9-e5ab-b44d0128335d"
      },
      "outputs": [
        {
          "output_type": "stream",
          "name": "stdout",
          "text": [
            "remove all ECGs with missing values in gender or age\n"
          ]
        }
      ],
      "source": [
        "print(\"remove all ECGs with missing values in gender or age\")\n",
        "ecg_filenames, gender, age, labels = remove_nan_and_unknown_values(ecg_filenames, gender, age, labels)"
      ]
    },
    {
      "cell_type": "code",
      "execution_count": 20,
      "metadata": {
        "_kg_hide-input": true,
        "colab": {
          "base_uri": "https://localhost:8080/"
        },
        "execution": {
          "iopub.execute_input": "2022-05-31T14:36:53.381532Z",
          "iopub.status.busy": "2022-05-31T14:36:53.378988Z",
          "iopub.status.idle": "2022-05-31T14:36:53.617739Z",
          "shell.execute_reply": "2022-05-31T14:36:53.616633Z",
          "shell.execute_reply.started": "2022-05-31T14:36:53.381461Z"
        },
        "id": "Keo8bt5nXNSN",
        "outputId": "2c6392fc-0025-4adb-bdf4-067bb2dd2d86",
        "trusted": true
      },
      "outputs": [
        {
          "output_type": "stream",
          "name": "stdout",
          "text": [
            "Total number of patients left after data cleaning: 59355\n"
          ]
        }
      ],
      "source": [
        "age = clean_up_age_data(age)\n",
        "gender = clean_up_gender_data(gender)\n",
        "\n",
        "print(f\"Total number of patients left after data cleaning: {len(age)}\")"
      ]
    },
    {
      "cell_type": "code",
      "execution_count": 21,
      "metadata": {
        "execution": {
          "iopub.execute_input": "2022-05-31T14:36:53.625254Z",
          "iopub.status.busy": "2022-05-31T14:36:53.622584Z",
          "iopub.status.idle": "2022-05-31T14:36:53.660661Z",
          "shell.execute_reply": "2022-05-31T14:36:53.659536Z",
          "shell.execute_reply.started": "2022-05-31T14:36:53.625208Z"
        },
        "id": "d90zyKnCXNSN",
        "trusted": true,
        "colab": {
          "base_uri": "https://localhost:8080/"
        },
        "outputId": "cc53fe86-9092-48ac-a788-0ba4f52181d4"
      },
      "outputs": [
        {
          "output_type": "stream",
          "name": "stdout",
          "text": [
            "Select ECGs from males or females\n"
          ]
        }
      ],
      "source": [
        "print(\"Select ECGs from males or females\")\n",
        "if select_gender != \"both\":\n",
        "    gender, age, ecg_filenames, labels = male_or_female(gender, age, ecg_filenames, labels, g=select_gender)\n",
        "else:\n",
        "    pass"
      ]
    },
    {
      "cell_type": "code",
      "execution_count": 22,
      "metadata": {
        "colab": {
          "base_uri": "https://localhost:8080/"
        },
        "execution": {
          "iopub.execute_input": "2022-05-31T14:36:53.696689Z",
          "iopub.status.busy": "2022-05-31T14:36:53.694035Z",
          "iopub.status.idle": "2022-05-31T14:36:53.711576Z",
          "shell.execute_reply": "2022-05-31T14:36:53.710079Z",
          "shell.execute_reply.started": "2022-05-31T14:36:53.696644Z"
        },
        "id": "zWhF7DewXNSO",
        "outputId": "bc276d14-d516-4795-9f5d-98bd50bbbd2f",
        "trusted": true
      },
      "outputs": [
        {
          "output_type": "stream",
          "name": "stdout",
          "text": [
            "Total number of patients left after data cleaning: 59355\n"
          ]
        }
      ],
      "source": [
        "print(f\"Total number of patients left after data cleaning: {len(age)}\")"
      ]
    },
    {
      "cell_type": "code",
      "execution_count": 23,
      "metadata": {
        "_kg_hide-input": true,
        "colab": {
          "base_uri": "https://localhost:8080/"
        },
        "execution": {
          "iopub.execute_input": "2022-05-31T14:36:53.719867Z",
          "iopub.status.busy": "2022-05-31T14:36:53.716369Z",
          "iopub.status.idle": "2022-05-31T14:36:53.77048Z",
          "shell.execute_reply": "2022-05-31T14:36:53.769349Z",
          "shell.execute_reply.started": "2022-05-31T14:36:53.719773Z"
        },
        "id": "9K_M3eOfXNSO",
        "outputId": "2864fc0d-9a45-4871-daed-fc1642f7fd76",
        "trusted": true
      },
      "outputs": [
        {
          "output_type": "stream",
          "name": "stdout",
          "text": [
            "Training split: 39570\n",
            "Validation split: 19785\n"
          ]
        }
      ],
      "source": [
        "folds = split_data(age, gender,n_splits=3)"
      ]
    },
    {
      "cell_type": "code",
      "execution_count": 24,
      "metadata": {
        "_kg_hide-input": true,
        "execution": {
          "iopub.execute_input": "2022-05-31T14:36:53.831108Z",
          "iopub.status.busy": "2022-05-31T14:36:53.830604Z",
          "iopub.status.idle": "2022-05-31T14:36:53.840742Z",
          "shell.execute_reply": "2022-05-31T14:36:53.839721Z",
          "shell.execute_reply.started": "2022-05-31T14:36:53.831052Z"
        },
        "id": "djkCTd91XNSP",
        "trusted": true
      },
      "outputs": [],
      "source": [
        "def scheduler(epoch, lr):\n",
        "    if epoch == 10:\n",
        "        return lr * 0.1\n",
        "    elif epoch == 15:\n",
        "        return lr * 0.1\n",
        "    elif epoch == 20:\n",
        "        return lr * 0.1\n",
        "    else:\n",
        "        return lr"
      ]
    },
    {
      "cell_type": "code",
      "execution_count": 25,
      "metadata": {
        "id": "O1she5mkgw1P"
      },
      "outputs": [],
      "source": [
        "lr_schedule = tf.keras.callbacks.LearningRateScheduler(scheduler, verbose=0)"
      ]
    },
    {
      "cell_type": "code",
      "execution_count": 32,
      "metadata": {
        "id": "RHzBUNDYgw1Q"
      },
      "outputs": [],
      "source": [
        "#choosing the model to train/test\n",
        "model_name = \"InceptionTime\" # \"InceptionTime\" or \"Attia\""
      ]
    },
    {
      "cell_type": "code",
      "execution_count": 33,
      "metadata": {
        "_kg_hide-input": true,
        "colab": {
          "base_uri": "https://localhost:8080/"
        },
        "execution": {
          "iopub.execute_input": "2022-05-31T14:36:53.913635Z",
          "iopub.status.busy": "2022-05-31T14:36:53.912945Z",
          "iopub.status.idle": "2022-05-31T14:56:24.06372Z",
          "shell.execute_reply": "2022-05-31T14:56:24.059549Z",
          "shell.execute_reply.started": "2022-05-31T14:36:53.913583Z"
        },
        "id": "2odSNCwgXNSQ",
        "outputId": "fce978a2-0c45-4ac3-857c-4b3df202a490",
        "trusted": true
      },
      "outputs": [
        {
          "output_type": "stream",
          "name": "stdout",
          "text": [
            "Training model...\n",
            "Epoch 1/20\n",
            "2473/2473 [==============================] - 285s 114ms/step - loss: 13.2829 - mean_squared_error: 364.9063 - val_loss: 10.2859 - val_mean_squared_error: 179.7988 - lr: 0.0010\n",
            "Epoch 2/20\n",
            "2473/2473 [==============================] - 282s 114ms/step - loss: 9.5445 - mean_squared_error: 160.7185 - val_loss: 9.0521 - val_mean_squared_error: 147.6928 - lr: 0.0010\n",
            "Epoch 3/20\n",
            "2473/2473 [==============================] - 285s 115ms/step - loss: 9.1909 - mean_squared_error: 150.8656 - val_loss: 8.8631 - val_mean_squared_error: 143.6806 - lr: 0.0010\n",
            "Epoch 4/20\n",
            "2473/2473 [==============================] - 284s 115ms/step - loss: 8.9541 - mean_squared_error: 144.2773 - val_loss: 8.9034 - val_mean_squared_error: 145.7111 - lr: 0.0010\n",
            "Epoch 5/20\n",
            "2473/2473 [==============================] - 283s 115ms/step - loss: 8.7379 - mean_squared_error: 138.7524 - val_loss: 8.8161 - val_mean_squared_error: 142.9591 - lr: 0.0010\n",
            "Epoch 6/20\n",
            "2473/2473 [==============================] - 283s 114ms/step - loss: 8.5549 - mean_squared_error: 134.0448 - val_loss: 8.6323 - val_mean_squared_error: 137.3653 - lr: 0.0010\n",
            "Epoch 7/20\n",
            "2473/2473 [==============================] - 285s 115ms/step - loss: 8.3959 - mean_squared_error: 129.8565 - val_loss: 8.3719 - val_mean_squared_error: 128.6837 - lr: 0.0010\n",
            "Epoch 8/20\n",
            "2473/2473 [==============================] - 286s 116ms/step - loss: 8.2521 - mean_squared_error: 126.3927 - val_loss: 8.4996 - val_mean_squared_error: 131.7471 - lr: 0.0010\n",
            "Epoch 9/20\n",
            "2473/2473 [==============================] - 287s 116ms/step - loss: 8.1640 - mean_squared_error: 124.0166 - val_loss: 8.5472 - val_mean_squared_error: 130.5097 - lr: 0.0010\n",
            "Epoch 10/20\n",
            "2473/2473 [==============================] - 288s 116ms/step - loss: 8.0364 - mean_squared_error: 120.9785 - val_loss: 8.7035 - val_mean_squared_error: 140.4283 - lr: 0.0010\n",
            "Epoch 11/20\n",
            "2473/2473 [==============================] - 287s 116ms/step - loss: 7.5833 - mean_squared_error: 109.6115 - val_loss: 7.9941 - val_mean_squared_error: 119.2534 - lr: 1.0000e-04\n",
            "Epoch 12/20\n",
            "2473/2473 [==============================] - 292s 118ms/step - loss: 7.4222 - mean_squared_error: 105.8592 - val_loss: 7.9658 - val_mean_squared_error: 118.7889 - lr: 1.0000e-04\n",
            "Epoch 13/20\n",
            "2473/2473 [==============================] - 287s 116ms/step - loss: 7.3337 - mean_squared_error: 104.0486 - val_loss: 7.9469 - val_mean_squared_error: 118.1553 - lr: 1.0000e-04\n",
            "Epoch 14/20\n",
            "2473/2473 [==============================] - 291s 118ms/step - loss: 7.2696 - mean_squared_error: 102.7099 - val_loss: 7.9492 - val_mean_squared_error: 118.2717 - lr: 1.0000e-04\n",
            "Epoch 15/20\n",
            "2473/2473 [==============================] - 289s 117ms/step - loss: 7.2063 - mean_squared_error: 101.4119 - val_loss: 7.9302 - val_mean_squared_error: 117.7997 - lr: 1.0000e-04\n",
            "Epoch 16/20\n",
            "2473/2473 [==============================] - 286s 116ms/step - loss: 7.1077 - mean_squared_error: 99.2019 - val_loss: 7.9311 - val_mean_squared_error: 118.3843 - lr: 1.0000e-05\n",
            "Epoch 17/20\n",
            "2473/2473 [==============================] - 285s 115ms/step - loss: 7.0892 - mean_squared_error: 98.7259 - val_loss: 7.9195 - val_mean_squared_error: 118.0422 - lr: 1.0000e-05\n",
            "Epoch 18/20\n",
            "2473/2473 [==============================] - 285s 115ms/step - loss: 7.0802 - mean_squared_error: 98.6964 - val_loss: 7.9107 - val_mean_squared_error: 117.7566 - lr: 1.0000e-05\n",
            "Epoch 19/20\n",
            "2473/2473 [==============================] - 287s 116ms/step - loss: 7.0968 - mean_squared_error: 98.9680 - val_loss: 7.9140 - val_mean_squared_error: 117.9760 - lr: 1.0000e-05\n",
            "Epoch 20/20\n",
            "2473/2473 [==============================] - 284s 115ms/step - loss: 7.0953 - mean_squared_error: 98.9512 - val_loss: 7.9135 - val_mean_squared_error: 118.0023 - lr: 1.0000e-05\n",
            "Epoch 1/20\n",
            "2473/2473 [==============================] - 271s 108ms/step - loss: 13.0208 - mean_squared_error: 342.6164 - val_loss: 10.2708 - val_mean_squared_error: 189.4350 - lr: 0.0010\n",
            "Epoch 2/20\n",
            "2473/2473 [==============================] - 276s 111ms/step - loss: 9.5827 - mean_squared_error: 161.1488 - val_loss: 9.6499 - val_mean_squared_error: 168.6230 - lr: 0.0010\n",
            "Epoch 3/20\n",
            "2473/2473 [==============================] - 284s 115ms/step - loss: 9.1541 - mean_squared_error: 149.5192 - val_loss: 9.7826 - val_mean_squared_error: 173.1197 - lr: 0.0010\n",
            "Epoch 4/20\n",
            "2473/2473 [==============================] - 284s 115ms/step - loss: 8.8856 - mean_squared_error: 142.1868 - val_loss: 8.8836 - val_mean_squared_error: 143.6788 - lr: 0.0010\n",
            "Epoch 5/20\n",
            "2473/2473 [==============================] - 285s 115ms/step - loss: 8.6552 - mean_squared_error: 136.3793 - val_loss: 8.6454 - val_mean_squared_error: 136.8783 - lr: 0.0010\n",
            "Epoch 6/20\n",
            "2473/2473 [==============================] - 284s 115ms/step - loss: 8.4892 - mean_squared_error: 132.2506 - val_loss: 8.9836 - val_mean_squared_error: 146.7748 - lr: 0.0010\n",
            "Epoch 7/20\n",
            "2473/2473 [==============================] - 285s 115ms/step - loss: 8.3073 - mean_squared_error: 128.0413 - val_loss: 8.9662 - val_mean_squared_error: 148.1372 - lr: 0.0010\n",
            "Epoch 8/20\n",
            "2473/2473 [==============================] - 289s 117ms/step - loss: 8.1972 - mean_squared_error: 125.1831 - val_loss: 9.0783 - val_mean_squared_error: 152.3405 - lr: 0.0010\n",
            "Epoch 9/20\n",
            "2473/2473 [==============================] - 285s 115ms/step - loss: 8.0800 - mean_squared_error: 122.2361 - val_loss: 8.3937 - val_mean_squared_error: 129.0082 - lr: 0.0010\n",
            "Epoch 10/20\n",
            "2473/2473 [==============================] - 285s 115ms/step - loss: 7.9869 - mean_squared_error: 120.1308 - val_loss: 8.3383 - val_mean_squared_error: 127.3106 - lr: 0.0010\n",
            "Epoch 11/20\n",
            "2473/2473 [==============================] - 281s 114ms/step - loss: 7.5017 - mean_squared_error: 108.2210 - val_loss: 8.0235 - val_mean_squared_error: 118.9167 - lr: 1.0000e-04\n",
            "Epoch 12/20\n",
            "2473/2473 [==============================] - 289s 117ms/step - loss: 7.3678 - mean_squared_error: 105.3494 - val_loss: 8.0004 - val_mean_squared_error: 117.7687 - lr: 1.0000e-04\n",
            "Epoch 13/20\n",
            "2473/2473 [==============================] - 286s 116ms/step - loss: 7.2986 - mean_squared_error: 103.9800 - val_loss: 7.9738 - val_mean_squared_error: 117.6826 - lr: 1.0000e-04\n",
            "Epoch 14/20\n",
            "2473/2473 [==============================] - 289s 117ms/step - loss: 7.2384 - mean_squared_error: 102.6927 - val_loss: 7.9491 - val_mean_squared_error: 117.0690 - lr: 1.0000e-04\n",
            "Epoch 15/20\n",
            "2473/2473 [==============================] - 286s 116ms/step - loss: 7.1550 - mean_squared_error: 101.1077 - val_loss: 7.9621 - val_mean_squared_error: 118.0693 - lr: 1.0000e-04\n",
            "Epoch 16/20\n",
            "2473/2473 [==============================] - 298s 120ms/step - loss: 7.0622 - mean_squared_error: 99.1271 - val_loss: 7.9138 - val_mean_squared_error: 116.9907 - lr: 1.0000e-05\n",
            "Epoch 17/20\n",
            "2473/2473 [==============================] - 300s 121ms/step - loss: 7.0400 - mean_squared_error: 98.6397 - val_loss: 7.9094 - val_mean_squared_error: 116.8585 - lr: 1.0000e-05\n",
            "Epoch 18/20\n",
            "2473/2473 [==============================] - 298s 120ms/step - loss: 7.0509 - mean_squared_error: 98.9767 - val_loss: 7.9068 - val_mean_squared_error: 116.7807 - lr: 1.0000e-05\n",
            "Epoch 19/20\n",
            "2473/2473 [==============================] - 295s 119ms/step - loss: 7.0406 - mean_squared_error: 98.7830 - val_loss: 7.9061 - val_mean_squared_error: 116.7496 - lr: 1.0000e-05\n",
            "Epoch 20/20\n",
            "2473/2473 [==============================] - 296s 120ms/step - loss: 7.0418 - mean_squared_error: 98.7573 - val_loss: 7.9049 - val_mean_squared_error: 116.7645 - lr: 1.0000e-05\n",
            "Epoch 1/20\n",
            "2473/2473 [==============================] - 286s 114ms/step - loss: 12.8966 - mean_squared_error: 337.2107 - val_loss: 9.8461 - val_mean_squared_error: 171.8032 - lr: 0.0010\n",
            "Epoch 2/20\n",
            "2473/2473 [==============================] - 297s 120ms/step - loss: 9.5124 - mean_squared_error: 158.6626 - val_loss: 9.2188 - val_mean_squared_error: 151.9418 - lr: 0.0010\n",
            "Epoch 3/20\n",
            "2473/2473 [==============================] - 296s 120ms/step - loss: 9.1226 - mean_squared_error: 148.6754 - val_loss: 9.0581 - val_mean_squared_error: 148.1186 - lr: 0.0010\n",
            "Epoch 4/20\n",
            "2473/2473 [==============================] - 297s 120ms/step - loss: 8.8660 - mean_squared_error: 141.6844 - val_loss: 9.0216 - val_mean_squared_error: 147.1823 - lr: 0.0010\n",
            "Epoch 5/20\n",
            "2473/2473 [==============================] - 297s 120ms/step - loss: 8.6504 - mean_squared_error: 136.3111 - val_loss: 9.0717 - val_mean_squared_error: 151.1837 - lr: 0.0010\n",
            "Epoch 6/20\n",
            "2473/2473 [==============================] - 296s 120ms/step - loss: 8.4792 - mean_squared_error: 132.2006 - val_loss: 9.4921 - val_mean_squared_error: 163.0272 - lr: 0.0010\n",
            "Epoch 7/20\n",
            "2473/2473 [==============================] - 298s 120ms/step - loss: 8.3391 - mean_squared_error: 128.6454 - val_loss: 8.6897 - val_mean_squared_error: 139.1224 - lr: 0.0010\n",
            "Epoch 8/20\n",
            "2473/2473 [==============================] - 300s 121ms/step - loss: 8.2118 - mean_squared_error: 125.6155 - val_loss: 8.7998 - val_mean_squared_error: 143.0734 - lr: 0.0010\n",
            "Epoch 9/20\n",
            "2473/2473 [==============================] - 303s 123ms/step - loss: 8.0865 - mean_squared_error: 122.3761 - val_loss: 8.4465 - val_mean_squared_error: 131.1523 - lr: 0.0010\n",
            "Epoch 10/20\n",
            "2473/2473 [==============================] - 300s 121ms/step - loss: 7.9885 - mean_squared_error: 119.9731 - val_loss: 8.4548 - val_mean_squared_error: 132.5977 - lr: 0.0010\n",
            "Epoch 11/20\n",
            "2473/2473 [==============================] - 300s 121ms/step - loss: 7.5193 - mean_squared_error: 108.4881 - val_loss: 8.0384 - val_mean_squared_error: 120.3318 - lr: 1.0000e-04\n",
            "Epoch 12/20\n",
            "2473/2473 [==============================] - 303s 122ms/step - loss: 7.3661 - mean_squared_error: 105.2134 - val_loss: 8.0110 - val_mean_squared_error: 120.0376 - lr: 1.0000e-04\n",
            "Epoch 13/20\n",
            "2473/2473 [==============================] - 300s 121ms/step - loss: 7.2927 - mean_squared_error: 103.5763 - val_loss: 8.0094 - val_mean_squared_error: 120.1198 - lr: 1.0000e-04\n",
            "Epoch 14/20\n",
            "2473/2473 [==============================] - 300s 121ms/step - loss: 7.2255 - mean_squared_error: 102.2579 - val_loss: 7.9961 - val_mean_squared_error: 119.3401 - lr: 1.0000e-04\n",
            "Epoch 15/20\n",
            "2473/2473 [==============================] - 302s 122ms/step - loss: 7.1668 - mean_squared_error: 100.9041 - val_loss: 7.9862 - val_mean_squared_error: 119.4547 - lr: 1.0000e-04\n",
            "Epoch 16/20\n",
            "2473/2473 [==============================] - 300s 121ms/step - loss: 7.0610 - mean_squared_error: 98.7585 - val_loss: 7.9551 - val_mean_squared_error: 118.5980 - lr: 1.0000e-05\n",
            "Epoch 17/20\n",
            "2473/2473 [==============================] - 299s 121ms/step - loss: 7.0428 - mean_squared_error: 98.2677 - val_loss: 7.9504 - val_mean_squared_error: 118.4482 - lr: 1.0000e-05\n",
            "Epoch 18/20\n",
            "2473/2473 [==============================] - 302s 122ms/step - loss: 7.0377 - mean_squared_error: 98.2816 - val_loss: 7.9530 - val_mean_squared_error: 118.6202 - lr: 1.0000e-05\n",
            "Epoch 19/20\n",
            "2473/2473 [==============================] - 306s 124ms/step - loss: 7.0494 - mean_squared_error: 98.3573 - val_loss: 7.9478 - val_mean_squared_error: 118.2166 - lr: 1.0000e-05\n",
            "Epoch 20/20\n",
            "2473/2473 [==============================] - 306s 124ms/step - loss: 7.0384 - mean_squared_error: 98.2362 - val_loss: 7.9450 - val_mean_squared_error: 118.1612 - lr: 1.0000e-05\n"
          ]
        }
      ],
      "source": [
        "samp_freq = 100\n",
        "time = 10\n",
        "num_leads = 12\n",
        "batchsize = 16\n",
        "epoch = 20\n",
        "mae_score_total = []\n",
        "loss_curves_val = []\n",
        "loss_curves = []\n",
        "inference = False\n",
        "\n",
        "print(\"Training model...\")\n",
        "for i in range(len(folds)):\n",
        "    train_ind = folds[i][0]\n",
        "    test_ind = folds[i][1]\n",
        "\n",
        "    if model_name == \"Attia\":\n",
        "        model = attia_network_age(samp_freq,time,num_leads) \n",
        "    elif model_name == \"InceptionTime\":\n",
        "        model = build_model((samp_freq*time,num_leads), 1)\n",
        "    history = model.fit(x=shuffle_batch_generator_age(batch_size=batchsize, gen_x=generate_X_age(ecg_filenames[train_ind],samp_freq=samp_freq,num_leads=num_leads), gen_y=generate_y_age(age[train_ind]),num_leads=num_leads, time=time, samp_freq=samp_freq), epochs=epoch, \n",
        "              steps_per_epoch=(len(train_ind)/batchsize), \n",
        "              validation_data=shuffle_batch_generator_age(batch_size=batchsize, gen_x=generate_X_age(ecg_filenames[test_ind],samp_freq=samp_freq,num_leads=num_leads), gen_y=generate_y_age(age[test_ind]),num_leads=num_leads,time=time, samp_freq=samp_freq), validation_freq=1, validation_steps = (len(test_ind)/batchsize),\n",
        "              verbose = 1, \n",
        "              callbacks=[lr_schedule]\n",
        "              )\n",
        "    loss_curves_val.append(np.asarray(history.history[\"val_loss\"]))\n",
        "    loss_curves.append(np.asarray(history.history[\"loss\"]))\n",
        "    if inference == True:\n",
        "      mse_score = []\n",
        "      mae_score = []\n",
        "      f1_score = []\n",
        "      acc_score = []\n",
        "      pred_age = []\n",
        "      true_age = []\n",
        "      for j in tqdm.tqdm(test_ind):\n",
        "          data, header_data = load_challenge_data(ecg_filenames[j])\n",
        "          if int(header_data[0].split(\" \")[2]) != samp_freq:\n",
        "              data_new = np.ones([num_leads,int((int(header_data[0].split(\" \")[3])/int(header_data[0].split(\" \")[2]))*samp_freq)])\n",
        "              for k,l in enumerate(data):\n",
        "                  data_new[k] = signal.resample(l, int((int(header_data[0].split(\" \")[3])/int(header_data[0].split(\" \")[2]))*samp_freq))\n",
        "              data = data_new\n",
        "              data = pad_sequences(data, maxlen=samp_freq*10, truncating='post',padding=\"post\")\n",
        "          data = np.moveaxis(data, 0, -1)\n",
        "          y_true = age[j]\n",
        "          true_age.append(y_true)\n",
        "          y_hat = model.predict(np.expand_dims(data, axis=0), verbose=0)\n",
        "          pred_age.append(y_hat)\n",
        "          mse_score.append(mean_squared_error(np.expand_dims(y_true,axis=0),y_hat.ravel()))\n",
        "          mae_score.append(mean_absolute_error(np.expand_dims(y_true,axis=0),y_hat.ravel()))\n",
        "      mse_score = np.asarray(mse_score).mean()\n",
        "      mae_score = np.asarray(mae_score).mean()\n",
        "      print(\"MAE score {}\".format(mae_score))\n",
        "      print(\"MSE score {}\".format(mse_score))\n",
        "      mae_score_total.append(mae_score)\n",
        "\n",
        "\n"
      ]
    },
    {
      "cell_type": "code",
      "source": [
        "np.linspace(1,20,20)"
      ],
      "metadata": {
        "id": "-glL7bFcmFGL",
        "outputId": "e583b41a-80d2-4d15-9a37-a646c867fb2c",
        "colab": {
          "base_uri": "https://localhost:8080/"
        }
      },
      "execution_count": 64,
      "outputs": [
        {
          "output_type": "execute_result",
          "data": {
            "text/plain": [
              "array([ 1.,  2.,  3.,  4.,  5.,  6.,  7.,  8.,  9., 10., 11., 12., 13.,\n",
              "       14., 15., 16., 17., 18., 19., 20.])"
            ]
          },
          "metadata": {},
          "execution_count": 64
        }
      ]
    },
    {
      "cell_type": "code",
      "source": [
        "import matplotlib.patches as mpatches\n",
        "import seaborn as sns\n",
        "sns.set(font_scale=1.15)\n",
        "\n",
        "for i in loss_curves:\n",
        "  plt.plot(np.linspace(1,20,20),i, \"C0\")\n",
        "for j in loss_curves_val:\n",
        "  plt.plot(np.linspace(1,20,20),j, \"C1\")\n",
        "blue_patch = mpatches.Patch(color='C0', label='Training data')\n",
        "orange_patch = mpatches.Patch(color='C1', label='Test data')\n",
        "plt.xlim(1,20)\n",
        "plt.xticks(np.linspace(1,20,20))\n",
        "plt.xlabel(\"Epochs\")\n",
        "plt.ylabel(\"Mean absolute error (MAE)\")\n",
        "plt.legend(handles=[blue_patch,orange_patch])\n",
        "plt.savefig(\"Training curves.png\", dpi=300, bbox_inch=\"tight\")\n",
        "plt.show()"
      ],
      "metadata": {
        "id": "ti-XBznDSYZ0",
        "outputId": "6464dbc7-90d1-46d2-dc4d-57cd01cdfa0d",
        "colab": {
          "base_uri": "https://localhost:8080/",
          "height": 289
        }
      },
      "execution_count": 77,
      "outputs": [
        {
          "output_type": "display_data",
          "data": {
            "text/plain": [
              "<Figure size 432x288 with 1 Axes>"
            ],
            "image/png": "[encoded data removed]"
          },
          "metadata": {}
        }
      ]
    },
    {
      "cell_type": "code",
      "source": [
        "history.history[\"loss\"]"
      ],
      "metadata": {
        "id": "4BiKLNWAMXem",
        "outputId": "20c3dc28-d2f9-4626-81b2-0a738e482c3b",
        "colab": {
          "base_uri": "https://localhost:8080/"
        }
      },
      "execution_count": 55,
      "outputs": [
        {
          "output_type": "execute_result",
          "data": {
            "text/plain": [
              "[12.896557807922363,\n",
              " 9.512362480163574,\n",
              " 9.122647285461426,\n",
              " 8.866031646728516,\n",
              " 8.650395393371582,\n",
              " 8.47921371459961,\n",
              " 8.339117050170898,\n",
              " 8.211787223815918,\n",
              " 8.086514472961426,\n",
              " 7.988534450531006,\n",
              " 7.519300937652588,\n",
              " 7.366138458251953,\n",
              " 7.292738914489746,\n",
              " 7.225508689880371,\n",
              " 7.166829586029053,\n",
              " 7.060971736907959,\n",
              " 7.042802333831787,\n",
              " 7.037663459777832,\n",
              " 7.049359321594238,\n",
              " 7.0384063720703125]"
            ]
          },
          "metadata": {},
          "execution_count": 55
        }
      ]
    },
    {
      "cell_type": "code",
      "source": [
        "history.history[\"val_loss\"]"
      ],
      "metadata": {
        "id": "jbhV6Ge3MgyF",
        "outputId": "30f4d272-9c99-416b-dc29-325ec399f29d",
        "colab": {
          "base_uri": "https://localhost:8080/"
        }
      },
      "execution_count": 31,
      "outputs": [
        {
          "output_type": "execute_result",
          "data": {
            "text/plain": [
              "[9.898298263549805, 9.429804801940918]"
            ]
          },
          "metadata": {},
          "execution_count": 31
        }
      ]
    },
    {
      "cell_type": "code",
      "execution_count": null,
      "metadata": {
        "execution": {
          "iopub.status.busy": "2022-05-31T14:56:24.065637Z",
          "iopub.status.idle": "2022-05-31T14:56:24.067035Z"
        },
        "id": "07tau-1QXNSQ",
        "trusted": true
      },
      "outputs": [],
      "source": [
        "print(\"mean MAE score {}\".format(np.asarray(mae_score_total).mean()))\n",
        "print(\"std MAE score {}\".format(np.asarray(mae_score_total).std()))"
      ]
    },
    {
      "cell_type": "code",
      "execution_count": null,
      "metadata": {
        "_kg_hide-input": true,
        "execution": {
          "iopub.status.busy": "2022-05-31T14:56:24.068859Z",
          "iopub.status.idle": "2022-05-31T14:56:24.070237Z"
        },
        "id": "ddVESHbqXNSR",
        "trusted": true
      },
      "outputs": [],
      "source": [
        "d = {\"True age\": np.asarray(true_age).ravel(), 'Predicted age': np.asarray(pred_age).ravel(),'Error': abs(np.asarray(true_age).ravel() - np.asarray(pred_age).ravel())}\n",
        "df = pd.DataFrame(data = d)"
      ]
    },
    {
      "cell_type": "markdown",
      "metadata": {
        "id": "yYYEAQZSXNSR"
      },
      "source": [
        "## Analysis:\n"
      ]
    },
    {
      "cell_type": "markdown",
      "metadata": {
        "id": "yf1DW4chXNSS"
      },
      "source": [
        "### Comparing the predicted age vs the actual age. The red line shows the correct age, while the green line shows the result of the best linear fit based on the predicted age"
      ]
    },
    {
      "cell_type": "code",
      "execution_count": null,
      "metadata": {
        "_kg_hide-input": true,
        "execution": {
          "iopub.status.busy": "2022-05-31T14:56:24.075269Z",
          "iopub.status.idle": "2022-05-31T14:56:24.076658Z"
        },
        "id": "IgIw1TrVXNSS",
        "trusted": true
      },
      "outputs": [],
      "source": [
        "slope, intercept, r_value, p_value, std_err = stats.linregress(df[\"True age\"],df[\"Predicted age\"])\n",
        "reg_line = (np.arange(101)*slope) + intercept\n",
        "plt.figure(figsize=(30,15))\n",
        "sns.set(font_scale=2)\n",
        "sns.scatterplot(data=df, x=\"True age\", y=\"Predicted age\")\n",
        "sns.set(font_scale=5)\n",
        "plt.plot(np.arange(101),'red', label=\"1x + 0\")\n",
        "plt.plot(reg_line,'green', label = \"{}x + {}\".format(round(slope,2), round(intercept,2)))\n",
        "plt.legend(fontsize=20)\n",
        "plt.xticks(fontsize=20)\n",
        "plt.yticks(fontsize=20)\n",
        "plt.show()"
      ]
    },
    {
      "cell_type": "code",
      "execution_count": null,
      "metadata": {
        "_kg_hide-input": true,
        "execution": {
          "iopub.status.busy": "2022-05-31T14:56:24.087962Z",
          "iopub.status.idle": "2022-05-31T14:56:24.089153Z"
        },
        "id": "MV81RT4hXNSU",
        "trusted": true
      },
      "outputs": [],
      "source": [
        "snomed_ct_codes = np.array([\"164889003\",\"164890007\",\"6374002\",\"426627000\",\"733534002\",\"713427006\",\"270492004\",\"713426002\",\"39732003\",\"445118002\",\"164909002\",\"251146004\",\"698252002\",\"426783006\",\"284470004\",\n",
        " \"10370003\",\"365413008\",\"427172004\",\"164947007\",\"111975006\",\"164917005\",\"47665007\",\"59118001\",\"427393009\",\"426177001\",\"427084000\",\"63593006\",\"164934002\",\"59931005\",\"17338001\"])\n"
      ]
    },
    {
      "cell_type": "code",
      "execution_count": null,
      "metadata": {
        "_kg_hide-input": true,
        "execution": {
          "iopub.status.busy": "2022-05-31T14:56:24.091102Z",
          "iopub.status.idle": "2022-05-31T14:56:24.092371Z"
        },
        "id": "fRF4pNrWXNSU",
        "trusted": true
      },
      "outputs": [],
      "source": [
        "diagnoses = np.array([\"atrial fibrillation\",\"atrial flutter\",\"bundle branch block\",\"bradycardia\",\"complete left bundle branch block\",\"complete right bundle branch block\",\"1st degree av block\",\"incomplete right bundle branch block\",\"left axis deviation\",\"left anterior fascicular block\",\n",
        "\"left bundle branch block\",\"low qrs voltages\",\"nonspecific intraventricular conduction disorder\",\"sinus rhythm\",\"premature atrial contraction\",\"pacing rhythm\",\"poor R wave Progression\",\"premature ventricular contractions\",\"prolonged pr interval\",\"prolonged qt interval\",\n",
        "\"qwave abnormal\",\"right axis deviation\",\"right bundle branch block\",\"sinus arrhythmia\",\"sinus bradycardia\",\"sinus tachycardia\",\"supraventricular premature beats\",\"t wave abnormal\",\"t wave inversion\",\"ventricular premature beats\"])\n"
      ]
    },
    {
      "cell_type": "code",
      "execution_count": null,
      "metadata": {
        "_kg_hide-input": true,
        "execution": {
          "iopub.status.busy": "2022-05-31T14:56:24.097339Z",
          "iopub.status.idle": "2022-05-31T14:56:24.09863Z"
        },
        "id": "11id43j6XNSU",
        "trusted": true
      },
      "outputs": [],
      "source": [
        "val_ecg_filenames =np.asarray(ecg_filenames)[test_ind]"
      ]
    },
    {
      "cell_type": "code",
      "execution_count": null,
      "metadata": {
        "_kg_hide-input": true,
        "execution": {
          "iopub.status.busy": "2022-05-31T14:56:24.10041Z",
          "iopub.status.idle": "2022-05-31T14:56:24.101745Z"
        },
        "id": "oDnKm5SkXNSU",
        "trusted": true
      },
      "outputs": [],
      "source": [
        "classes = set()\n",
        "for ecg_file in tqdm.tqdm(val_ecg_filenames):\n",
        "    header_file = ecg_file.replace('.mat','.hea')\n",
        "    header = load_header(header_file)\n",
        "    classes |= set(get_labels(header))\n",
        "if all(is_integer(x) for x in classes):\n",
        "    classes = sorted(classes, key=lambda x: int(x))\n",
        "else:\n",
        "    classes = sorted(classes)\n",
        "num_classes = len(classes)"
      ]
    },
    {
      "cell_type": "code",
      "execution_count": null,
      "metadata": {
        "_kg_hide-input": true,
        "execution": {
          "iopub.status.busy": "2022-05-31T14:56:24.103461Z",
          "iopub.status.idle": "2022-05-31T14:56:24.104717Z"
        },
        "id": "lZkswQedXNSU",
        "trusted": true
      },
      "outputs": [],
      "source": [
        "scored_classes = []\n",
        "for i in classes:\n",
        "    for j in snomed_ct_codes:\n",
        "        if i == '':\n",
        "            continue\n",
        "        if i == j:\n",
        "            scored_classes.append(i)\n",
        "scored_classes = sorted(scored_classes)"
      ]
    },
    {
      "cell_type": "code",
      "execution_count": null,
      "metadata": {
        "_kg_hide-input": true,
        "execution": {
          "iopub.status.busy": "2022-05-31T14:56:24.106558Z",
          "iopub.status.idle": "2022-05-31T14:56:24.107807Z"
        },
        "id": "WOsIN9YlXNSV",
        "trusted": true
      },
      "outputs": [],
      "source": [
        "class_names = []\n",
        "for j in range(len(scored_classes)):\n",
        "    for i in range(len(snomed_ct_codes)):\n",
        "        if (str(snomed_ct_codes[i]) == scored_classes[j]):\n",
        "            class_names.append(diagnoses[i])"
      ]
    },
    {
      "cell_type": "code",
      "execution_count": null,
      "metadata": {
        "_kg_hide-input": true,
        "execution": {
          "iopub.status.busy": "2022-05-31T14:56:24.109697Z",
          "iopub.status.idle": "2022-05-31T14:56:24.110927Z"
        },
        "id": "t-r_AW8JXNSV",
        "trusted": true
      },
      "outputs": [],
      "source": [
        "num_recordings = len(val_ecg_filenames)\n",
        "num_classes = len(scored_classes)\n",
        "val_labels = np.zeros((num_recordings, num_classes), dtype=np.bool)\n",
        "\n",
        "for i in range(len(val_ecg_filenames)):\n",
        "    current_labels = get_labels(load_header(val_ecg_filenames[i].replace('.mat','.hea')))\n",
        "    for lab in current_labels:\n",
        "        if lab in scored_classes:\n",
        "            j = scored_classes.index(lab)\n",
        "        val_labels[i, j] = 1\n",
        "val_labels = val_labels * 1"
      ]
    },
    {
      "cell_type": "markdown",
      "metadata": {
        "id": "ToLGSw63XNSV"
      },
      "source": [
        "### Comparing the predicted age vs the actual age for 20 different cardiovascular diseases. The red line shows the correct age, while the green line shows the result of the best linear fit based on the predicted age"
      ]
    },
    {
      "cell_type": "code",
      "execution_count": null,
      "metadata": {
        "_kg_hide-input": true,
        "execution": {
          "iopub.status.busy": "2022-05-31T14:56:24.112789Z",
          "iopub.status.idle": "2022-05-31T14:56:24.114039Z"
        },
        "id": "wLPY2sOQXNSV",
        "trusted": true,
        "outputId": "5c818f21-7bc3-48e8-be78-786acd79b9ec",
        "colab": {
          "base_uri": "https://localhost:8080/",
          "height": 243
        }
      },
      "outputs": [
        {
          "output_type": "error",
          "ename": "NameError",
          "evalue": "ignored",
          "traceback": [
            "\u001b[0;31m---------------------------------------------------------------------------\u001b[0m",
            "\u001b[0;31mNameError\u001b[0m                                 Traceback (most recent call last)",
            "\u001b[0;32m<ipython-input-1-6756ce2edb89>\u001b[0m in \u001b[0;36m<module>\u001b[0;34m\u001b[0m\n\u001b[0;32m----> 1\u001b[0;31m \u001b[0mfig\u001b[0m\u001b[0;34m,\u001b[0m \u001b[0max\u001b[0m \u001b[0;34m=\u001b[0m \u001b[0mplt\u001b[0m\u001b[0;34m.\u001b[0m\u001b[0msubplots\u001b[0m\u001b[0;34m(\u001b[0m\u001b[0;36m4\u001b[0m\u001b[0;34m,\u001b[0m \u001b[0;36m5\u001b[0m\u001b[0;34m,\u001b[0m \u001b[0msharex\u001b[0m\u001b[0;34m=\u001b[0m\u001b[0;32mTrue\u001b[0m\u001b[0;34m,\u001b[0m \u001b[0msharey\u001b[0m\u001b[0;34m=\u001b[0m\u001b[0;32mTrue\u001b[0m\u001b[0;34m)\u001b[0m\u001b[0;34m\u001b[0m\u001b[0;34m\u001b[0m\u001b[0m\n\u001b[0m\u001b[1;32m      2\u001b[0m \u001b[0mfig\u001b[0m\u001b[0;34m.\u001b[0m\u001b[0mset_figheight\u001b[0m\u001b[0;34m(\u001b[0m\u001b[0;36m46\u001b[0m\u001b[0;34m)\u001b[0m\u001b[0;34m\u001b[0m\u001b[0;34m\u001b[0m\u001b[0m\n\u001b[1;32m      3\u001b[0m \u001b[0mfig\u001b[0m\u001b[0;34m.\u001b[0m\u001b[0mset_figwidth\u001b[0m\u001b[0;34m(\u001b[0m\u001b[0;36m46\u001b[0m\u001b[0;34m)\u001b[0m\u001b[0;34m\u001b[0m\u001b[0;34m\u001b[0m\u001b[0m\n\u001b[1;32m      4\u001b[0m \u001b[0mcnt\u001b[0m \u001b[0;34m=\u001b[0m \u001b[0;36m0\u001b[0m\u001b[0;34m\u001b[0m\u001b[0;34m\u001b[0m\u001b[0m\n\u001b[1;32m      5\u001b[0m \u001b[0mcnt_2\u001b[0m \u001b[0;34m=\u001b[0m \u001b[0;36m0\u001b[0m\u001b[0;34m\u001b[0m\u001b[0;34m\u001b[0m\u001b[0m\n",
            "\u001b[0;31mNameError\u001b[0m: name 'plt' is not defined"
          ]
        }
      ],
      "source": [
        "fig, ax = plt.subplots(4, 5, sharex=True, sharey=True)\n",
        "fig.set_figheight(46)\n",
        "fig.set_figwidth(46)\n",
        "cnt = 0\n",
        "cnt_2 = 0\n",
        "for i in range(20):\n",
        "    TE = np.asarray(df.iloc[np.where(val_labels[:,i]==1)[0]][\"True age\"] - df.iloc[np.where(val_labels[:,i]==1)[0]][\"Predicted age\"]).sum()\n",
        "    MAE = np.asarray(abs(df.iloc[np.where(val_labels[:,i]==1)[0]][\"True age\"] - df.iloc[np.where(val_labels[:,i]==1)[0]][\"Predicted age\"])).sum()/len(np.asarray(df.iloc[np.where(val_labels[:,i]==1)[0]][\"True age\"] - df.iloc[np.where(val_labels[:,i]==1)[0]][\"Predicted age\"]))\n",
        "    slope, intercept, r_value, p_value, std_err = stats.linregress(df.iloc[np.where(val_labels[:,i]==1)[0]][\"True age\"],df.iloc[np.where(val_labels[:,i]==1)[0]][\"Predicted age\"])\n",
        "    ax[cnt_2,cnt].set_title(class_names[i] + \", MAE= {}\".format(round(MAE,2)))\n",
        "    df_temp = df.iloc[np.where(val_labels[:,i]==1)[0]]\n",
        "    ax[cnt_2,cnt].scatter(df_temp[\"True age\"],df_temp[\"Predicted age\"])\n",
        "    ax[cnt_2,cnt].plot(np.arange(101),'red', label=\"1x + 0\")\n",
        "    ax[cnt_2,cnt].plot(reg_line,'green', label = \"{}x + {}\".format(round(slope,2), round(intercept,2)))\n",
        "    ax[cnt_2,cnt].set_xlabel(\"True age\")\n",
        "    ax[cnt_2,cnt].set_ylabel(\"Predicted age\")\n",
        "    ax[cnt_2,cnt].legend()\n",
        "    cnt += 1\n",
        "    if cnt == 5:\n",
        "        cnt_2 += 1\n",
        "        cnt = 0\n",
        "\n"
      ]
    }
  ],
  "metadata": {
    "accelerator": "GPU",
    "colab": {
      "name": "age-estimation-of-women-using-cnn-on-12-lead-ecg.ipynb",
      "provenance": []
    },
    "gpuClass": "standard",
    "kernelspec": {
      "display_name": "Python 3.8.5 ('base')",
      "language": "python",
      "name": "python3"
    },
    "language_info": {
      "codemirror_mode": {
        "name": "ipython",
        "version": 3
      },
      "file_extension": ".py",
      "mimetype": "text/x-python",
      "name": "python",
      "nbconvert_exporter": "python",
      "pygments_lexer": "ipython3",
      "version": "3.8.5"
    },
    "vscode": {
      "interpreter": {
        "hash": "39192be711985d5a4908b881b6a992a73610e2430c975ad8c4f9221a910d9ff0"
      }
    }
  },
  "nbformat": 4,
  "nbformat_minor": 0
}