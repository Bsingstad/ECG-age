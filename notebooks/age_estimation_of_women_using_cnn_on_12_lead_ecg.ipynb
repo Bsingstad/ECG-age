{
  "cells": [
    {
      "cell_type": "markdown",
      "metadata": {
        "id": "A0dKQrMzXNR_"
      },
      "source": [
        "# <center> Age estimation using Convolutional Neural Network on 12-lead ECG </center>\n",
        "\n",
        "\n",
        "<div style=\"width:100%;text-align: center;\"> <img align=middle src=\"https://raw.githubusercontent.com/Bsingstad/DL-images/main/ECGage.png\" alt=\"AI pregnancy\" style=\"height:500px;margin-top:3rem;\"> </div>\n",
        "\n",
        "----------\n",
        "\n",
        "[Bjørn-Jostein Singstad](https://www.kaggle.com/bjoernjostein) - February 2022\n",
        "\n",
        "Other relevant Notebooks: \n",
        "* [EDA Shaoxing and Ningbo ECG data](https://www.kaggle.com/bjoernjostein/eda-shaoxing-and-ningbo-ecg-data/)\n",
        "* [Physionet Challenge 2020](https://www.kaggle.com/bjoernjostein/physionet-challenge-2020)\n",
        "\n",
        "----------"
      ]
    },
    {
      "cell_type": "markdown",
      "metadata": {
        "id": "nnPuaKIkXNSD"
      },
      "source": [
        "### AI can be used to detect your physiological/cardiovascular age only by looking at your ECG\n",
        "\n",
        "In more than 100 years the ECG has been a widely used tool for heart dignostics, starting with **Willem Einthoven's** string galvanometer\n",
        "\n",
        "<div style=\"width:100%;text-align: center;\"> <img align=middle src=\"https://upload.wikimedia.org/wikipedia/commons/1/1c/Willem_Einthoven_ECG.jpg\" alt=\"AI pregnancy\" style=\"height:500px;margin-top:3rem;\"> </div>\n",
        "\n",
        "\n",
        "Since the 1960s we have also been able to store these ECGs in a digital format, allowing the ECGs to be automatically interpreted by algorithms. Despite this, the convential rule-based algorithms has shown limitations in terms of interpretting ECGs, but the new era of AI still holds promise. Not only can AI-based ECG interpretation tools reveal various types of diagnoses from the ECG, studies has alos shown that it can detect other biologic factors such as age and sex ([Attia et al 2019](https://www.ahajournals.org/doi/full/10.1161/CIRCEP.119.007284)).\n",
        "\n",
        "In this notebook we use a [InceptionTime](https://link.springer.com/article/10.1007/s10618-020-00710-y) type of 1-dimentional Convolutional Neural Network (the AlexNet for time series) to train and validate an age predicting classifier based on 8 datasets:\n",
        "1. Chapman-Shaoxing Database\n",
        "2. China Physilogical Signal Challenge Database\n",
        "3. China Physilogical Signal Challenge Database - extra\n",
        "4. The Georgia 12-lead ECG Challenge Database\n",
        "5. Ningbo Database\n",
        "6. PTB Diagnostic Database\n",
        "7. PTB-XL Database\n",
        "8. St.Petersburg INCARD Database\n",
        "\n",
        "These databases consist of a total of **88253** ECGs"
      ]
    },
    {
      "cell_type": "code",
      "execution_count": 1,
      "metadata": {
        "colab": {
          "base_uri": "https://localhost:8080/"
        },
        "id": "UaL6sRwsXNSE",
        "outputId": "d5fc1e95-2309-4b0a-ccf1-c48065d5588e"
      },
      "outputs": [
        {
          "output_type": "stream",
          "name": "stdout",
          "text": [
            "Cloning into 'ECG-age'...\n",
            "remote: Enumerating objects: 26, done.\u001b[K\n",
            "remote: Counting objects: 100% (26/26), done.\u001b[K\n",
            "remote: Compressing objects: 100% (19/19), done.\u001b[K\n",
            "remote: Total 26 (delta 4), reused 21 (delta 2), pack-reused 0\u001b[K\n",
            "Unpacking objects: 100% (26/26), done.\n"
          ]
        }
      ],
      "source": [
        "!git clone https://github.com/Bsingstad/ECG-age.git"
      ]
    },
    {
      "cell_type": "code",
      "execution_count": 34,
      "metadata": {
        "id": "HC7CapkJXNSG"
      },
      "outputs": [],
      "source": [
        "import os"
      ]
    },
    {
      "cell_type": "code",
      "execution_count": 35,
      "metadata": {
        "colab": {
          "base_uri": "https://localhost:8080/",
          "height": 166
        },
        "id": "P-c75yKyXNSH",
        "outputId": "3f80bdbd-b3dd-4b80-c953-6f0a6bc2ab8c"
      },
      "outputs": [
        {
          "output_type": "error",
          "ename": "FileNotFoundError",
          "evalue": "ignored",
          "traceback": [
            "\u001b[0;31m---------------------------------------------------------------------------\u001b[0m",
            "\u001b[0;31mFileNotFoundError\u001b[0m                         Traceback (most recent call last)",
            "\u001b[0;32m<ipython-input-35-765f5d0bc104>\u001b[0m in \u001b[0;36m<module>\u001b[0;34m()\u001b[0m\n\u001b[0;32m----> 1\u001b[0;31m \u001b[0mos\u001b[0m\u001b[0;34m.\u001b[0m\u001b[0mrename\u001b[0m\u001b[0;34m(\u001b[0m\u001b[0;34m\"ECG-age\"\u001b[0m\u001b[0;34m,\u001b[0m\u001b[0;34m\"ecg_age\"\u001b[0m\u001b[0;34m)\u001b[0m\u001b[0;34m\u001b[0m\u001b[0;34m\u001b[0m\u001b[0m\n\u001b[0m",
            "\u001b[0;31mFileNotFoundError\u001b[0m: [Errno 2] No such file or directory: 'ECG-age' -> 'ecg_age'"
          ]
        }
      ],
      "source": [
        "os.rename(\"ECG-age\",\"ecg_age\")"
      ]
    },
    {
      "cell_type": "code",
      "execution_count": 56,
      "metadata": {
        "id": "Rcmhr7MGXNSI"
      },
      "outputs": [],
      "source": [
        "from ecg_age.src.helpers import *\n",
        "from ecg_age.src.models import *"
      ]
    },
    {
      "cell_type": "code",
      "execution_count": 57,
      "metadata": {
        "_kg_hide-input": true,
        "execution": {
          "iopub.execute_input": "2022-05-31T14:25:18.521174Z",
          "iopub.status.busy": "2022-05-31T14:25:18.520855Z",
          "iopub.status.idle": "2022-05-31T14:25:25.957466Z",
          "shell.execute_reply": "2022-05-31T14:25:25.955896Z",
          "shell.execute_reply.started": "2022-05-31T14:25:18.521144Z"
        },
        "trusted": true,
        "colab": {
          "base_uri": "https://localhost:8080/"
        },
        "id": "BmvpEhIaXNSJ",
        "outputId": "a9db8c5f-8341-4024-b5bf-6a5a22b48152"
      },
      "outputs": [
        {
          "output_type": "stream",
          "name": "stdout",
          "text": [
            "The autoreload extension is already loaded. To reload it, use:\n",
            "  %reload_ext autoreload\n"
          ]
        }
      ],
      "source": [
        "import pandas as pd\n",
        "from scipy import stats\n",
        "import os\n",
        "import numpy as np\n",
        "import matplotlib.pyplot as plt\n",
        "import seaborn as sns\n",
        "import tensorflow as tf\n",
        "import tqdm\n",
        "from scipy import signal\n",
        "from tensorflow import keras\n",
        "from keras.preprocessing.sequence import pad_sequences\n",
        "from sklearn.preprocessing import LabelEncoder\n",
        "from sklearn.utils.class_weight import compute_class_weight\n",
        "from sklearn.metrics import roc_auc_score\n",
        "from scipy.io import loadmat\n",
        "from sklearn.preprocessing import MultiLabelBinarizer\n",
        "from sklearn.model_selection import StratifiedKFold\n",
        "from sklearn.metrics import confusion_matrix\n",
        "from sklearn.metrics import mean_absolute_error\n",
        "from sklearn.metrics import mean_squared_error\n",
        "from sklearn.metrics import accuracy_score\n",
        "from sklearn.metrics import f1_score\n",
        "import warnings\n",
        "warnings.filterwarnings('ignore')\n",
        "%matplotlib inline\n",
        "%load_ext autoreload\n",
        "%autoreload\n",
        "%reload_ext autoreload\n",
        "sns.set_style(\"dark\")"
      ]
    },
    {
      "cell_type": "code",
      "execution_count": 38,
      "metadata": {
        "_kg_hide-input": true,
        "execution": {
          "iopub.execute_input": "2022-05-31T14:25:25.961233Z",
          "iopub.status.busy": "2022-05-31T14:25:25.960438Z",
          "iopub.status.idle": "2022-05-31T14:36:53.050758Z",
          "shell.execute_reply": "2022-05-31T14:36:53.049532Z",
          "shell.execute_reply.started": "2022-05-31T14:25:25.961183Z"
        },
        "trusted": true,
        "colab": {
          "base_uri": "https://localhost:8080/"
        },
        "id": "6ou1aKAnXNSK",
        "outputId": "61387ff6-738c-40d9-81fd-ddc009dcd7bc"
      },
      "outputs": [
        {
          "output_type": "stream",
          "name": "stdout",
          "text": [
            "Collecting labels, ECG filenames and metadata...\n"
          ]
        },
        {
          "output_type": "stream",
          "name": "stderr",
          "text": [
            "100%|██████████| 674/674 [00:00<00:00, 2769.88it/s]"
          ]
        },
        {
          "output_type": "stream",
          "name": "stdout",
          "text": [
            "Total number of patients found: 123\n"
          ]
        },
        {
          "output_type": "stream",
          "name": "stderr",
          "text": [
            "\n"
          ]
        }
      ],
      "source": [
        "######################################################\n",
        "print(\"Collecting labels, ECG filenames and metadata...\")\n",
        "gender, age, labels, ecg_len, ecg_filenames = import_key_data(\"/content/ecg_age/data/\")\n",
        "ecg_filenames = np.asarray(ecg_filenames)\n",
        "age = np.asarray(age)\n",
        "gender = np.asarray(gender)\n",
        "ecg_len = np.asarray(ecg_len)\n",
        "labels = np.asarray(labels)\n",
        "print(f\"Total number of patients found: {len(age)}\")"
      ]
    },
    {
      "cell_type": "code",
      "execution_count": 39,
      "metadata": {
        "_kg_hide-input": true,
        "execution": {
          "iopub.execute_input": "2022-05-31T14:36:53.058323Z",
          "iopub.status.busy": "2022-05-31T14:36:53.055616Z",
          "iopub.status.idle": "2022-05-31T14:36:53.1412Z",
          "shell.execute_reply": "2022-05-31T14:36:53.140173Z",
          "shell.execute_reply.started": "2022-05-31T14:36:53.058278Z"
        },
        "trusted": true,
        "colab": {
          "base_uri": "https://localhost:8080/"
        },
        "id": "KR2ws89DXNSL",
        "outputId": "c6c6028f-ac02-4d6a-f58a-410e59d322f0"
      },
      "outputs": [
        {
          "output_type": "stream",
          "name": "stdout",
          "text": [
            "remove all ECGs not equal to 10 seconds\n"
          ]
        }
      ],
      "source": [
        "#####################################################\n",
        "print(\"remove all ECGs not equal to 10 seconds\")\n",
        "age, gender,ecg_filenames, labels = only_ten_sec(ecg_len, age, gender, ecg_filenames, labels)"
      ]
    },
    {
      "cell_type": "code",
      "execution_count": 40,
      "metadata": {
        "_kg_hide-input": true,
        "execution": {
          "iopub.execute_input": "2022-05-31T14:36:53.14854Z",
          "iopub.status.busy": "2022-05-31T14:36:53.145887Z",
          "iopub.status.idle": "2022-05-31T14:36:53.341279Z",
          "shell.execute_reply": "2022-05-31T14:36:53.339929Z",
          "shell.execute_reply.started": "2022-05-31T14:36:53.148494Z"
        },
        "trusted": true,
        "id": "rl9vd9BzXNSM"
      },
      "outputs": [],
      "source": [
        "ecg_filenames = np.delete(ecg_filenames,np.where(age == \"NaN\"))\n",
        "gender = np.delete(gender,np.where(age == \"NaN\"))\n",
        "labels = np.delete(labels,np.where(age == \"NaN\"))\n",
        "age = np.delete(age,np.where(age == \"NaN\"))\n",
        "\n",
        "\n",
        "age = np.delete(age,np.where(gender == \"NaN\"))\n",
        "age = np.delete(age,np.where(gender == \"Unknown\"))\n",
        "ecg_filenames = np.delete(ecg_filenames,np.where(gender == \"NaN\"))\n",
        "ecg_filenames = np.delete(ecg_filenames,np.where(gender == \"Unknown\"))\n",
        "labels = np.delete(labels,np.where(gender == \"NaN\"))\n",
        "labels = np.delete(labels,np.where(gender == \"Unknown\"))\n",
        "gender = np.delete(gender,np.where(gender == \"NaN\"))\n",
        "gender = np.delete(gender,np.where(gender == \"Unknown\"))"
      ]
    },
    {
      "cell_type": "code",
      "execution_count": 41,
      "metadata": {
        "_kg_hide-input": true,
        "execution": {
          "iopub.execute_input": "2022-05-31T14:36:53.381532Z",
          "iopub.status.busy": "2022-05-31T14:36:53.378988Z",
          "iopub.status.idle": "2022-05-31T14:36:53.617739Z",
          "shell.execute_reply": "2022-05-31T14:36:53.616633Z",
          "shell.execute_reply.started": "2022-05-31T14:36:53.381461Z"
        },
        "trusted": true,
        "colab": {
          "base_uri": "https://localhost:8080/"
        },
        "id": "Keo8bt5nXNSN",
        "outputId": "5d143885-528b-416b-c3d3-a3112c1002fc"
      },
      "outputs": [
        {
          "output_type": "stream",
          "name": "stdout",
          "text": [
            "Total number of patients left after data cleaning: 123\n"
          ]
        }
      ],
      "source": [
        "age = clean_up_age_data(age)\n",
        "gender = clean_up_gender_data(gender)\n",
        "\n",
        "print(f\"Total number of patients left after data cleaning: {len(age)}\")"
      ]
    },
    {
      "cell_type": "code",
      "execution_count": 42,
      "metadata": {
        "execution": {
          "iopub.execute_input": "2022-05-31T14:36:53.625254Z",
          "iopub.status.busy": "2022-05-31T14:36:53.622584Z",
          "iopub.status.idle": "2022-05-31T14:36:53.660661Z",
          "shell.execute_reply": "2022-05-31T14:36:53.659536Z",
          "shell.execute_reply.started": "2022-05-31T14:36:53.625208Z"
        },
        "trusted": true,
        "id": "d90zyKnCXNSN"
      },
      "outputs": [],
      "source": [
        "age = np.delete(age,np.where(gender == 0))\n",
        "ecg_filenames = np.delete(ecg_filenames,np.where(gender == 0))\n",
        "labels = np.delete(labels,np.where(gender == 0))\n",
        "gender = np.delete(gender,np.where(gender == 0))"
      ]
    },
    {
      "cell_type": "code",
      "execution_count": 43,
      "metadata": {
        "execution": {
          "iopub.execute_input": "2022-05-31T14:36:53.696689Z",
          "iopub.status.busy": "2022-05-31T14:36:53.694035Z",
          "iopub.status.idle": "2022-05-31T14:36:53.711576Z",
          "shell.execute_reply": "2022-05-31T14:36:53.710079Z",
          "shell.execute_reply.started": "2022-05-31T14:36:53.696644Z"
        },
        "trusted": true,
        "colab": {
          "base_uri": "https://localhost:8080/"
        },
        "id": "zWhF7DewXNSO",
        "outputId": "5aec8e0f-f430-4beb-92ac-30618e658a75"
      },
      "outputs": [
        {
          "output_type": "stream",
          "name": "stdout",
          "text": [
            "Total number of patients left after data cleaning: 45\n"
          ]
        }
      ],
      "source": [
        "print(f\"Total number of patients left after data cleaning: {len(age)}\")"
      ]
    },
    {
      "cell_type": "code",
      "source": [
        "age"
      ],
      "metadata": {
        "colab": {
          "base_uri": "https://localhost:8080/"
        },
        "id": "3ljjCY-xZa-G",
        "outputId": "b8ddafe3-a9ba-40f2-e107-1b128ada9268"
      },
      "execution_count": 45,
      "outputs": [
        {
          "output_type": "execute_result",
          "data": {
            "text/plain": [
              "array([69, 47, 51, 62, 68, 79, 47, 52, 75, 79, 74, 68, 53, 72, 59, 69, 84,\n",
              "       54, 54, 64, 68, 53, 59, 63, 73, 68, 82, 78, 82, 67, 48, 79, 84, 65,\n",
              "       81, 77, 73, 66, 50, 75, 59, 72, 80, 78, 74])"
            ]
          },
          "metadata": {},
          "execution_count": 45
        }
      ]
    },
    {
      "cell_type": "code",
      "execution_count": 52,
      "metadata": {
        "_kg_hide-input": true,
        "execution": {
          "iopub.execute_input": "2022-05-31T14:36:53.719867Z",
          "iopub.status.busy": "2022-05-31T14:36:53.716369Z",
          "iopub.status.idle": "2022-05-31T14:36:53.77048Z",
          "shell.execute_reply": "2022-05-31T14:36:53.769349Z",
          "shell.execute_reply.started": "2022-05-31T14:36:53.719773Z"
        },
        "trusted": true,
        "colab": {
          "base_uri": "https://localhost:8080/"
        },
        "id": "9K_M3eOfXNSO",
        "outputId": "2528b1c4-a47e-465f-aa86-b28085ae5b5b"
      },
      "outputs": [
        {
          "output_type": "stream",
          "name": "stdout",
          "text": [
            "Training split: 30\n",
            "Validation split: 15\n"
          ]
        }
      ],
      "source": [
        "folds = split_data(age, gender,n_splits=3)"
      ]
    },
    {
      "cell_type": "code",
      "execution_count": 53,
      "metadata": {
        "_kg_hide-input": true,
        "execution": {
          "iopub.execute_input": "2022-05-31T14:36:53.831108Z",
          "iopub.status.busy": "2022-05-31T14:36:53.830604Z",
          "iopub.status.idle": "2022-05-31T14:36:53.840742Z",
          "shell.execute_reply": "2022-05-31T14:36:53.839721Z",
          "shell.execute_reply.started": "2022-05-31T14:36:53.831052Z"
        },
        "trusted": true,
        "id": "djkCTd91XNSP"
      },
      "outputs": [],
      "source": [
        "reduce_lr = tf.keras.callbacks.ReduceLROnPlateau(\n",
        "    monitor='val_loss', factor=0.1, patience=2, verbose=1, mode='min',\n",
        "    min_delta=0.0001, cooldown=2, min_lr=0\n",
        ")\n",
        "\n",
        "early_stop = tf.keras.callbacks.EarlyStopping(monitor='val_loss', mode='min', verbose=1, patience=3)"
      ]
    },
    {
      "cell_type": "code",
      "execution_count": 60,
      "metadata": {
        "_kg_hide-input": true,
        "execution": {
          "iopub.execute_input": "2022-05-31T14:36:53.913635Z",
          "iopub.status.busy": "2022-05-31T14:36:53.912945Z",
          "iopub.status.idle": "2022-05-31T14:56:24.06372Z",
          "shell.execute_reply": "2022-05-31T14:56:24.059549Z",
          "shell.execute_reply.started": "2022-05-31T14:36:53.913583Z"
        },
        "trusted": true,
        "colab": {
          "base_uri": "https://localhost:8080/",
          "height": 572
        },
        "id": "2odSNCwgXNSQ",
        "outputId": "920527e1-20a5-4f75-d07a-6a8b12b390ed"
      },
      "outputs": [
        {
          "output_type": "stream",
          "name": "stdout",
          "text": [
            "Training model...\n",
            "Epoch 1/20\n",
            "2/1 [================================] - ETA: 0s - loss: 4579.8799 - mean_absolute_error: 66.6515"
          ]
        },
        {
          "output_type": "error",
          "ename": "TypeError",
          "evalue": "ignored",
          "traceback": [
            "\u001b[0;31m---------------------------------------------------------------------------\u001b[0m",
            "\u001b[0;31mTypeError\u001b[0m                                 Traceback (most recent call last)",
            "\u001b[0;32m<ipython-input-60-69950c337e57>\u001b[0m in \u001b[0;36m<module>\u001b[0;34m()\u001b[0m\n\u001b[1;32m     18\u001b[0m               \u001b[0mvalidation_data\u001b[0m\u001b[0;34m=\u001b[0m\u001b[0mshuffle_batch_generator_age\u001b[0m\u001b[0;34m(\u001b[0m\u001b[0mbatch_size\u001b[0m\u001b[0;34m=\u001b[0m\u001b[0mbatchsize\u001b[0m\u001b[0;34m,\u001b[0m \u001b[0mgen_x\u001b[0m\u001b[0;34m=\u001b[0m\u001b[0mgenerate_X_age\u001b[0m\u001b[0;34m(\u001b[0m\u001b[0mecg_filenames\u001b[0m\u001b[0;34m[\u001b[0m\u001b[0mtest_ind\u001b[0m\u001b[0;34m]\u001b[0m\u001b[0;34m,\u001b[0m\u001b[0msamp_freq\u001b[0m\u001b[0;34m=\u001b[0m\u001b[0msamp_freq\u001b[0m\u001b[0;34m,\u001b[0m\u001b[0mnum_leads\u001b[0m\u001b[0;34m=\u001b[0m\u001b[0mnum_leads\u001b[0m\u001b[0;34m)\u001b[0m\u001b[0;34m,\u001b[0m \u001b[0mgen_y\u001b[0m\u001b[0;34m=\u001b[0m\u001b[0mgenerate_y_age\u001b[0m\u001b[0;34m(\u001b[0m\u001b[0mage\u001b[0m\u001b[0;34m[\u001b[0m\u001b[0mtest_ind\u001b[0m\u001b[0;34m]\u001b[0m\u001b[0;34m)\u001b[0m\u001b[0;34m,\u001b[0m\u001b[0mnum_leads\u001b[0m\u001b[0;34m=\u001b[0m\u001b[0mnum_leads\u001b[0m\u001b[0;34m,\u001b[0m\u001b[0mtime\u001b[0m\u001b[0;34m=\u001b[0m\u001b[0mtime\u001b[0m\u001b[0;34m,\u001b[0m \u001b[0msamp_freq\u001b[0m\u001b[0;34m=\u001b[0m\u001b[0msamp_freq\u001b[0m\u001b[0;34m)\u001b[0m\u001b[0;34m,\u001b[0m \u001b[0mvalidation_freq\u001b[0m\u001b[0;34m=\u001b[0m\u001b[0;36m1\u001b[0m\u001b[0;34m,\u001b[0m \u001b[0mvalidation_steps\u001b[0m \u001b[0;34m=\u001b[0m \u001b[0;34m(\u001b[0m\u001b[0mlen\u001b[0m\u001b[0;34m(\u001b[0m\u001b[0mtest_ind\u001b[0m\u001b[0;34m)\u001b[0m\u001b[0;34m/\u001b[0m\u001b[0mbatchsize\u001b[0m\u001b[0;34m)\u001b[0m\u001b[0;34m,\u001b[0m\u001b[0;34m\u001b[0m\u001b[0;34m\u001b[0m\u001b[0m\n\u001b[1;32m     19\u001b[0m               \u001b[0mverbose\u001b[0m \u001b[0;34m=\u001b[0m \u001b[0;36m1\u001b[0m\u001b[0;34m,\u001b[0m\u001b[0;34m\u001b[0m\u001b[0;34m\u001b[0m\u001b[0m\n\u001b[0;32m---> 20\u001b[0;31m               \u001b[0mcallbacks\u001b[0m\u001b[0;34m=\u001b[0m\u001b[0;34m[\u001b[0m\u001b[0mreduce_lr\u001b[0m\u001b[0;34m]\u001b[0m\u001b[0;34m\u001b[0m\u001b[0;34m\u001b[0m\u001b[0m\n\u001b[0m\u001b[1;32m     21\u001b[0m               )\n\u001b[1;32m     22\u001b[0m     \u001b[0mmse_score\u001b[0m \u001b[0;34m=\u001b[0m \u001b[0;34m[\u001b[0m\u001b[0;34m]\u001b[0m\u001b[0;34m\u001b[0m\u001b[0;34m\u001b[0m\u001b[0m\n",
            "\u001b[0;32m/usr/local/lib/python3.7/dist-packages/keras/utils/traceback_utils.py\u001b[0m in \u001b[0;36merror_handler\u001b[0;34m(*args, **kwargs)\u001b[0m\n\u001b[1;32m     65\u001b[0m     \u001b[0;32mexcept\u001b[0m \u001b[0mException\u001b[0m \u001b[0;32mas\u001b[0m \u001b[0me\u001b[0m\u001b[0;34m:\u001b[0m  \u001b[0;31m# pylint: disable=broad-except\u001b[0m\u001b[0;34m\u001b[0m\u001b[0;34m\u001b[0m\u001b[0m\n\u001b[1;32m     66\u001b[0m       \u001b[0mfiltered_tb\u001b[0m \u001b[0;34m=\u001b[0m \u001b[0m_process_traceback_frames\u001b[0m\u001b[0;34m(\u001b[0m\u001b[0me\u001b[0m\u001b[0;34m.\u001b[0m\u001b[0m__traceback__\u001b[0m\u001b[0;34m)\u001b[0m\u001b[0;34m\u001b[0m\u001b[0;34m\u001b[0m\u001b[0m\n\u001b[0;32m---> 67\u001b[0;31m       \u001b[0;32mraise\u001b[0m \u001b[0me\u001b[0m\u001b[0;34m.\u001b[0m\u001b[0mwith_traceback\u001b[0m\u001b[0;34m(\u001b[0m\u001b[0mfiltered_tb\u001b[0m\u001b[0;34m)\u001b[0m \u001b[0;32mfrom\u001b[0m \u001b[0;32mNone\u001b[0m\u001b[0;34m\u001b[0m\u001b[0;34m\u001b[0m\u001b[0m\n\u001b[0m\u001b[1;32m     68\u001b[0m     \u001b[0;32mfinally\u001b[0m\u001b[0;34m:\u001b[0m\u001b[0;34m\u001b[0m\u001b[0;34m\u001b[0m\u001b[0m\n\u001b[1;32m     69\u001b[0m       \u001b[0;32mdel\u001b[0m \u001b[0mfiltered_tb\u001b[0m\u001b[0;34m\u001b[0m\u001b[0;34m\u001b[0m\u001b[0m\n",
            "\u001b[0;32m/usr/lib/python3.7/contextlib.py\u001b[0m in \u001b[0;36m__enter__\u001b[0;34m(self)\u001b[0m\n\u001b[1;32m    110\u001b[0m         \u001b[0;32mdel\u001b[0m \u001b[0mself\u001b[0m\u001b[0;34m.\u001b[0m\u001b[0margs\u001b[0m\u001b[0;34m,\u001b[0m \u001b[0mself\u001b[0m\u001b[0;34m.\u001b[0m\u001b[0mkwds\u001b[0m\u001b[0;34m,\u001b[0m \u001b[0mself\u001b[0m\u001b[0;34m.\u001b[0m\u001b[0mfunc\u001b[0m\u001b[0;34m\u001b[0m\u001b[0;34m\u001b[0m\u001b[0m\n\u001b[1;32m    111\u001b[0m         \u001b[0;32mtry\u001b[0m\u001b[0;34m:\u001b[0m\u001b[0;34m\u001b[0m\u001b[0;34m\u001b[0m\u001b[0m\n\u001b[0;32m--> 112\u001b[0;31m             \u001b[0;32mreturn\u001b[0m \u001b[0mnext\u001b[0m\u001b[0;34m(\u001b[0m\u001b[0mself\u001b[0m\u001b[0;34m.\u001b[0m\u001b[0mgen\u001b[0m\u001b[0;34m)\u001b[0m\u001b[0;34m\u001b[0m\u001b[0;34m\u001b[0m\u001b[0m\n\u001b[0m\u001b[1;32m    113\u001b[0m         \u001b[0;32mexcept\u001b[0m \u001b[0mStopIteration\u001b[0m\u001b[0;34m:\u001b[0m\u001b[0;34m\u001b[0m\u001b[0;34m\u001b[0m\u001b[0m\n\u001b[1;32m    114\u001b[0m             \u001b[0;32mraise\u001b[0m \u001b[0mRuntimeError\u001b[0m\u001b[0;34m(\u001b[0m\u001b[0;34m\"generator didn't yield\"\u001b[0m\u001b[0;34m)\u001b[0m \u001b[0;32mfrom\u001b[0m \u001b[0;32mNone\u001b[0m\u001b[0;34m\u001b[0m\u001b[0;34m\u001b[0m\u001b[0m\n",
            "\u001b[0;31mTypeError\u001b[0m: Cannot convert 0.9375 to EagerTensor of dtype int64"
          ]
        }
      ],
      "source": [
        "samp_freq = 100\n",
        "time = 10\n",
        "num_leads = 12\n",
        "batchsize = 16\n",
        "epoch = 20\n",
        "mae_score_total = []\n",
        "\n",
        "print(\"Training model...\")\n",
        "for i in range(len(folds)):\n",
        "    train_ind = folds[i][0]\n",
        "    test_ind = folds[i][1]\n",
        "\n",
        "    \n",
        "    model = attia_network_age(samp_freq,time,num_leads) # velg modell\n",
        "    #model = build_model((samp_freq*time,num_leads), 1)\n",
        "    model.fit(x=shuffle_batch_generator_age(batch_size=batchsize, gen_x=generate_X_age(ecg_filenames[train_ind],samp_freq=samp_freq,num_leads=num_leads), gen_y=generate_y_age(age[train_ind]),num_leads=num_leads, time=time, samp_freq=samp_freq), epochs=epoch, \n",
        "              steps_per_epoch=(len(train_ind)/batchsize), \n",
        "              validation_data=shuffle_batch_generator_age(batch_size=batchsize, gen_x=generate_X_age(ecg_filenames[test_ind],samp_freq=samp_freq,num_leads=num_leads), gen_y=generate_y_age(age[test_ind]),num_leads=num_leads,time=time, samp_freq=samp_freq), validation_freq=1, validation_steps = (len(test_ind)/batchsize),\n",
        "              verbose = 1, \n",
        "              callbacks=[reduce_lr]\n",
        "              )\n",
        "    mse_score = []\n",
        "    mae_score = []\n",
        "    f1_score = []\n",
        "    acc_score = []\n",
        "    pred_age = []\n",
        "    true_age = []\n",
        "    for j in tqdm.tqdm(test_ind):\n",
        "        data, header_data = load_challenge_data(ecg_filenames[j])\n",
        "        if int(header_data[0].split(\" \")[2]) != samp_freq:\n",
        "            data_new = np.ones([num_leads,int((int(header_data[0].split(\" \")[3])/int(header_data[0].split(\" \")[2]))*samp_freq)])\n",
        "            for k,l in enumerate(data):\n",
        "                data_new[k] = signal.resample(l, int((int(header_data[0].split(\" \")[3])/int(header_data[0].split(\" \")[2]))*samp_freq))\n",
        "            data = data_new\n",
        "            data = pad_sequences(data, maxlen=samp_freq*10, truncating='post',padding=\"post\")\n",
        "        data = np.moveaxis(data, 0, -1)\n",
        "        #y_true = gender[j]\n",
        "        y_true = age[j]\n",
        "        true_age.append(y_true)\n",
        "        y_hat = model.predict(np.expand_dims(data, axis=0))\n",
        "        pred_age.append(y_hat)\n",
        "        mse_score.append(mean_squared_error(np.expand_dims(y_true,axis=0),y_hat.ravel()))\n",
        "        mae_score.append(mean_absolute_error(np.expand_dims(y_true,axis=0),y_hat.ravel()))\n",
        "        #acc_score.append(accuracy_score(np.expand_dims(y_true,axis=0),y_hat.ravel()))\n",
        "        #f1_score.append(f1_sccore(np.expand_dims(y_true,axis=0),y_hat.ravel()))\n",
        "    mse_score = np.asarray(mse_score).mean()\n",
        "    mae_score = np.asarray(mae_score).mean()\n",
        "    #acc_score = np.asarray(acc_score).mean()\n",
        "    #f1_score = np.asarray(f1_score).mean()\n",
        "    print(\"MAE score {}\".format(mae_score))\n",
        "    #print(\"Accuracy score {}\".format(acc_score))\n",
        "    #print(\"F1 score {}\".format(f1_score))\n",
        "    print(\"MSE score {}\".format(mse_score))\n",
        "    mae_score_total.append(mae_score)\n",
        "\n"
      ]
    },
    {
      "cell_type": "code",
      "execution_count": null,
      "metadata": {
        "execution": {
          "iopub.status.busy": "2022-05-31T14:56:24.065637Z",
          "iopub.status.idle": "2022-05-31T14:56:24.067035Z"
        },
        "trusted": true,
        "id": "07tau-1QXNSQ"
      },
      "outputs": [],
      "source": [
        "print(\"mean MAE score {}\".format(np.asarray(mae_score_total).mean()))\n",
        "print(\"std MAE score {}\".format(np.asarray(mae_score_total).std()))"
      ]
    },
    {
      "cell_type": "code",
      "execution_count": null,
      "metadata": {
        "_kg_hide-input": true,
        "execution": {
          "iopub.status.busy": "2022-05-31T14:56:24.068859Z",
          "iopub.status.idle": "2022-05-31T14:56:24.070237Z"
        },
        "trusted": true,
        "id": "ddVESHbqXNSR"
      },
      "outputs": [],
      "source": [
        "d = {\"True age\": np.asarray(true_age).ravel(), 'Predicted age': np.asarray(pred_age).ravel(),'Error': abs(np.asarray(true_age).ravel() - np.asarray(pred_age).ravel())}\n",
        "df = pd.DataFrame(data = d)"
      ]
    },
    {
      "cell_type": "markdown",
      "metadata": {
        "id": "yYYEAQZSXNSR"
      },
      "source": [
        "## Analysis:\n"
      ]
    },
    {
      "cell_type": "markdown",
      "metadata": {
        "id": "e_6priVYXNSR"
      },
      "source": [
        "### Predicted vs actual age - Numbers of true and predicted ages "
      ]
    },
    {
      "cell_type": "code",
      "execution_count": null,
      "metadata": {
        "_kg_hide-input": true,
        "execution": {
          "iopub.status.busy": "2022-05-31T14:56:24.072139Z",
          "iopub.status.idle": "2022-05-31T14:56:24.073524Z"
        },
        "trusted": true,
        "id": "gEdKwY-6XNSS"
      },
      "outputs": [],
      "source": [
        "plt.figure(figsize=(30,15))\n",
        "plt.hist(df[\"Predicted age\"], bins=100, label=\"Predicted age\", alpha=0.6)\n",
        "plt.hist(df[\"True age\"], bins=100, label=\"True age\", alpha=0.6)\n",
        "plt.legend()\n",
        "plt.xlim(0,100)\n",
        "plt.xlabel(\"Age\")\n",
        "plt.ylabel(\"Number of patients\")\n",
        "plt.show()"
      ]
    },
    {
      "cell_type": "markdown",
      "metadata": {
        "id": "yf1DW4chXNSS"
      },
      "source": [
        "### Comparing the predicted age vs the acual age. The red line shows the correct age, while the green line shows the result of the best linear fit based on the predicted age"
      ]
    },
    {
      "cell_type": "code",
      "execution_count": null,
      "metadata": {
        "_kg_hide-input": true,
        "execution": {
          "iopub.status.busy": "2022-05-31T14:56:24.075269Z",
          "iopub.status.idle": "2022-05-31T14:56:24.076658Z"
        },
        "trusted": true,
        "id": "IgIw1TrVXNSS"
      },
      "outputs": [],
      "source": [
        "slope, intercept, r_value, p_value, std_err = stats.linregress(df[\"True age\"],df[\"Predicted age\"])\n",
        "reg_line = (np.arange(101)*slope) + intercept\n",
        "plt.figure(figsize=(30,15))\n",
        "sns.set(font_scale=2)\n",
        "sns.scatterplot(data=df, x=\"True age\", y=\"Predicted age\")\n",
        "sns.set(font_scale=5)\n",
        "plt.plot(np.arange(101),'red', label=\"1x + 0\")\n",
        "plt.plot(reg_line,'green', label = \"{}x + {}\".format(round(slope,2), round(intercept,2)))\n",
        "plt.legend(fontsize=20)\n",
        "plt.xticks(fontsize=20)\n",
        "plt.yticks(fontsize=20)\n",
        "plt.show()"
      ]
    },
    {
      "cell_type": "markdown",
      "metadata": {
        "id": "2JcFI7I2XNSS"
      },
      "source": [
        "### Comparing the predicted age vs the acual age seen as box plot. From this we can see which ages that are predicted most accurate and uncertain by the model. The red line shows the correct age, while the green line shows the result of the best linear fit based on the predicted age"
      ]
    },
    {
      "cell_type": "code",
      "execution_count": null,
      "metadata": {
        "_kg_hide-input": true,
        "execution": {
          "iopub.status.busy": "2022-05-31T14:56:24.078533Z",
          "iopub.status.idle": "2022-05-31T14:56:24.079726Z"
        },
        "trusted": true,
        "id": "9VTpExopXNST"
      },
      "outputs": [],
      "source": [
        "plt.figure(figsize=(30,15))\n",
        "sns.set(font_scale=2)\n",
        "sns.boxplot(data=df, x=\"True age\", y=\"Predicted age\")\n",
        "plt.plot(np.arange(101),'red', label=\"1x + 0\")\n",
        "plt.plot(reg_line,'green', label = \"{}x + {}\".format(round(slope,2), round(intercept,2)))\n",
        "plt.xticks(fontsize=12)\n",
        "plt.legend()\n",
        "plt.xlim(0,100)\n",
        "plt.show()"
      ]
    },
    {
      "cell_type": "markdown",
      "metadata": {
        "id": "IVjhocU6XNST"
      },
      "source": [
        "### Total absoulte error between real and predicted age for each year"
      ]
    },
    {
      "cell_type": "code",
      "execution_count": null,
      "metadata": {
        "_kg_hide-input": true,
        "execution": {
          "iopub.status.busy": "2022-05-31T14:56:24.081678Z",
          "iopub.status.idle": "2022-05-31T14:56:24.082857Z"
        },
        "trusted": true,
        "id": "-CzVOp-GXNST"
      },
      "outputs": [],
      "source": [
        "plt.figure(figsize=(30,15))\n",
        "sns.barplot(x=\"True age\", y=\"Error\",data=df.groupby(\"True age\").sum().reset_index())\n",
        "plt.ylabel(\"Total absolute error pr age\")\n",
        "plt.xticks(fontsize=12)\n",
        "plt.show()"
      ]
    },
    {
      "cell_type": "markdown",
      "metadata": {
        "id": "wJpRjKCzXNST"
      },
      "source": [
        "### Mean absoulte error between real and predicted age for each year"
      ]
    },
    {
      "cell_type": "code",
      "execution_count": null,
      "metadata": {
        "_kg_hide-input": true,
        "execution": {
          "iopub.status.busy": "2022-05-31T14:56:24.084709Z",
          "iopub.status.idle": "2022-05-31T14:56:24.085999Z"
        },
        "trusted": true,
        "id": "cfsn9MVhXNST"
      },
      "outputs": [],
      "source": [
        "df_err = df.groupby(\"True age\").sum().reset_index()\n",
        "df_err[\"count\"] = df.groupby(\"True age\").count()[\"Error\"]\n",
        "df_err[\"count\"] = df_err[\"count\"].fillna(0)\n",
        "df_err[\"Mean Error\"] = df_err[\"Error\"]/df_err[\"count\"]\n",
        "\n",
        "plt.figure(figsize=(30,15))\n",
        "sns.barplot(x=\"True age\", y=\"Mean Error\",data=df_err)\n",
        "plt.ylabel(\"Mean absoulte error pr age\")\n",
        "plt.xticks(fontsize=12)\n",
        "plt.show()"
      ]
    },
    {
      "cell_type": "code",
      "execution_count": null,
      "metadata": {
        "_kg_hide-input": true,
        "execution": {
          "iopub.status.busy": "2022-05-31T14:56:24.087962Z",
          "iopub.status.idle": "2022-05-31T14:56:24.089153Z"
        },
        "trusted": true,
        "id": "MV81RT4hXNSU"
      },
      "outputs": [],
      "source": [
        "snomed_ct_codes = np.array([\"164889003\",\"164890007\",\"6374002\",\"426627000\",\"733534002\",\"713427006\",\"270492004\",\"713426002\",\"39732003\",\"445118002\",\"164909002\",\"251146004\",\"698252002\",\"426783006\",\"284470004\",\n",
        " \"10370003\",\"365413008\",\"427172004\",\"164947007\",\"111975006\",\"164917005\",\"47665007\",\"59118001\",\"427393009\",\"426177001\",\"427084000\",\"63593006\",\"164934002\",\"59931005\",\"17338001\"])\n"
      ]
    },
    {
      "cell_type": "code",
      "execution_count": null,
      "metadata": {
        "_kg_hide-input": true,
        "execution": {
          "iopub.status.busy": "2022-05-31T14:56:24.091102Z",
          "iopub.status.idle": "2022-05-31T14:56:24.092371Z"
        },
        "trusted": true,
        "id": "fRF4pNrWXNSU"
      },
      "outputs": [],
      "source": [
        "diagnoses = np.array([\"atrial fibrillation\",\"atrial flutter\",\"bundle branch block\",\"bradycardia\",\"complete left bundle branch block\",\"complete right bundle branch block\",\"1st degree av block\",\"incomplete right bundle branch block\",\"left axis deviation\",\"left anterior fascicular block\",\n",
        "\"left bundle branch block\",\"low qrs voltages\",\"nonspecific intraventricular conduction disorder\",\"sinus rhythm\",\"premature atrial contraction\",\"pacing rhythm\",\"poor R wave Progression\",\"premature ventricular contractions\",\"prolonged pr interval\",\"prolonged qt interval\",\n",
        "\"qwave abnormal\",\"right axis deviation\",\"right bundle branch block\",\"sinus arrhythmia\",\"sinus bradycardia\",\"sinus tachycardia\",\"supraventricular premature beats\",\"t wave abnormal\",\"t wave inversion\",\"ventricular premature beats\"])\n"
      ]
    },
    {
      "cell_type": "code",
      "execution_count": null,
      "metadata": {
        "_kg_hide-input": true,
        "execution": {
          "iopub.status.busy": "2022-05-31T14:56:24.097339Z",
          "iopub.status.idle": "2022-05-31T14:56:24.09863Z"
        },
        "trusted": true,
        "id": "11id43j6XNSU"
      },
      "outputs": [],
      "source": [
        "val_ecg_filenames =np.asarray(ecg_filenames)[test_ind]"
      ]
    },
    {
      "cell_type": "code",
      "execution_count": null,
      "metadata": {
        "_kg_hide-input": true,
        "execution": {
          "iopub.status.busy": "2022-05-31T14:56:24.10041Z",
          "iopub.status.idle": "2022-05-31T14:56:24.101745Z"
        },
        "trusted": true,
        "id": "oDnKm5SkXNSU"
      },
      "outputs": [],
      "source": [
        "classes = set()\n",
        "for ecg_file in tqdm.tqdm(val_ecg_filenames):\n",
        "    header_file = ecg_file.replace('.mat','.hea')\n",
        "    header = load_header(header_file)\n",
        "    classes |= set(get_labels(header))\n",
        "if all(is_integer(x) for x in classes):\n",
        "    classes = sorted(classes, key=lambda x: int(x)) # Sort classes numerically if numbers.\n",
        "else:\n",
        "    classes = sorted(classes) # Sort classes alphanumerically if not numbers.\n",
        "num_classes = len(classes)"
      ]
    },
    {
      "cell_type": "code",
      "execution_count": null,
      "metadata": {
        "_kg_hide-input": true,
        "execution": {
          "iopub.status.busy": "2022-05-31T14:56:24.103461Z",
          "iopub.status.idle": "2022-05-31T14:56:24.104717Z"
        },
        "trusted": true,
        "id": "lZkswQedXNSU"
      },
      "outputs": [],
      "source": [
        "scored_classes = []\n",
        "for i in classes:\n",
        "    for j in snomed_ct_codes:\n",
        "        if i == '':\n",
        "            continue\n",
        "        if i == j:\n",
        "            scored_classes.append(i)\n",
        "scored_classes = sorted(scored_classes)"
      ]
    },
    {
      "cell_type": "code",
      "execution_count": null,
      "metadata": {
        "_kg_hide-input": true,
        "execution": {
          "iopub.status.busy": "2022-05-31T14:56:24.106558Z",
          "iopub.status.idle": "2022-05-31T14:56:24.107807Z"
        },
        "trusted": true,
        "id": "WOsIN9YlXNSV"
      },
      "outputs": [],
      "source": [
        "class_names = []\n",
        "for j in range(len(scored_classes)):\n",
        "    for i in range(len(snomed_ct_codes)):\n",
        "        if (str(snomed_ct_codes[i]) == scored_classes[j]):\n",
        "            class_names.append(diagnoses[i])"
      ]
    },
    {
      "cell_type": "code",
      "execution_count": null,
      "metadata": {
        "_kg_hide-input": true,
        "execution": {
          "iopub.status.busy": "2022-05-31T14:56:24.109697Z",
          "iopub.status.idle": "2022-05-31T14:56:24.110927Z"
        },
        "trusted": true,
        "id": "t-r_AW8JXNSV"
      },
      "outputs": [],
      "source": [
        "num_recordings = len(val_ecg_filenames)\n",
        "num_classes = len(scored_classes)\n",
        "val_labels = np.zeros((num_recordings, num_classes), dtype=np.bool) # One-hot encoding of classes\n",
        "\n",
        "for i in range(len(val_ecg_filenames)):\n",
        "    current_labels = get_labels(load_header(val_ecg_filenames[i].replace('.mat','.hea')))\n",
        "    for lab in current_labels:\n",
        "        if lab in scored_classes:\n",
        "            j = scored_classes.index(lab)\n",
        "        val_labels[i, j] = 1\n",
        "val_labels = val_labels * 1"
      ]
    },
    {
      "cell_type": "markdown",
      "metadata": {
        "id": "ToLGSw63XNSV"
      },
      "source": [
        "### Comparing the predicted age vs the actual age for 30 different cardiovascular diseases. The red line shows the correct age, while the green line shows the result of the best linear fit based on the predicted age"
      ]
    },
    {
      "cell_type": "code",
      "execution_count": null,
      "metadata": {
        "_kg_hide-input": true,
        "execution": {
          "iopub.status.busy": "2022-05-31T14:56:24.112789Z",
          "iopub.status.idle": "2022-05-31T14:56:24.114039Z"
        },
        "trusted": true,
        "id": "wLPY2sOQXNSV"
      },
      "outputs": [],
      "source": [
        "fig, ax = plt.subplots(6, 5, sharex=True, sharey=True)\n",
        "fig.set_figheight(46)\n",
        "fig.set_figwidth(46)\n",
        "cnt = 0\n",
        "cnt_2 = 0\n",
        "for i in range(30):\n",
        "    TE = np.asarray(df.iloc[np.where(val_labels[:,i]==1)[0]][\"True age\"] - df.iloc[np.where(val_labels[:,i]==1)[0]][\"Predicted age\"]).sum()\n",
        "    MAE = np.asarray(abs(df.iloc[np.where(val_labels[:,i]==1)[0]][\"True age\"] - df.iloc[np.where(val_labels[:,i]==1)[0]][\"Predicted age\"])).sum()/len(np.asarray(df.iloc[np.where(val_labels[:,i]==1)[0]][\"True age\"] - df.iloc[np.where(val_labels[:,i]==1)[0]][\"Predicted age\"]))\n",
        "    slope, intercept, r_value, p_value, std_err = stats.linregress(df.iloc[np.where(val_labels[:,i]==1)[0]][\"True age\"],df.iloc[np.where(val_labels[:,i]==1)[0]][\"Predicted age\"])\n",
        "    ax[cnt_2,cnt].set_title(class_names[i] + \", MAE= {}\".format(round(MAE,2)))\n",
        "    df_temp = df.iloc[np.where(val_labels[:,i]==1)[0]]\n",
        "    ax[cnt_2,cnt].scatter(df_temp[\"True age\"],df_temp[\"Predicted age\"])\n",
        "    #sns.scatterplot(data=df.iloc[np.where(val_labels[:,i]==1)[0]], x=\"True age\", y=\"Predicted age\")\n",
        "    ax[cnt_2,cnt].plot(np.arange(101),'red', label=\"1x + 0\")\n",
        "    ax[cnt_2,cnt].plot(reg_line,'green', label = \"{}x + {}\".format(round(slope,2), round(intercept,2)))\n",
        "    ax[cnt_2,cnt].set_xlabel(\"True age\")\n",
        "    ax[cnt_2,cnt].set_ylabel(\"Predicted age\")\n",
        "    ax[cnt_2,cnt].legend()\n",
        "    cnt += 1\n",
        "    if cnt == 5:\n",
        "        cnt_2 += 1\n",
        "        cnt = 0\n",
        "\n"
      ]
    }
  ],
  "metadata": {
    "kernelspec": {
      "display_name": "Python 3",
      "language": "python",
      "name": "python3"
    },
    "language_info": {
      "codemirror_mode": {
        "name": "ipython",
        "version": 3
      },
      "file_extension": ".py",
      "mimetype": "text/x-python",
      "name": "python",
      "nbconvert_exporter": "python",
      "pygments_lexer": "ipython3",
      "version": "3.6.4"
    },
    "colab": {
      "name": "age-estimation-of-women-using-cnn-on-12-lead-ecg.ipynb",
      "provenance": [],
      "collapsed_sections": []
    }
  },
  "nbformat": 4,
  "nbformat_minor": 0
}