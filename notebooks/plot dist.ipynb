{
  "cells": [
    {
      "cell_type": "markdown",
      "metadata": {
        "id": "A0dKQrMzXNR_"
      },
      "source": [
        "# <center> Final training of Age estimation model </center>\n",
        "\n"
      ]
    },
    {
      "cell_type": "code",
      "execution_count": 1,
      "metadata": {
        "colab": {
          "base_uri": "https://localhost:8080/"
        },
        "id": "h-wFUDFP50F2",
        "outputId": "eb25005e-c678-4a78-9ba4-db19c376d24e"
      },
      "outputs": [
        {
          "output_type": "stream",
          "name": "stdout",
          "text": [
            "Looking in indexes: https://pypi.org/simple, https://us-python.pkg.dev/colab-wheels/public/simple/\n",
            "Collecting GitPython\n",
            "  Downloading GitPython-3.1.29-py3-none-any.whl (182 kB)\n",
            "\u001b[K     |████████████████████████████████| 182 kB 14.1 MB/s \n",
            "\u001b[?25hRequirement already satisfied: typing-extensions>=3.7.4.3 in /usr/local/lib/python3.7/dist-packages (from GitPython) (4.1.1)\n",
            "Collecting gitdb<5,>=4.0.1\n",
            "  Downloading gitdb-4.0.10-py3-none-any.whl (62 kB)\n",
            "\u001b[K     |████████████████████████████████| 62 kB 603 kB/s \n",
            "\u001b[?25hCollecting smmap<6,>=3.0.1\n",
            "  Downloading smmap-5.0.0-py3-none-any.whl (24 kB)\n",
            "Installing collected packages: smmap, gitdb, GitPython\n",
            "Successfully installed GitPython-3.1.29 gitdb-4.0.10 smmap-5.0.0\n"
          ]
        }
      ],
      "source": [
        "!pip install GitPython\n",
        "from git import Repo"
      ]
    },
    {
      "cell_type": "code",
      "execution_count": 2,
      "metadata": {
        "colab": {
          "base_uri": "https://localhost:8080/"
        },
        "id": "GxnaopyB9CC3",
        "outputId": "309ca906-1cba-47e9-ad2d-db25293fe955"
      },
      "outputs": [
        {
          "output_type": "stream",
          "name": "stdout",
          "text": [
            "Looking in indexes: https://pypi.org/simple, https://us-python.pkg.dev/colab-wheels/public/simple/\n",
            "Collecting wget\n",
            "  Downloading wget-3.2.zip (10 kB)\n",
            "Building wheels for collected packages: wget\n",
            "  Building wheel for wget (setup.py) ... \u001b[?25l\u001b[?25hdone\n",
            "  Created wheel for wget: filename=wget-3.2-py3-none-any.whl size=9674 sha256=a9d07961f6a128411c6947904d71963d142cece36619bf9feb58d9cb8421ebe3\n",
            "  Stored in directory: /root/.cache/pip/wheels/a1/b6/7c/0e63e34eb06634181c63adacca38b79ff8f35c37e3c13e3c02\n",
            "Successfully built wget\n",
            "Installing collected packages: wget\n",
            "Successfully installed wget-3.2\n"
          ]
        }
      ],
      "source": [
        "!pip install wget"
      ]
    },
    {
      "cell_type": "code",
      "execution_count": 3,
      "metadata": {
        "colab": {
          "base_uri": "https://localhost:8080/"
        },
        "id": "ZAshTjBx9Ku5",
        "outputId": "def2e609-0214-4044-df84-3feebb1ccbe1"
      },
      "outputs": [
        {
          "output_type": "stream",
          "name": "stdout",
          "text": [
            "kaggle.json\n",
            "/bin/bash: -c: line 0: unexpected EOF while looking for matching `''\n",
            "/bin/bash: -c: line 1: syntax error: unexpected end of file\n"
          ]
        }
      ],
      "source": [
        "!mkdir -p ~/.kaggle\n",
        "!cp kaggle.json ~/.kaggle/\n",
        "!ls ~/.kaggle\n",
        "!chmod 600 /root/.kaggle/kaggle.json'"
      ]
    },
    {
      "cell_type": "code",
      "source": [
        "HTTPS_REMOTE_URL = 'https://github.com/Bsingstad/ECG-age.git'\n",
        "DEST_NAME = 'ecg_age'\n",
        "cloned_repo = Repo.clone_from(HTTPS_REMOTE_URL, DEST_NAME)"
      ],
      "metadata": {
        "id": "0gL-joXgrNX3"
      },
      "execution_count": 14,
      "outputs": []
    },
    {
      "cell_type": "code",
      "execution_count": 4,
      "metadata": {
        "colab": {
          "base_uri": "https://localhost:8080/"
        },
        "id": "XX8Ht9i69dgA",
        "outputId": "bf625630-8e98-4869-c362-71244f3ccdc4"
      },
      "outputs": [
        {
          "output_type": "stream",
          "name": "stdout",
          "text": [
            "Warning: Your Kaggle API key is readable by other users on this system! To fix this, you can run 'chmod 600 /root/.kaggle/kaggle.json'\n",
            "Downloading georgia-12lead-ecg-challenge-database.zip to /content\n",
            " 99% 479M/483M [00:16<00:00, 32.4MB/s]\n",
            "100% 483M/483M [00:17<00:00, 29.6MB/s]\n",
            "Warning: Your Kaggle API key is readable by other users on this system! To fix this, you can run 'chmod 600 /root/.kaggle/kaggle.json'\n",
            "Downloading st-petersburg-incart-12lead-arrhythmia-database.zip to /content\n",
            "100% 564M/564M [00:19<00:00, 34.7MB/s]\n",
            "100% 564M/564M [00:19<00:00, 30.2MB/s]\n",
            "Warning: Your Kaggle API key is readable by other users on this system! To fix this, you can run 'chmod 600 /root/.kaggle/kaggle.json'\n",
            "Downloading china-12lead-ecg-challenge-database.zip to /content\n",
            " 99% 401M/406M [00:14<00:00, 36.3MB/s]\n",
            "100% 406M/406M [00:14<00:00, 29.1MB/s]\n",
            "Warning: Your Kaggle API key is readable by other users on this system! To fix this, you can run 'chmod 600 /root/.kaggle/kaggle.json'\n",
            "Downloading china-physiological-signal-challenge-in-2018.zip to /content\n",
            "100% 822M/824M [00:27<00:00, 35.7MB/s]\n",
            "100% 824M/824M [00:27<00:00, 31.8MB/s]\n",
            "Warning: Your Kaggle API key is readable by other users on this system! To fix this, you can run 'chmod 600 /root/.kaggle/kaggle.json'\n",
            "Downloading chapmanshaoxing-12lead-ecg-database.zip to /content\n",
            " 99% 543M/547M [00:18<00:00, 37.1MB/s]\n",
            "100% 547M/547M [00:18<00:00, 30.9MB/s]\n",
            "Warning: Your Kaggle API key is readable by other users on this system! To fix this, you can run 'chmod 600 /root/.kaggle/kaggle.json'\n",
            "Downloading ningbo-first-hospital-12lead-ecg-database.zip to /content\n",
            "100% 1.78G/1.78G [00:59<00:00, 28.5MB/s]\n",
            "100% 1.78G/1.78G [00:59<00:00, 31.9MB/s]\n",
            "Warning: Your Kaggle API key is readable by other users on this system! To fix this, you can run 'chmod 600 /root/.kaggle/kaggle.json'\n",
            "Downloading physionet-challenge-2021-snomed-mappings.zip to /content\n",
            "  0% 0.00/4.13k [00:00<?, ?B/s]\n",
            "100% 4.13k/4.13k [00:00<00:00, 3.80MB/s]\n"
          ]
        }
      ],
      "source": [
        "!kaggle datasets download -d bjoernjostein/georgia-12lead-ecg-challenge-database\n",
        "!kaggle datasets download -d bjoernjostein/st-petersburg-incart-12lead-arrhythmia-database\n",
        "!kaggle datasets download -d bjoernjostein/china-12lead-ecg-challenge-database\n",
        "!kaggle datasets download -d bjoernjostein/china-physiological-signal-challenge-in-2018\n",
        "!kaggle datasets download -d erarayamorenzomuten/chapmanshaoxing-12lead-ecg-database\n",
        "!kaggle datasets download -d erarayamorenzomuten/ningbo-first-hospital-12lead-ecg-database\n",
        "\n",
        "!kaggle datasets download -d bjoernjostein/physionet-challenge-2021-snomed-mappings"
      ]
    },
    {
      "cell_type": "code",
      "execution_count": 5,
      "metadata": {
        "id": "vDRLPbh-96DT"
      },
      "outputs": [],
      "source": [
        "import os, zipfile\n",
        "\n",
        "dir_name = \"./\"\n",
        "extension = \".zip\"\n",
        " \n",
        "os.chdir(dir_name) # change directory from working dir to dir with files\n",
        "\n",
        "for item in os.listdir(dir_name): # loop through items in dir\n",
        "    if item.endswith(extension): # check for \".zip\" extension\n",
        "        file_name = os.path.abspath(item) # get full path of files\n",
        "        zip_ref = zipfile.ZipFile(file_name) # create zipfile object\n",
        "        zip_ref.extractall(dir_name) # extract file to dir\n",
        "        zip_ref.close() # close file\n",
        "        os.remove(file_name) # delete zipped file"
      ]
    },
    {
      "cell_type": "code",
      "execution_count": 8,
      "metadata": {
        "id": "zpTuYst398gs"
      },
      "outputs": [],
      "source": [
        "import shutil\n",
        "import os\n",
        "os.mkdir(\"/content/traindata/\")\n",
        "sources = ['Training_2/',  'Training_StPetersburg/','Training_WFDB/','WFDB_ChapmanShaoxing/', 'WFDB_Ningbo/', \"WFDB/\"]\n",
        "dest1 = '/content/traindata/'\n",
        "\n",
        "\n",
        "for s in sources:\n",
        "  files = os.listdir(s)\n",
        "  for f in files:\n",
        "      shutil.move(s+f, dest1)"
      ]
    },
    {
      "cell_type": "code",
      "source": [
        "!kaggle datasets download -d bjoernjostein/ptbxl-electrocardiography-database"
      ],
      "metadata": {
        "id": "4VNGzz_Kor4h",
        "outputId": "92d987cd-5199-451e-a000-e79a279117fd",
        "colab": {
          "base_uri": "https://localhost:8080/"
        }
      },
      "execution_count": 9,
      "outputs": [
        {
          "output_type": "stream",
          "name": "stdout",
          "text": [
            "Warning: Your Kaggle API key is readable by other users on this system! To fix this, you can run 'chmod 600 /root/.kaggle/kaggle.json'\n",
            "Downloading ptbxl-electrocardiography-database.zip to /content\n",
            "100% 1.35G/1.35G [00:47<00:00, 34.9MB/s]\n",
            "100% 1.35G/1.35G [00:47<00:00, 30.5MB/s]\n"
          ]
        }
      ]
    },
    {
      "cell_type": "code",
      "source": [
        "import os, zipfile\n",
        "\n",
        "dir_name = \"./\"\n",
        "extension = \".zip\"\n",
        " \n",
        "os.chdir(dir_name) # change directory from working dir to dir with files\n",
        "\n",
        "for item in os.listdir(dir_name): # loop through items in dir\n",
        "    if item.endswith(extension): # check for \".zip\" extension\n",
        "        file_name = os.path.abspath(item) # get full path of files\n",
        "        zip_ref = zipfile.ZipFile(file_name) # create zipfile object\n",
        "        zip_ref.extractall(dir_name) # extract file to dir\n",
        "        zip_ref.close() # close file\n",
        "        os.remove(file_name) # delete zipped file"
      ],
      "metadata": {
        "id": "k1StLW8Kox9O"
      },
      "execution_count": 10,
      "outputs": []
    },
    {
      "cell_type": "code",
      "source": [
        "import shutil\n",
        "import os\n",
        "os.mkdir(\"/content/testdata\")\n",
        "sources = [\"WFDB/\"]\n",
        "dest1 = '/content/testdata/'\n",
        "\n",
        "\n",
        "for s in sources:\n",
        "  files = os.listdir(s)\n",
        "  for f in files:\n",
        "      shutil.move(s+f, dest1)"
      ],
      "metadata": {
        "id": "gsNbhpfno0Ph"
      },
      "execution_count": 11,
      "outputs": []
    },
    {
      "cell_type": "code",
      "execution_count": 15,
      "metadata": {
        "id": "Rcmhr7MGXNSI"
      },
      "outputs": [],
      "source": [
        "from ecg_age.src.helpers.helpers import *\n",
        "from ecg_age.src.models.models import *"
      ]
    },
    {
      "cell_type": "code",
      "execution_count": 17,
      "metadata": {
        "_kg_hide-input": true,
        "execution": {
          "iopub.execute_input": "2022-05-31T14:25:18.521174Z",
          "iopub.status.busy": "2022-05-31T14:25:18.520855Z",
          "iopub.status.idle": "2022-05-31T14:25:25.957466Z",
          "shell.execute_reply": "2022-05-31T14:25:25.955896Z",
          "shell.execute_reply.started": "2022-05-31T14:25:18.521144Z"
        },
        "id": "BmvpEhIaXNSJ",
        "trusted": true
      },
      "outputs": [],
      "source": [
        "import pandas as pd\n",
        "from scipy import stats\n",
        "import numpy as np\n",
        "import matplotlib.pyplot as plt\n",
        "import seaborn as sns\n",
        "import tensorflow as tf\n",
        "import tqdm\n",
        "from scipy import signal\n",
        "from tensorflow import keras\n",
        "#from keras.preprocessing.sequence import pad_sequences\n",
        "from sklearn.preprocessing import LabelEncoder\n",
        "from sklearn.utils.class_weight import compute_class_weight\n",
        "from sklearn.metrics import roc_auc_score\n",
        "from scipy.io import loadmat\n",
        "from sklearn.preprocessing import MultiLabelBinarizer\n",
        "from sklearn.model_selection import StratifiedKFold\n",
        "from sklearn.metrics import confusion_matrix\n",
        "from sklearn.metrics import mean_absolute_error\n",
        "from sklearn.metrics import mean_squared_error\n",
        "from sklearn.metrics import accuracy_score\n",
        "from sklearn.metrics import f1_score\n",
        "import warnings\n",
        "warnings.filterwarnings('ignore')\n",
        "%matplotlib inline\n",
        "%load_ext autoreload\n",
        "%autoreload\n",
        "%reload_ext autoreload\n",
        "sns.set_style(\"dark\")"
      ]
    },
    {
      "cell_type": "code",
      "execution_count": 29,
      "metadata": {
        "_kg_hide-input": true,
        "colab": {
          "base_uri": "https://localhost:8080/"
        },
        "execution": {
          "iopub.execute_input": "2022-05-31T14:25:25.961233Z",
          "iopub.status.busy": "2022-05-31T14:25:25.960438Z",
          "iopub.status.idle": "2022-05-31T14:36:53.050758Z",
          "shell.execute_reply": "2022-05-31T14:36:53.049532Z",
          "shell.execute_reply.started": "2022-05-31T14:25:25.961183Z"
        },
        "id": "6ou1aKAnXNSK",
        "outputId": "9c5f283a-5425-423a-b68a-aed5d76aeec0",
        "trusted": true
      },
      "outputs": [
        {
          "output_type": "stream",
          "name": "stdout",
          "text": [
            "Collecting labels, ECG filenames and metadata...\n"
          ]
        },
        {
          "output_type": "stream",
          "name": "stderr",
          "text": [
            "100%|██████████| 43674/43674 [00:49<00:00, 888.88it/s] "
          ]
        },
        {
          "output_type": "stream",
          "name": "stdout",
          "text": [
            "Total number of patients found: 21837\n"
          ]
        },
        {
          "output_type": "stream",
          "name": "stderr",
          "text": [
            "\n"
          ]
        }
      ],
      "source": [
        "######################################################\n",
        "print(\"Collecting labels, ECG filenames and metadata...\")\n",
        "gender, age, labels, ecg_len, ecg_filenames = import_key_data(\"/content/testdata/\") #testdata\n",
        "ecg_filenames = np.asarray(ecg_filenames)\n",
        "age = np.asarray(age)\n",
        "gender = np.asarray(gender)\n",
        "ecg_len = np.asarray(ecg_len)\n",
        "labels = np.asarray(labels)\n",
        "print(f\"Total number of patients found: {len(age)}\")"
      ]
    },
    {
      "cell_type": "code",
      "execution_count": 30,
      "metadata": {
        "_kg_hide-input": true,
        "colab": {
          "base_uri": "https://localhost:8080/"
        },
        "execution": {
          "iopub.execute_input": "2022-05-31T14:36:53.058323Z",
          "iopub.status.busy": "2022-05-31T14:36:53.055616Z",
          "iopub.status.idle": "2022-05-31T14:36:53.1412Z",
          "shell.execute_reply": "2022-05-31T14:36:53.140173Z",
          "shell.execute_reply.started": "2022-05-31T14:36:53.058278Z"
        },
        "id": "KR2ws89DXNSL",
        "outputId": "2c964801-e614-494e-a178-d19752b13c30",
        "trusted": true
      },
      "outputs": [
        {
          "output_type": "stream",
          "name": "stdout",
          "text": [
            "remove all ECGs not equal to 10 seconds\n"
          ]
        }
      ],
      "source": [
        "#####################################################\n",
        "print(\"remove all ECGs not equal to 10 seconds\")\n",
        "age, gender,ecg_filenames, labels = only_ten_sec(ecg_len, age, gender, ecg_filenames, labels)"
      ]
    },
    {
      "cell_type": "code",
      "execution_count": 31,
      "metadata": {
        "id": "REOVqwR1XbZC",
        "outputId": "f81777e0-8e98-4785-d9fb-6cad452ac060",
        "colab": {
          "base_uri": "https://localhost:8080/"
        }
      },
      "outputs": [
        {
          "output_type": "stream",
          "name": "stdout",
          "text": [
            "remove all ECGs with missing values in gender or age\n"
          ]
        }
      ],
      "source": [
        "print(\"remove all ECGs with missing values in gender or age\")\n",
        "ecg_filenames, gender, age, labels = remove_nan_and_unknown_values(ecg_filenames, gender, age, labels)"
      ]
    },
    {
      "cell_type": "code",
      "execution_count": 32,
      "metadata": {
        "_kg_hide-input": true,
        "colab": {
          "base_uri": "https://localhost:8080/"
        },
        "execution": {
          "iopub.execute_input": "2022-05-31T14:36:53.381532Z",
          "iopub.status.busy": "2022-05-31T14:36:53.378988Z",
          "iopub.status.idle": "2022-05-31T14:36:53.617739Z",
          "shell.execute_reply": "2022-05-31T14:36:53.616633Z",
          "shell.execute_reply.started": "2022-05-31T14:36:53.381461Z"
        },
        "id": "Keo8bt5nXNSN",
        "outputId": "9c059868-3a99-4ba1-e8b0-27be63c3619c",
        "trusted": true
      },
      "outputs": [
        {
          "output_type": "stream",
          "name": "stdout",
          "text": [
            "Total number of patients left after data cleaning: 21748\n"
          ]
        }
      ],
      "source": [
        "age = clean_up_age_data(age)\n",
        "gender = clean_up_gender_data(gender)\n",
        "\n",
        "print(f\"Total number of patients left after data cleaning: {len(age)}\")"
      ]
    },
    {
      "cell_type": "code",
      "execution_count": 33,
      "metadata": {
        "id": "bjcD39HqXbZD",
        "outputId": "be7e94a1-f074-4da9-bd0b-2742fb803335",
        "colab": {
          "base_uri": "https://localhost:8080/"
        }
      },
      "outputs": [
        {
          "output_type": "stream",
          "name": "stdout",
          "text": [
            "Select ECGs from males or females\n",
            "Train on both male and female\n"
          ]
        }
      ],
      "source": [
        "print(\"Select ECGs from males or females\")\n",
        "gender_choice = \"both\"\n",
        "\n",
        "if gender_choice == \"female\":\n",
        "    gender, age, ecg_filenames, labels = male_or_female(gender, age, ecg_filenames, labels, g=\"female\")\n",
        "elif gender_choice == \"male\":\n",
        "    gender, age, ecg_filenames, labels = male_or_female(gender, age, ecg_filenames, labels, g=\"male\")\n",
        "else:\n",
        "    print(\"Train on both male and female\")\n",
        "    pass"
      ]
    },
    {
      "cell_type": "code",
      "source": [
        "test_age = age"
      ],
      "metadata": {
        "id": "tXssLt-ktUAo"
      },
      "execution_count": 34,
      "outputs": []
    },
    {
      "cell_type": "code",
      "source": [
        "train_age = age"
      ],
      "metadata": {
        "id": "fijNtERCtDau"
      },
      "execution_count": 27,
      "outputs": []
    },
    {
      "cell_type": "code",
      "source": [
        "plt.hist(train_age,density=True, bins=20,alpha=0.75, label=\"Train\")\n",
        "plt.hist(test_age,density=True, bins=20, alpha=0.75, label=\"Test\")\n",
        "plt.xlim(0,100)\n",
        "plt.xlabel(\"Age\",fontsize=12)\n",
        "plt.yticks([])\n",
        "plt.xticks(fontsize=12)\n",
        "plt.legend(fontsize=12)\n",
        "plt.savefig(\"normalized_distribution.png\",dpi=300)\n",
        "plt.show()"
      ],
      "metadata": {
        "id": "izCGYzSxtYhD",
        "outputId": "374e6cb8-946b-42e3-b417-86f88fbaca49",
        "colab": {
          "base_uri": "https://localhost:8080/",
          "height": 285
        }
      },
      "execution_count": 62,
      "outputs": [
        {
          "output_type": "display_data",
          "data": {
            "text/plain": [
              "<Figure size 432x288 with 1 Axes>"
            ],
            "image/png": "[encoded data removed]"
          },
          "metadata": {}
        }
      ]
    },
    {
      "cell_type": "code",
      "source": [
        "from scipy import stats\n",
        "stats.kstest(test_age,\"norm\")"
      ],
      "metadata": {
        "id": "FLrvXjrfywLH",
        "outputId": "f1f58dc2-449b-40f2-e92e-a253d1a17473",
        "colab": {
          "base_uri": "https://localhost:8080/"
        }
      },
      "execution_count": 47,
      "outputs": [
        {
          "output_type": "execute_result",
          "data": {
            "text/plain": [
              "KstestResult(statistic=0.9998303850392042, pvalue=0.0)"
            ]
          },
          "metadata": {},
          "execution_count": 47
        }
      ]
    },
    {
      "cell_type": "code",
      "source": [
        "from scipy import stats\n",
        "stats.kstest(train_age,\"norm\")"
      ],
      "metadata": {
        "id": "C3K7TK_u9aLo",
        "outputId": "181f5169-2f0b-47b3-8f81-aa59a822ce05",
        "colab": {
          "base_uri": "https://localhost:8080/"
        }
      },
      "execution_count": 48,
      "outputs": [
        {
          "output_type": "execute_result",
          "data": {
            "text/plain": [
              "KstestResult(statistic=0.9957395359016258, pvalue=0.0)"
            ]
          },
          "metadata": {},
          "execution_count": 48
        }
      ]
    },
    {
      "cell_type": "code",
      "source": [
        "from scipy import stats\n",
        "stats.kstest(train_age,train_age)"
      ],
      "metadata": {
        "id": "OgjPPc1R9fsB",
        "outputId": "8493baf9-aa1a-4ade-c358-dfe17770d1b4",
        "colab": {
          "base_uri": "https://localhost:8080/"
        }
      },
      "execution_count": 49,
      "outputs": [
        {
          "output_type": "execute_result",
          "data": {
            "text/plain": [
              "KstestResult(statistic=0.0, pvalue=1.0)"
            ]
          },
          "metadata": {},
          "execution_count": 49
        }
      ]
    },
    {
      "cell_type": "code",
      "execution_count": null,
      "metadata": {
        "execution": {
          "iopub.execute_input": "2022-05-31T14:36:53.696689Z",
          "iopub.status.busy": "2022-05-31T14:36:53.694035Z",
          "iopub.status.idle": "2022-05-31T14:36:53.711576Z",
          "shell.execute_reply": "2022-05-31T14:36:53.710079Z",
          "shell.execute_reply.started": "2022-05-31T14:36:53.696644Z"
        },
        "id": "zWhF7DewXNSO",
        "trusted": true
      },
      "outputs": [],
      "source": [
        "print(f\"Total number of patients left after selection and data cleaning: {len(age)}\")"
      ]
    },
    {
      "cell_type": "code",
      "execution_count": null,
      "metadata": {
        "id": "6okJxzdmXbZD"
      },
      "outputs": [],
      "source": [
        "#TODO: update this acording to the optimal learning rate schedule found in hyperparameter opt.\n",
        "def scheduler(epoch, lr):\n",
        "    if epoch == 10:\n",
        "        return lr * 0.1\n",
        "    elif epoch == 15:\n",
        "        return lr * 0.1\n",
        "    elif epoch == 20:\n",
        "        return lr * 0.1\n",
        "    else:\n",
        "        return lr"
      ]
    },
    {
      "cell_type": "code",
      "execution_count": null,
      "metadata": {
        "_kg_hide-input": true,
        "execution": {
          "iopub.execute_input": "2022-05-31T14:36:53.831108Z",
          "iopub.status.busy": "2022-05-31T14:36:53.830604Z",
          "iopub.status.idle": "2022-05-31T14:36:53.840742Z",
          "shell.execute_reply": "2022-05-31T14:36:53.839721Z",
          "shell.execute_reply.started": "2022-05-31T14:36:53.831052Z"
        },
        "id": "djkCTd91XNSP",
        "trusted": true
      },
      "outputs": [],
      "source": [
        "lr_schedule = tf.keras.callbacks.LearningRateScheduler(scheduler, verbose=0)"
      ]
    },
    {
      "cell_type": "code",
      "execution_count": null,
      "metadata": {
        "id": "KngfVTtLXbZE"
      },
      "outputs": [],
      "source": [
        "model_name = \"attia\" # or \"inception\""
      ]
    },
    {
      "cell_type": "code",
      "execution_count": null,
      "metadata": {
        "_kg_hide-input": true,
        "colab": {
          "base_uri": "https://localhost:8080/"
        },
        "execution": {
          "iopub.execute_input": "2022-05-31T14:36:53.913635Z",
          "iopub.status.busy": "2022-05-31T14:36:53.912945Z",
          "iopub.status.idle": "2022-05-31T14:56:24.06372Z",
          "shell.execute_reply": "2022-05-31T14:56:24.059549Z",
          "shell.execute_reply.started": "2022-05-31T14:36:53.913583Z"
        },
        "id": "2odSNCwgXNSQ",
        "outputId": "3e98bc99-d94e-4219-c5d8-3753e1ea0d50",
        "trusted": true
      },
      "outputs": [
        {
          "name": "stdout",
          "output_type": "stream",
          "text": [
            "Training model...\n",
            "Epoch 1/20\n",
            "1083/1083 [==============================] - 143s 119ms/step - loss: 1342.2295 - mean_absolute_error: 29.7201 - val_loss: 214.4473 - val_mean_absolute_error: 11.5169 - lr: 0.0010\n",
            "Epoch 2/20\n",
            "1083/1083 [==============================] - 60s 56ms/step - loss: 238.8643 - mean_absolute_error: 12.0604 - val_loss: 179.4969 - val_mean_absolute_error: 10.3433 - lr: 0.0010\n",
            "Epoch 3/20\n",
            "1083/1083 [==============================] - 60s 55ms/step - loss: 220.2294 - mean_absolute_error: 11.5442 - val_loss: 221.8054 - val_mean_absolute_error: 11.8596 - lr: 0.0010\n",
            "Epoch 4/20\n",
            "1083/1083 [==============================] - 61s 56ms/step - loss: 209.3514 - mean_absolute_error: 11.2443 - val_loss: 166.7784 - val_mean_absolute_error: 10.0193 - lr: 0.0010\n",
            "Epoch 5/20\n",
            "1083/1083 [==============================] - 64s 60ms/step - loss: 200.7987 - mean_absolute_error: 10.9663 - val_loss: 196.4565 - val_mean_absolute_error: 10.7758 - lr: 0.0010\n",
            "Epoch 6/20\n",
            "1084/1083 [==============================] - ETA: 0s - loss: 194.5640 - mean_absolute_error: 10.7855\n",
            "Epoch 6: ReduceLROnPlateau reducing learning rate to 0.00010000000474974513.\n",
            "1083/1083 [==============================] - 60s 56ms/step - loss: 194.5640 - mean_absolute_error: 10.7855 - val_loss: 174.2790 - val_mean_absolute_error: 10.4006 - lr: 0.0010\n",
            "Epoch 7/20\n",
            "1083/1083 [==============================] - 60s 56ms/step - loss: 177.5782 - mean_absolute_error: 10.2906 - val_loss: 143.8424 - val_mean_absolute_error: 9.0432 - lr: 1.0000e-04\n",
            "Epoch 8/20\n",
            "1083/1083 [==============================] - 60s 56ms/step - loss: 173.0137 - mean_absolute_error: 10.1341 - val_loss: 142.5913 - val_mean_absolute_error: 9.0113 - lr: 1.0000e-04\n",
            "Epoch 9/20\n",
            "1083/1083 [==============================] - 60s 56ms/step - loss: 167.6963 - mean_absolute_error: 9.9758 - val_loss: 143.3201 - val_mean_absolute_error: 9.0144 - lr: 1.0000e-04\n",
            "Epoch 10/20\n",
            "1083/1083 [==============================] - 60s 56ms/step - loss: 167.8297 - mean_absolute_error: 9.9875 - val_loss: 141.1571 - val_mean_absolute_error: 8.9139 - lr: 1.0000e-04\n",
            "Epoch 11/20\n",
            "1083/1083 [==============================] - 60s 55ms/step - loss: 166.7612 - mean_absolute_error: 9.9915 - val_loss: 141.0535 - val_mean_absolute_error: 8.9857 - lr: 1.0000e-04\n",
            "Epoch 12/20\n",
            "1083/1083 [==============================] - 60s 55ms/step - loss: 165.0787 - mean_absolute_error: 9.8876 - val_loss: 140.9355 - val_mean_absolute_error: 8.8903 - lr: 1.0000e-04\n",
            "Epoch 13/20\n",
            "1083/1083 [==============================] - 62s 57ms/step - loss: 161.4300 - mean_absolute_error: 9.7962 - val_loss: 139.5142 - val_mean_absolute_error: 8.8688 - lr: 1.0000e-04\n",
            "Epoch 14/20\n",
            "1083/1083 [==============================] - 60s 56ms/step - loss: 159.3887 - mean_absolute_error: 9.7547 - val_loss: 138.4594 - val_mean_absolute_error: 8.8559 - lr: 1.0000e-04\n",
            "Epoch 15/20\n",
            "1083/1083 [==============================] - 61s 56ms/step - loss: 156.5286 - mean_absolute_error: 9.6597 - val_loss: 138.8044 - val_mean_absolute_error: 8.9042 - lr: 1.0000e-04\n",
            "Epoch 16/20\n",
            "1083/1083 [============================>.] - ETA: 0s - loss: 158.4180 - mean_absolute_error: 9.7122\n",
            "Epoch 16: ReduceLROnPlateau reducing learning rate to 1.0000000474974514e-05.\n",
            "1083/1083 [==============================] - 60s 56ms/step - loss: 158.4767 - mean_absolute_error: 9.7136 - val_loss: 139.3111 - val_mean_absolute_error: 8.9350 - lr: 1.0000e-04\n",
            "Epoch 17/20\n",
            "1083/1083 [==============================] - 60s 55ms/step - loss: 154.2188 - mean_absolute_error: 9.5733 - val_loss: 138.4243 - val_mean_absolute_error: 8.8428 - lr: 1.0000e-05\n",
            "Epoch 18/20\n",
            "1084/1083 [==============================] - ETA: 0s - loss: 151.5155 - mean_absolute_error: 9.5268"
          ]
        }
      ],
      "source": [
        "samp_freq = 100\n",
        "time = 10\n",
        "num_leads = 12\n",
        "batchsize = 16\n",
        "epoch = 20\n",
        "mae_score_total = []\n",
        "\n",
        "print(\"Training model...\")\n",
        "\n",
        "#Chose model:\n",
        "if model_name == \"attia\":\n",
        "    model = attia_model(samp_freq, time, num_leads)\n",
        "elif model_name == \"inception\":\n",
        "    model = build_model((samp_freq*time,num_leads), 1)\n",
        "model.fit(x=shuffle_batch_generator_age(batch_size=batchsize, gen_x=generate_X_age(ecg_filenames,samp_freq=samp_freq,num_leads=num_leads), gen_y=generate_y_age(age),num_leads=num_leads, time=time, samp_freq=samp_freq), epochs=epoch, \n",
        "            steps_per_epoch=(len(ecg_filenames)/batchsize), \n",
        "            verbose = 1, \n",
        "            callbacks=[lr_schedule]\n",
        "            )"
      ]
    },
    {
      "cell_type": "code",
      "execution_count": null,
      "metadata": {
        "id": "4KIS-EsAXbZE"
      },
      "outputs": [],
      "source": [
        "model.save_weights(\"model_weights_\" + model_name + gender_choice + \".h5\")"
      ]
    }
  ],
  "metadata": {
    "accelerator": "GPU",
    "colab": {
      "name": "age-estimation-of-women-using-cnn-on-12-lead-ecg.ipynb",
      "provenance": []
    },
    "gpuClass": "standard",
    "kernelspec": {
      "display_name": "Python 3.8.5 ('base')",
      "language": "python",
      "name": "python3"
    },
    "language_info": {
      "codemirror_mode": {
        "name": "ipython",
        "version": 3
      },
      "file_extension": ".py",
      "mimetype": "text/x-python",
      "name": "python",
      "nbconvert_exporter": "python",
      "pygments_lexer": "ipython3",
      "version": "3.8.5"
    },
    "vscode": {
      "interpreter": {
        "hash": "39192be711985d5a4908b881b6a992a73610e2430c975ad8c4f9221a910d9ff0"
      }
    }
  },
  "nbformat": 4,
  "nbformat_minor": 0
}