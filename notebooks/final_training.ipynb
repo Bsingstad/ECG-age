{
  "cells": [
    {
      "cell_type": "markdown",
      "metadata": {
        "id": "A0dKQrMzXNR_"
      },
      "source": [
        "# <center> Final training of Age estimation model </center>\n",
        "\n"
      ]
    },
    {
      "cell_type": "code",
      "execution_count": 1,
      "metadata": {
        "colab": {
          "base_uri": "https://localhost:8080/"
        },
        "id": "h-wFUDFP50F2",
        "outputId": "ff4586c8-f1d5-4c81-f322-04b4e66e2543"
      },
      "outputs": [
        {
          "output_type": "stream",
          "name": "stdout",
          "text": [
            "Looking in indexes: https://pypi.org/simple, https://us-python.pkg.dev/colab-wheels/public/simple/\n",
            "Collecting GitPython\n",
            "  Downloading GitPython-3.1.30-py3-none-any.whl (184 kB)\n",
            "\u001b[K     |████████████████████████████████| 184 kB 4.2 MB/s \n",
            "\u001b[?25hCollecting gitdb<5,>=4.0.1\n",
            "  Downloading gitdb-4.0.10-py3-none-any.whl (62 kB)\n",
            "\u001b[K     |████████████████████████████████| 62 kB 1.4 MB/s \n",
            "\u001b[?25hCollecting smmap<6,>=3.0.1\n",
            "  Downloading smmap-5.0.0-py3-none-any.whl (24 kB)\n",
            "Installing collected packages: smmap, gitdb, GitPython\n",
            "Successfully installed GitPython-3.1.30 gitdb-4.0.10 smmap-5.0.0\n"
          ]
        }
      ],
      "source": [
        "!pip install GitPython\n",
        "from git import Repo"
      ]
    },
    {
      "cell_type": "code",
      "execution_count": 2,
      "metadata": {
        "colab": {
          "base_uri": "https://localhost:8080/"
        },
        "id": "GxnaopyB9CC3",
        "outputId": "1e61673e-7168-4632-8c1c-c3bc2227e8bc"
      },
      "outputs": [
        {
          "output_type": "stream",
          "name": "stdout",
          "text": [
            "Looking in indexes: https://pypi.org/simple, https://us-python.pkg.dev/colab-wheels/public/simple/\n",
            "Collecting wget\n",
            "  Downloading wget-3.2.zip (10 kB)\n",
            "Collecting wfdb\n",
            "  Downloading wfdb-4.1.0-py3-none-any.whl (159 kB)\n",
            "\u001b[K     |████████████████████████████████| 159 kB 4.0 MB/s \n",
            "\u001b[?25hCollecting neurokit2\n",
            "  Downloading neurokit2-0.2.2-py2.py3-none-any.whl (1.2 MB)\n",
            "\u001b[K     |████████████████████████████████| 1.2 MB 49.3 MB/s \n",
            "\u001b[?25hRequirement already satisfied: matplotlib<4.0.0,>=3.2.2 in /usr/local/lib/python3.8/dist-packages (from wfdb) (3.2.2)\n",
            "Requirement already satisfied: numpy<2.0.0,>=1.10.1 in /usr/local/lib/python3.8/dist-packages (from wfdb) (1.21.6)\n",
            "Requirement already satisfied: SoundFile<0.12.0,>=0.10.0 in /usr/local/lib/python3.8/dist-packages (from wfdb) (0.11.0)\n",
            "Requirement already satisfied: requests<3.0.0,>=2.8.1 in /usr/local/lib/python3.8/dist-packages (from wfdb) (2.23.0)\n",
            "Requirement already satisfied: scipy<2.0.0,>=1.0.0 in /usr/local/lib/python3.8/dist-packages (from wfdb) (1.7.3)\n",
            "Requirement already satisfied: pandas<2.0.0,>=1.0.0 in /usr/local/lib/python3.8/dist-packages (from wfdb) (1.3.5)\n",
            "Requirement already satisfied: cycler>=0.10 in /usr/local/lib/python3.8/dist-packages (from matplotlib<4.0.0,>=3.2.2->wfdb) (0.11.0)\n",
            "Requirement already satisfied: kiwisolver>=1.0.1 in /usr/local/lib/python3.8/dist-packages (from matplotlib<4.0.0,>=3.2.2->wfdb) (1.4.4)\n",
            "Requirement already satisfied: python-dateutil>=2.1 in /usr/local/lib/python3.8/dist-packages (from matplotlib<4.0.0,>=3.2.2->wfdb) (2.8.2)\n",
            "Requirement already satisfied: pyparsing!=2.0.4,!=2.1.2,!=2.1.6,>=2.0.1 in /usr/local/lib/python3.8/dist-packages (from matplotlib<4.0.0,>=3.2.2->wfdb) (3.0.9)\n",
            "Requirement already satisfied: pytz>=2017.3 in /usr/local/lib/python3.8/dist-packages (from pandas<2.0.0,>=1.0.0->wfdb) (2022.6)\n",
            "Requirement already satisfied: six>=1.5 in /usr/local/lib/python3.8/dist-packages (from python-dateutil>=2.1->matplotlib<4.0.0,>=3.2.2->wfdb) (1.15.0)\n",
            "Requirement already satisfied: urllib3!=1.25.0,!=1.25.1,<1.26,>=1.21.1 in /usr/local/lib/python3.8/dist-packages (from requests<3.0.0,>=2.8.1->wfdb) (1.24.3)\n",
            "Requirement already satisfied: idna<3,>=2.5 in /usr/local/lib/python3.8/dist-packages (from requests<3.0.0,>=2.8.1->wfdb) (2.10)\n",
            "Requirement already satisfied: chardet<4,>=3.0.2 in /usr/local/lib/python3.8/dist-packages (from requests<3.0.0,>=2.8.1->wfdb) (3.0.4)\n",
            "Requirement already satisfied: certifi>=2017.4.17 in /usr/local/lib/python3.8/dist-packages (from requests<3.0.0,>=2.8.1->wfdb) (2022.12.7)\n",
            "Requirement already satisfied: cffi>=1.0 in /usr/local/lib/python3.8/dist-packages (from SoundFile<0.12.0,>=0.10.0->wfdb) (1.15.1)\n",
            "Requirement already satisfied: pycparser in /usr/local/lib/python3.8/dist-packages (from cffi>=1.0->SoundFile<0.12.0,>=0.10.0->wfdb) (2.21)\n",
            "Requirement already satisfied: scikit-learn>=1.0.0 in /usr/local/lib/python3.8/dist-packages (from neurokit2) (1.0.2)\n",
            "Requirement already satisfied: threadpoolctl>=2.0.0 in /usr/local/lib/python3.8/dist-packages (from scikit-learn>=1.0.0->neurokit2) (3.1.0)\n",
            "Requirement already satisfied: joblib>=0.11 in /usr/local/lib/python3.8/dist-packages (from scikit-learn>=1.0.0->neurokit2) (1.2.0)\n",
            "Building wheels for collected packages: wget\n",
            "  Building wheel for wget (setup.py) ... \u001b[?25l\u001b[?25hdone\n",
            "  Created wheel for wget: filename=wget-3.2-py3-none-any.whl size=9674 sha256=88a2350168c30ac1ab3c1f2674d94e4357117c4070c9d08462e9cdbae1c2d587\n",
            "  Stored in directory: /root/.cache/pip/wheels/bd/a8/c3/3cf2c14a1837a4e04bd98631724e81f33f462d86a1d895fae0\n",
            "Successfully built wget\n",
            "Installing collected packages: wget, wfdb, neurokit2\n",
            "Successfully installed neurokit2-0.2.2 wfdb-4.1.0 wget-3.2\n"
          ]
        }
      ],
      "source": [
        "!pip install wget wfdb neurokit2"
      ]
    },
    {
      "cell_type": "code",
      "execution_count": 3,
      "metadata": {
        "colab": {
          "base_uri": "https://localhost:8080/"
        },
        "id": "ZAshTjBx9Ku5",
        "outputId": "a6c82a10-8e0b-42be-f5c8-d4bd35642c0d"
      },
      "outputs": [
        {
          "output_type": "stream",
          "name": "stdout",
          "text": [
            "kaggle.json\n",
            "/bin/bash: -c: line 0: unexpected EOF while looking for matching `''\n",
            "/bin/bash: -c: line 1: syntax error: unexpected end of file\n"
          ]
        }
      ],
      "source": [
        "!mkdir -p ~/.kaggle\n",
        "!cp kaggle.json ~/.kaggle/\n",
        "!ls ~/.kaggle\n",
        "!chmod 600 /root/.kaggle/kaggle.json'"
      ]
    },
    {
      "cell_type": "code",
      "execution_count": 4,
      "metadata": {
        "colab": {
          "base_uri": "https://localhost:8080/"
        },
        "id": "XX8Ht9i69dgA",
        "outputId": "e8a0e827-7d37-4214-f7dd-8b18b21366ca"
      },
      "outputs": [
        {
          "output_type": "stream",
          "name": "stdout",
          "text": [
            "Warning: Your Kaggle API key is readable by other users on this system! To fix this, you can run 'chmod 600 /root/.kaggle/kaggle.json'\n",
            "Downloading georgia-12lead-ecg-challenge-database.zip to /content\n",
            "100% 482M/483M [00:21<00:00, 29.5MB/s]\n",
            "100% 483M/483M [00:21<00:00, 23.9MB/s]\n",
            "Warning: Your Kaggle API key is readable by other users on this system! To fix this, you can run 'chmod 600 /root/.kaggle/kaggle.json'\n",
            "Downloading st-petersburg-incart-12lead-arrhythmia-database.zip to /content\n",
            "100% 562M/564M [00:26<00:00, 27.4MB/s]\n",
            "100% 564M/564M [00:26<00:00, 22.2MB/s]\n",
            "Warning: Your Kaggle API key is readable by other users on this system! To fix this, you can run 'chmod 600 /root/.kaggle/kaggle.json'\n",
            "Downloading china-12lead-ecg-challenge-database.zip to /content\n",
            "100% 405M/406M [00:19<00:00, 22.0MB/s]\n",
            "100% 406M/406M [00:19<00:00, 21.7MB/s]\n",
            "Warning: Your Kaggle API key is readable by other users on this system! To fix this, you can run 'chmod 600 /root/.kaggle/kaggle.json'\n",
            "Downloading china-physiological-signal-challenge-in-2018.zip to /content\n",
            "100% 823M/824M [00:36<00:00, 28.2MB/s]\n",
            "100% 824M/824M [00:36<00:00, 23.5MB/s]\n",
            "Warning: Your Kaggle API key is readable by other users on this system! To fix this, you can run 'chmod 600 /root/.kaggle/kaggle.json'\n",
            "Downloading chapmanshaoxing-12lead-ecg-database.zip to /content\n",
            "100% 545M/547M [00:24<00:00, 26.5MB/s]\n",
            "100% 547M/547M [00:24<00:00, 23.8MB/s]\n",
            "Warning: Your Kaggle API key is readable by other users on this system! To fix this, you can run 'chmod 600 /root/.kaggle/kaggle.json'\n",
            "Downloading ningbo-first-hospital-12lead-ecg-database.zip to /content\n",
            "100% 1.78G/1.78G [01:21<00:00, 26.3MB/s]\n",
            "100% 1.78G/1.78G [01:21<00:00, 23.4MB/s]\n",
            "Warning: Your Kaggle API key is readable by other users on this system! To fix this, you can run 'chmod 600 /root/.kaggle/kaggle.json'\n",
            "Downloading physionet-challenge-2021-snomed-mappings.zip to /content\n",
            "  0% 0.00/4.13k [00:00<?, ?B/s]\n",
            "100% 4.13k/4.13k [00:00<00:00, 4.32MB/s]\n"
          ]
        }
      ],
      "source": [
        "!kaggle datasets download -d bjoernjostein/georgia-12lead-ecg-challenge-database\n",
        "!kaggle datasets download -d bjoernjostein/st-petersburg-incart-12lead-arrhythmia-database\n",
        "!kaggle datasets download -d bjoernjostein/china-12lead-ecg-challenge-database\n",
        "!kaggle datasets download -d bjoernjostein/china-physiological-signal-challenge-in-2018\n",
        "!kaggle datasets download -d erarayamorenzomuten/chapmanshaoxing-12lead-ecg-database\n",
        "!kaggle datasets download -d erarayamorenzomuten/ningbo-first-hospital-12lead-ecg-database\n",
        "\n",
        "!kaggle datasets download -d bjoernjostein/physionet-challenge-2021-snomed-mappings"
      ]
    },
    {
      "cell_type": "code",
      "execution_count": 5,
      "metadata": {
        "id": "vDRLPbh-96DT"
      },
      "outputs": [],
      "source": [
        "import os, zipfile\n",
        "\n",
        "dir_name = \"./\"\n",
        "extension = \".zip\"\n",
        " \n",
        "os.chdir(dir_name) # change directory from working dir to dir with files\n",
        "\n",
        "for item in os.listdir(dir_name): # loop through items in dir\n",
        "    if item.endswith(extension): # check for \".zip\" extension\n",
        "        file_name = os.path.abspath(item) # get full path of files\n",
        "        zip_ref = zipfile.ZipFile(file_name) # create zipfile object\n",
        "        zip_ref.extractall(dir_name) # extract file to dir\n",
        "        zip_ref.close() # close file\n",
        "        os.remove(file_name) # delete zipped file"
      ]
    },
    {
      "cell_type": "code",
      "source": [
        "HTTPS_REMOTE_URL = 'https://github.com/Bsingstad/ECG-age.git'\n",
        "DEST_NAME = 'ecg_age'\n",
        "cloned_repo = Repo.clone_from(HTTPS_REMOTE_URL, DEST_NAME)"
      ],
      "metadata": {
        "id": "NebrV6SclF-5"
      },
      "execution_count": 6,
      "outputs": []
    },
    {
      "cell_type": "code",
      "execution_count": 7,
      "metadata": {
        "id": "zpTuYst398gs"
      },
      "outputs": [],
      "source": [
        "import shutil\n",
        "import os\n",
        "os.mkdir(\"/content/ecg_age/data\")\n",
        "sources = ['Training_2/',  'Training_StPetersburg/','Training_WFDB/','WFDB_ChapmanShaoxing/', 'WFDB_Ningbo/', \"WFDB/\"]\n",
        "dest1 = '/content/ecg_age/data/'\n",
        "\n",
        "\n",
        "for s in sources:\n",
        "  files = os.listdir(s)\n",
        "  for f in files:\n",
        "      shutil.move(s+f, dest1)"
      ]
    },
    {
      "cell_type": "code",
      "execution_count": 124,
      "metadata": {
        "id": "Rcmhr7MGXNSI"
      },
      "outputs": [],
      "source": [
        "from ecg_age.src.helpers.helpers import *\n",
        "from ecg_age.src.models.models import *"
      ]
    },
    {
      "cell_type": "code",
      "execution_count": 125,
      "metadata": {
        "_kg_hide-input": true,
        "execution": {
          "iopub.execute_input": "2022-05-31T14:25:18.521174Z",
          "iopub.status.busy": "2022-05-31T14:25:18.520855Z",
          "iopub.status.idle": "2022-05-31T14:25:25.957466Z",
          "shell.execute_reply": "2022-05-31T14:25:25.955896Z",
          "shell.execute_reply.started": "2022-05-31T14:25:18.521144Z"
        },
        "id": "BmvpEhIaXNSJ",
        "trusted": true,
        "outputId": "9c43fdd6-86b4-4fe6-855d-d532345126d9",
        "colab": {
          "base_uri": "https://localhost:8080/"
        }
      },
      "outputs": [
        {
          "output_type": "stream",
          "name": "stdout",
          "text": [
            "The autoreload extension is already loaded. To reload it, use:\n",
            "  %reload_ext autoreload\n"
          ]
        }
      ],
      "source": [
        "import pandas as pd\n",
        "from scipy import stats\n",
        "import numpy as np\n",
        "import matplotlib.pyplot as plt\n",
        "import seaborn as sns\n",
        "import tensorflow as tf\n",
        "import tqdm\n",
        "from scipy import signal\n",
        "from tensorflow import keras\n",
        "from tensorflow.keras.preprocessing.sequence import pad_sequences\n",
        "from sklearn.preprocessing import LabelEncoder\n",
        "from sklearn.utils.class_weight import compute_class_weight\n",
        "from sklearn.metrics import roc_auc_score\n",
        "from scipy.io import loadmat\n",
        "from sklearn.preprocessing import MultiLabelBinarizer\n",
        "from sklearn.model_selection import StratifiedKFold\n",
        "from sklearn.metrics import confusion_matrix\n",
        "from sklearn.metrics import mean_absolute_error\n",
        "from sklearn.metrics import mean_squared_error\n",
        "from sklearn.metrics import accuracy_score\n",
        "from sklearn.metrics import f1_score\n",
        "from sklearn.preprocessing import MinMaxScaler\n",
        "import warnings\n",
        "warnings.filterwarnings('ignore')\n",
        "%matplotlib inline\n",
        "%load_ext autoreload\n",
        "%autoreload\n",
        "%reload_ext autoreload\n",
        "sns.set_style(\"dark\")"
      ]
    },
    {
      "cell_type": "code",
      "execution_count": 126,
      "metadata": {
        "_kg_hide-input": true,
        "colab": {
          "base_uri": "https://localhost:8080/"
        },
        "execution": {
          "iopub.execute_input": "2022-05-31T14:25:25.961233Z",
          "iopub.status.busy": "2022-05-31T14:25:25.960438Z",
          "iopub.status.idle": "2022-05-31T14:36:53.050758Z",
          "shell.execute_reply": "2022-05-31T14:36:53.049532Z",
          "shell.execute_reply.started": "2022-05-31T14:25:25.961183Z"
        },
        "id": "6ou1aKAnXNSK",
        "outputId": "eec2b957-b439-4538-f865-cc2019fbdf51",
        "trusted": true
      },
      "outputs": [
        {
          "output_type": "stream",
          "name": "stdout",
          "text": [
            "Collecting labels, ECG filenames and metadata...\n"
          ]
        },
        {
          "output_type": "stream",
          "name": "stderr",
          "text": [
            "100%|██████████| 131800/131800 [00:26<00:00, 4931.19it/s]\n"
          ]
        },
        {
          "output_type": "stream",
          "name": "stdout",
          "text": [
            "Total number of patients found: 59490\n"
          ]
        }
      ],
      "source": [
        "######################################################\n",
        "print(\"Collecting labels, ECG filenames and metadata...\")\n",
        "gender, age, labels, ecg_len, ecg_filenames = import_key_data(\"/content/ecg_age/data/\")\n",
        "ecg_filenames = np.asarray(ecg_filenames)\n",
        "age = np.asarray(age)\n",
        "gender = np.asarray(gender)\n",
        "ecg_len = np.asarray(ecg_len)\n",
        "labels = np.asarray(labels)\n",
        "print(f\"Total number of patients found: {len(age)}\")"
      ]
    },
    {
      "cell_type": "code",
      "execution_count": 127,
      "metadata": {
        "_kg_hide-input": true,
        "colab": {
          "base_uri": "https://localhost:8080/"
        },
        "execution": {
          "iopub.execute_input": "2022-05-31T14:36:53.058323Z",
          "iopub.status.busy": "2022-05-31T14:36:53.055616Z",
          "iopub.status.idle": "2022-05-31T14:36:53.1412Z",
          "shell.execute_reply": "2022-05-31T14:36:53.140173Z",
          "shell.execute_reply.started": "2022-05-31T14:36:53.058278Z"
        },
        "id": "KR2ws89DXNSL",
        "outputId": "79410b8c-8c8a-4c05-f447-c2756491019e",
        "trusted": true
      },
      "outputs": [
        {
          "output_type": "stream",
          "name": "stdout",
          "text": [
            "remove all ECGs not equal to 10 seconds\n"
          ]
        }
      ],
      "source": [
        "#####################################################\n",
        "print(\"remove all ECGs not equal to 10 seconds\")\n",
        "age, gender,ecg_filenames, labels = only_ten_sec(ecg_len, age, gender, ecg_filenames, labels)"
      ]
    },
    {
      "cell_type": "code",
      "execution_count": 128,
      "metadata": {
        "id": "REOVqwR1XbZC",
        "outputId": "ffd5ad28-381a-4fdc-b280-50dc9b1007aa",
        "colab": {
          "base_uri": "https://localhost:8080/"
        }
      },
      "outputs": [
        {
          "output_type": "stream",
          "name": "stdout",
          "text": [
            "remove all ECGs with missing values in gender or age\n"
          ]
        }
      ],
      "source": [
        "print(\"remove all ECGs with missing values in gender or age\")\n",
        "ecg_filenames, gender, age, labels = remove_nan_and_unknown_values(ecg_filenames, gender, age, labels)"
      ]
    },
    {
      "cell_type": "code",
      "execution_count": 129,
      "metadata": {
        "_kg_hide-input": true,
        "colab": {
          "base_uri": "https://localhost:8080/"
        },
        "execution": {
          "iopub.execute_input": "2022-05-31T14:36:53.381532Z",
          "iopub.status.busy": "2022-05-31T14:36:53.378988Z",
          "iopub.status.idle": "2022-05-31T14:36:53.617739Z",
          "shell.execute_reply": "2022-05-31T14:36:53.616633Z",
          "shell.execute_reply.started": "2022-05-31T14:36:53.381461Z"
        },
        "id": "Keo8bt5nXNSN",
        "outputId": "918de2df-daaa-436d-d1e5-b2f5e714e0f0",
        "trusted": true
      },
      "outputs": [
        {
          "output_type": "stream",
          "name": "stdout",
          "text": [
            "Total number of patients left after data cleaning: 59352\n"
          ]
        }
      ],
      "source": [
        "age = clean_up_age_data(age)\n",
        "gender = clean_up_gender_data(gender)\n",
        "\n",
        "print(f\"Total number of patients left after data cleaning: {len(age)}\")"
      ]
    },
    {
      "cell_type": "code",
      "execution_count": 130,
      "metadata": {
        "id": "bjcD39HqXbZD",
        "outputId": "156536e7-91bf-409f-94fe-1240dc488fb5",
        "colab": {
          "base_uri": "https://localhost:8080/"
        }
      },
      "outputs": [
        {
          "output_type": "stream",
          "name": "stdout",
          "text": [
            "Select ECGs from males or females\n",
            "Train on both male and female\n"
          ]
        }
      ],
      "source": [
        "print(\"Select ECGs from males or females\")\n",
        "gender_choice = \"both\"\n",
        "\n",
        "if gender_choice == \"female\":\n",
        "    gender, age, ecg_filenames, labels = male_or_female(gender, age, ecg_filenames, labels, g=\"female\")\n",
        "elif gender_choice == \"male\":\n",
        "    gender, age, ecg_filenames, labels = male_or_female(gender, age, ecg_filenames, labels, g=\"male\")\n",
        "else:\n",
        "    print(\"Train on both male and female\")\n",
        "    pass"
      ]
    },
    {
      "cell_type": "code",
      "source": [
        "np.unique(age,return_counts=True)"
      ],
      "metadata": {
        "id": "XIY9aYESVWEr",
        "outputId": "a98977e5-660c-49b5-c27c-bb3969aeb1c7",
        "colab": {
          "base_uri": "https://localhost:8080/"
        }
      },
      "execution_count": 131,
      "outputs": [
        {
          "output_type": "execute_result",
          "data": {
            "text/plain": [
              "(array([  0,   1,   4,   5,   6,   7,   8,   9,  10,  11,  12,  13,  14,\n",
              "         15,  16,  17,  18,  19,  20,  21,  22,  23,  24,  25,  26,  27,\n",
              "         28,  29,  30,  31,  32,  33,  34,  35,  36,  37,  38,  39,  40,\n",
              "         41,  42,  43,  44,  45,  46,  47,  48,  49,  50,  51,  52,  53,\n",
              "         54,  55,  56,  57,  58,  59,  60,  61,  62,  63,  64,  65,  66,\n",
              "         67,  68,  69,  70,  71,  72,  73,  74,  75,  76,  77,  78,  79,\n",
              "         80,  81,  82,  83,  84,  85,  86,  87,  88,  89,  90,  91,  92,\n",
              "         93,  94,  95,  96,  97,  98,  99, 100]),\n",
              " array([ 247,    3,  299,  244,  185,  138,  107,  123,   83,   83,  108,\n",
              "          66,   67,  104,  131,  137,  142,  154,  197,  237,  337,  238,\n",
              "         219,  215,  283,  307,  316,  338,  392,  334,  281,  313,  330,\n",
              "         354,  382,  369,  381,  408,  456,  477,  524,  528,  646,  683,\n",
              "         809,  793,  877,  903,  945, 1068, 1151, 1245, 1329, 1020,  888,\n",
              "         974, 1036, 1133, 1341, 1345, 1393, 1440, 1429, 1433, 1312, 1464,\n",
              "        1513, 1528, 1400, 1351, 1263, 1138, 1114, 1127,  971,  933,  964,\n",
              "        1045, 1010,  921,  903,  976,  768,  650,  549,  428,  349,  964,\n",
              "          66,   31,   35,   24,   12,    9,   10,    1,    2,    2,    1]))"
            ]
          },
          "metadata": {},
          "execution_count": 131
        }
      ]
    },
    {
      "cell_type": "code",
      "execution_count": 132,
      "metadata": {
        "colab": {
          "base_uri": "https://localhost:8080/"
        },
        "execution": {
          "iopub.execute_input": "2022-05-31T14:36:53.696689Z",
          "iopub.status.busy": "2022-05-31T14:36:53.694035Z",
          "iopub.status.idle": "2022-05-31T14:36:53.711576Z",
          "shell.execute_reply": "2022-05-31T14:36:53.710079Z",
          "shell.execute_reply.started": "2022-05-31T14:36:53.696644Z"
        },
        "id": "zWhF7DewXNSO",
        "outputId": "1a9df98d-1cfd-4d7f-8a32-78685f64078b",
        "trusted": true
      },
      "outputs": [
        {
          "output_type": "stream",
          "name": "stdout",
          "text": [
            "Total number of patients left after selection and data cleaning: 59352\n"
          ]
        }
      ],
      "source": [
        "print(f\"Total number of patients left after selection and data cleaning: {len(age)}\")"
      ]
    },
    {
      "cell_type": "code",
      "execution_count": 133,
      "metadata": {
        "id": "6okJxzdmXbZD"
      },
      "outputs": [],
      "source": [
        "#TODO: update this acording to the optimal learning rate schedule found in hyperparameter opt.\n",
        "def scheduler(epoch, lr):\n",
        "    if epoch == 10:\n",
        "        return lr * 0.1\n",
        "    elif epoch == 15:\n",
        "        return lr * 0.1\n",
        "    elif epoch == 20:\n",
        "        return lr * 0.1\n",
        "    else:\n",
        "        return lr"
      ]
    },
    {
      "cell_type": "code",
      "execution_count": 134,
      "metadata": {
        "_kg_hide-input": true,
        "execution": {
          "iopub.execute_input": "2022-05-31T14:36:53.831108Z",
          "iopub.status.busy": "2022-05-31T14:36:53.830604Z",
          "iopub.status.idle": "2022-05-31T14:36:53.840742Z",
          "shell.execute_reply": "2022-05-31T14:36:53.839721Z",
          "shell.execute_reply.started": "2022-05-31T14:36:53.831052Z"
        },
        "id": "djkCTd91XNSP",
        "trusted": true
      },
      "outputs": [],
      "source": [
        "lr_schedule = tf.keras.callbacks.LearningRateScheduler(scheduler, verbose=0)"
      ]
    },
    {
      "cell_type": "code",
      "execution_count": 135,
      "metadata": {
        "id": "KngfVTtLXbZE"
      },
      "outputs": [],
      "source": [
        "model_name = \"inception\" # or \"inception\""
      ]
    },
    {
      "cell_type": "code",
      "execution_count": null,
      "metadata": {
        "_kg_hide-input": true,
        "colab": {
          "base_uri": "https://localhost:8080/"
        },
        "execution": {
          "iopub.execute_input": "2022-05-31T14:36:53.913635Z",
          "iopub.status.busy": "2022-05-31T14:36:53.912945Z",
          "iopub.status.idle": "2022-05-31T14:56:24.06372Z",
          "shell.execute_reply": "2022-05-31T14:56:24.059549Z",
          "shell.execute_reply.started": "2022-05-31T14:36:53.913583Z"
        },
        "id": "2odSNCwgXNSQ",
        "outputId": "3e98bc99-d94e-4219-c5d8-3753e1ea0d50",
        "trusted": true
      },
      "outputs": [
        {
          "name": "stdout",
          "output_type": "stream",
          "text": [
            "Training model...\n",
            "Epoch 1/20\n",
            "1083/1083 [==============================] - 143s 119ms/step - loss: 1342.2295 - mean_absolute_error: 29.7201 - val_loss: 214.4473 - val_mean_absolute_error: 11.5169 - lr: 0.0010\n",
            "Epoch 2/20\n",
            "1083/1083 [==============================] - 60s 56ms/step - loss: 238.8643 - mean_absolute_error: 12.0604 - val_loss: 179.4969 - val_mean_absolute_error: 10.3433 - lr: 0.0010\n",
            "Epoch 3/20\n",
            "1083/1083 [==============================] - 60s 55ms/step - loss: 220.2294 - mean_absolute_error: 11.5442 - val_loss: 221.8054 - val_mean_absolute_error: 11.8596 - lr: 0.0010\n",
            "Epoch 4/20\n",
            "1083/1083 [==============================] - 61s 56ms/step - loss: 209.3514 - mean_absolute_error: 11.2443 - val_loss: 166.7784 - val_mean_absolute_error: 10.0193 - lr: 0.0010\n",
            "Epoch 5/20\n",
            "1083/1083 [==============================] - 64s 60ms/step - loss: 200.7987 - mean_absolute_error: 10.9663 - val_loss: 196.4565 - val_mean_absolute_error: 10.7758 - lr: 0.0010\n",
            "Epoch 6/20\n",
            "1084/1083 [==============================] - ETA: 0s - loss: 194.5640 - mean_absolute_error: 10.7855\n",
            "Epoch 6: ReduceLROnPlateau reducing learning rate to 0.00010000000474974513.\n",
            "1083/1083 [==============================] - 60s 56ms/step - loss: 194.5640 - mean_absolute_error: 10.7855 - val_loss: 174.2790 - val_mean_absolute_error: 10.4006 - lr: 0.0010\n",
            "Epoch 7/20\n",
            "1083/1083 [==============================] - 60s 56ms/step - loss: 177.5782 - mean_absolute_error: 10.2906 - val_loss: 143.8424 - val_mean_absolute_error: 9.0432 - lr: 1.0000e-04\n",
            "Epoch 8/20\n",
            "1083/1083 [==============================] - 60s 56ms/step - loss: 173.0137 - mean_absolute_error: 10.1341 - val_loss: 142.5913 - val_mean_absolute_error: 9.0113 - lr: 1.0000e-04\n",
            "Epoch 9/20\n",
            "1083/1083 [==============================] - 60s 56ms/step - loss: 167.6963 - mean_absolute_error: 9.9758 - val_loss: 143.3201 - val_mean_absolute_error: 9.0144 - lr: 1.0000e-04\n",
            "Epoch 10/20\n",
            "1083/1083 [==============================] - 60s 56ms/step - loss: 167.8297 - mean_absolute_error: 9.9875 - val_loss: 141.1571 - val_mean_absolute_error: 8.9139 - lr: 1.0000e-04\n",
            "Epoch 11/20\n",
            "1083/1083 [==============================] - 60s 55ms/step - loss: 166.7612 - mean_absolute_error: 9.9915 - val_loss: 141.0535 - val_mean_absolute_error: 8.9857 - lr: 1.0000e-04\n",
            "Epoch 12/20\n",
            "1083/1083 [==============================] - 60s 55ms/step - loss: 165.0787 - mean_absolute_error: 9.8876 - val_loss: 140.9355 - val_mean_absolute_error: 8.8903 - lr: 1.0000e-04\n",
            "Epoch 13/20\n",
            "1083/1083 [==============================] - 62s 57ms/step - loss: 161.4300 - mean_absolute_error: 9.7962 - val_loss: 139.5142 - val_mean_absolute_error: 8.8688 - lr: 1.0000e-04\n",
            "Epoch 14/20\n",
            "1083/1083 [==============================] - 60s 56ms/step - loss: 159.3887 - mean_absolute_error: 9.7547 - val_loss: 138.4594 - val_mean_absolute_error: 8.8559 - lr: 1.0000e-04\n",
            "Epoch 15/20\n",
            "1083/1083 [==============================] - 61s 56ms/step - loss: 156.5286 - mean_absolute_error: 9.6597 - val_loss: 138.8044 - val_mean_absolute_error: 8.9042 - lr: 1.0000e-04\n",
            "Epoch 16/20\n",
            "1083/1083 [============================>.] - ETA: 0s - loss: 158.4180 - mean_absolute_error: 9.7122\n",
            "Epoch 16: ReduceLROnPlateau reducing learning rate to 1.0000000474974514e-05.\n",
            "1083/1083 [==============================] - 60s 56ms/step - loss: 158.4767 - mean_absolute_error: 9.7136 - val_loss: 139.3111 - val_mean_absolute_error: 8.9350 - lr: 1.0000e-04\n",
            "Epoch 17/20\n",
            "1083/1083 [==============================] - 60s 55ms/step - loss: 154.2188 - mean_absolute_error: 9.5733 - val_loss: 138.4243 - val_mean_absolute_error: 8.8428 - lr: 1.0000e-05\n",
            "Epoch 18/20\n",
            "1084/1083 [==============================] - ETA: 0s - loss: 151.5155 - mean_absolute_error: 9.5268"
          ]
        }
      ],
      "source": [
        "samp_freq = 100\n",
        "time = 10\n",
        "num_leads = 12\n",
        "batchsize = 16\n",
        "epoch = 20\n",
        "mae_score_total = []\n",
        "\n",
        "print(\"Training model...\")\n",
        "\n",
        "#Chose model:\n",
        "if model_name == \"attia\":\n",
        "    model = attia_model(samp_freq, time, num_leads)\n",
        "elif model_name == \"inception\":\n",
        "    model = build_model((samp_freq*time,num_leads), 1)\n",
        "model.fit(x=shuffle_batch_generator_age(batch_size=batchsize, gen_x=generate_X_age(ecg_filenames,samp_freq=samp_freq,num_leads=num_leads), gen_y=generate_y_age(age),num_leads=num_leads, time=time, samp_freq=samp_freq), epochs=epoch, \n",
        "            steps_per_epoch=(len(ecg_filenames)/batchsize), \n",
        "            verbose = 1, \n",
        "            callbacks=[lr_schedule]\n",
        "            )"
      ]
    },
    {
      "cell_type": "code",
      "execution_count": null,
      "metadata": {
        "id": "4KIS-EsAXbZE"
      },
      "outputs": [],
      "source": [
        "model.save_weights(\"model_weights_\" + model_name + gender_choice + \".h5\")"
      ]
    },
    {
      "cell_type": "code",
      "source": [
        "def import_ecg_data(filenames, samp_freq=100,time=10,num_leads=1):\n",
        "  all_data = np.zeros((len(filenames), samp_freq * time, num_leads))\n",
        "  cnt = 0\n",
        "  print(\"Load ECGs...\")\n",
        "  for filename in tqdm.tqdm(filenames):\n",
        "    data, header_data = load_challenge_data(filename)\n",
        "    if int(header_data[0].split(\" \")[2]) != samp_freq:\n",
        "        data_new = np.ones(\n",
        "            [\n",
        "                num_leads,\n",
        "                int(\n",
        "                    (\n",
        "                        int(header_data[0].split(\" \")[3])\n",
        "                        / int(header_data[0].split(\" \")[2])\n",
        "                    )\n",
        "                    * samp_freq\n",
        "                ),\n",
        "            ]\n",
        "        )\n",
        "        data = data[0,:]\n",
        "        data = np.expand_dims(data,1)\n",
        "        scaler = MinMaxScaler()\n",
        "        scaled_data = scaler.fit_transform(data)\n",
        "        data_new = signal.resample(\n",
        "            scaled_data[:,0], #scaled_data[0],\n",
        "            int(\n",
        "                (\n",
        "                    int(header_data[0].split(\" \")[3])\n",
        "                    / int(header_data[0].split(\" \")[2])\n",
        "                )\n",
        "                * samp_freq\n",
        "            ),\n",
        "        )\n",
        "    data = data_new\n",
        "    if len(data) > 1000:\n",
        "      data = data[:1000]\n",
        "    \n",
        "    #plt.plot(data[0])\n",
        "    #plt.show()\n",
        "    #data = pad_sequences(np.expand_dims(data,0), maxlen=samp_freq * 10, truncating=\"post\", padding=\"post\")\n",
        "\n",
        "\n",
        "    all_data[cnt] = np.expand_dims(data,1)\n",
        "    cnt += 1\n",
        "  return all_data\n",
        "\n",
        "    "
      ],
      "metadata": {
        "id": "vIYI6QIyyxcv"
      },
      "execution_count": 136,
      "outputs": []
    },
    {
      "cell_type": "code",
      "source": [
        "ecg_data = import_ecg_data(ecg_filenames)"
      ],
      "metadata": {
        "id": "hArPETTIPB0w",
        "outputId": "25b95846-0eaa-4d7d-f892-37be0cade48d",
        "colab": {
          "base_uri": "https://localhost:8080/"
        }
      },
      "execution_count": 137,
      "outputs": [
        {
          "output_type": "stream",
          "name": "stdout",
          "text": [
            "Load ECGs...\n"
          ]
        },
        {
          "output_type": "stream",
          "name": "stderr",
          "text": [
            "100%|██████████| 59352/59352 [00:52<00:00, 1124.80it/s]\n"
          ]
        }
      ]
    },
    {
      "cell_type": "code",
      "source": [
        "from sklearn.utils.class_weight import compute_class_weight"
      ],
      "metadata": {
        "id": "T_cPecTAKcvp"
      },
      "execution_count": 138,
      "outputs": []
    },
    {
      "cell_type": "code",
      "source": [
        "weights = compute_class_weight(class_weight = \"balanced\", classes = np.unique(age), y = age)"
      ],
      "metadata": {
        "id": "oynZrPxvNI18"
      },
      "execution_count": 139,
      "outputs": []
    },
    {
      "cell_type": "code",
      "source": [
        "keys = np.unique(age)\n",
        "weight_dictionary = dict(zip(keys, weights))"
      ],
      "metadata": {
        "id": "epNVUN2rNs_4"
      },
      "execution_count": 140,
      "outputs": []
    },
    {
      "cell_type": "code",
      "source": [
        "plt.hist(age)\n",
        "plt.show()"
      ],
      "metadata": {
        "id": "ZdKT763lHWSU",
        "outputId": "2b7764c4-ed67-40e1-e405-f6440bed02fc",
        "colab": {
          "base_uri": "https://localhost:8080/",
          "height": 265
        }
      },
      "execution_count": 141,
      "outputs": [
        {
          "output_type": "display_data",
          "data": {
            "text/plain": [
              "<Figure size 432x288 with 1 Axes>"
            ],
            "image/png": "[encoded data removed]"
          },
          "metadata": {}
        }
      ]
    },
    {
      "cell_type": "code",
      "source": [
        "np.unique(age, return_counts=True)[0]"
      ],
      "metadata": {
        "id": "fSV64qdTWu53",
        "outputId": "6a57aab5-a32b-4f20-9bc1-0c39a4b8e986",
        "colab": {
          "base_uri": "https://localhost:8080/"
        }
      },
      "execution_count": 154,
      "outputs": [
        {
          "output_type": "execute_result",
          "data": {
            "text/plain": [
              "array([  0,   1,   4,   5,   6,   7,   8,   9,  10,  11,  12,  13,  14,\n",
              "        15,  16,  17,  18,  19,  20,  21,  22,  23,  24,  25,  26,  27,\n",
              "        28,  29,  30,  31,  32,  33,  34,  35,  36,  37,  38,  39,  40,\n",
              "        41,  42,  43,  44,  45,  46,  47,  48,  49,  50,  51,  52,  53,\n",
              "        54,  55,  56,  57,  58,  59,  60,  61,  62,  63,  64,  65,  66,\n",
              "        67,  68,  69,  70,  71,  72,  73,  74,  75,  76,  77,  78,  79,\n",
              "        80,  81,  82,  83,  84,  85,  86,  87,  88,  89,  90,  91,  92,\n",
              "        93,  94,  95,  96,  97,  98,  99, 100])"
            ]
          },
          "metadata": {},
          "execution_count": 154
        }
      ]
    },
    {
      "cell_type": "code",
      "source": [
        "len(np.unique(age, return_counts=True)[0])"
      ],
      "metadata": {
        "id": "piwWkf-jcm1v",
        "outputId": "7c54efa4-911a-4f21-877b-204322049b43",
        "colab": {
          "base_uri": "https://localhost:8080/"
        }
      },
      "execution_count": 155,
      "outputs": [
        {
          "output_type": "execute_result",
          "data": {
            "text/plain": [
              "99"
            ]
          },
          "metadata": {},
          "execution_count": 155
        }
      ]
    },
    {
      "cell_type": "code",
      "source": [
        "len(weight_dictionary)"
      ],
      "metadata": {
        "id": "FYmir4ZhW5rN",
        "outputId": "566022ff-4b27-4d69-82b7-e788dd56c23b",
        "colab": {
          "base_uri": "https://localhost:8080/"
        }
      },
      "execution_count": 147,
      "outputs": [
        {
          "output_type": "execute_result",
          "data": {
            "text/plain": [
              "99"
            ]
          },
          "metadata": {},
          "execution_count": 147
        }
      ]
    },
    {
      "cell_type": "code",
      "source": [
        "np.unique(age, return_counts=True)[1][0]"
      ],
      "metadata": {
        "id": "DyAGefqacH8U",
        "outputId": "c1c8df0c-eb2b-43d4-efd1-240062bd0814",
        "colab": {
          "base_uri": "https://localhost:8080/"
        }
      },
      "execution_count": 153,
      "outputs": [
        {
          "output_type": "execute_result",
          "data": {
            "text/plain": [
              "247"
            ]
          },
          "metadata": {},
          "execution_count": 153
        }
      ]
    },
    {
      "cell_type": "code",
      "source": [
        "np.unique(age, return_counts=True)[1].max()"
      ],
      "metadata": {
        "id": "r_JIUl4PbuYF",
        "outputId": "1a1cb5a6-9a17-422d-e507-704dcf4871ec",
        "colab": {
          "base_uri": "https://localhost:8080/"
        }
      },
      "execution_count": 151,
      "outputs": [
        {
          "output_type": "execute_result",
          "data": {
            "text/plain": [
              "1528"
            ]
          },
          "metadata": {},
          "execution_count": 151
        }
      ]
    },
    {
      "cell_type": "code",
      "source": [
        "ecg_data[np.where(age==1)[0]]"
      ],
      "metadata": {
        "id": "eulQ-3TNfFYG",
        "outputId": "d8852a94-abdb-437d-a6f3-ea1628d1c222",
        "colab": {
          "base_uri": "https://localhost:8080/"
        }
      },
      "execution_count": 163,
      "outputs": [
        {
          "output_type": "execute_result",
          "data": {
            "text/plain": [
              "(3, 1000, 1)"
            ]
          },
          "metadata": {},
          "execution_count": 163
        }
      ]
    },
    {
      "cell_type": "code",
      "source": [
        "ecg_data[np.random.choice(np.arange(ecg_data[np.where(age==1)[0]].shape[0]),100)]"
      ],
      "metadata": {
        "id": "XI2RRzTLffmb",
        "outputId": "f1c2635a-9d95-48f5-944a-8ac4d6ce4282",
        "colab": {
          "base_uri": "https://localhost:8080/"
        }
      },
      "execution_count": 167,
      "outputs": [
        {
          "output_type": "execute_result",
          "data": {
            "text/plain": [
              "(100, 1000, 1)"
            ]
          },
          "metadata": {},
          "execution_count": 167
        }
      ]
    },
    {
      "cell_type": "code",
      "source": [
        "ecg_data"
      ],
      "metadata": {
        "id": "8yZ52NXqfBnv"
      },
      "execution_count": null,
      "outputs": []
    },
    {
      "cell_type": "code",
      "source": [
        "np.random.choice(ecg_data,2)"
      ],
      "metadata": {
        "id": "k8ysfTSSefj5",
        "outputId": "c3327f4a-e7f4-4f0b-82c5-9ad1ff9a7aa6",
        "colab": {
          "base_uri": "https://localhost:8080/",
          "height": 201
        }
      },
      "execution_count": 158,
      "outputs": [
        {
          "output_type": "error",
          "ename": "ValueError",
          "evalue": "ignored",
          "traceback": [
            "\u001b[0;31m---------------------------------------------------------------------------\u001b[0m",
            "\u001b[0;31mValueError\u001b[0m                                Traceback (most recent call last)",
            "\u001b[0;32m<ipython-input-158-8dc7dda8ec56>\u001b[0m in \u001b[0;36m<module>\u001b[0;34m\u001b[0m\n\u001b[0;32m----> 1\u001b[0;31m \u001b[0mnp\u001b[0m\u001b[0;34m.\u001b[0m\u001b[0mrandom\u001b[0m\u001b[0;34m.\u001b[0m\u001b[0mchoice\u001b[0m\u001b[0;34m(\u001b[0m\u001b[0mecg_data\u001b[0m\u001b[0;34m,\u001b[0m\u001b[0;36m2\u001b[0m\u001b[0;34m)\u001b[0m\u001b[0;34m\u001b[0m\u001b[0;34m\u001b[0m\u001b[0m\n\u001b[0m",
            "\u001b[0;32mmtrand.pyx\u001b[0m in \u001b[0;36mnumpy.random.mtrand.RandomState.choice\u001b[0;34m()\u001b[0m\n",
            "\u001b[0;31mValueError\u001b[0m: a must be 1-dimensional"
          ]
        }
      ]
    },
    {
      "cell_type": "code",
      "source": [
        "def upsample_ecgs(ecg, age):\n",
        "  all_age = []\n",
        "  new_ecg_array = []\n",
        "  max_val = np.unique(age, return_counts=True)[1].max()\n",
        "\n",
        "  for age_idx in range(len(np.unique(age, return_counts=True)[0])):\n",
        "    age_n = np.ones(max_val)*np.unique(age, return_counts=True)[0][age_idx]\n",
        "    all_age.append(age_n)\n",
        "    n_resamp = max_val - np.unique(age, return_counts=True)[1][age_idx]\n",
        "    resampled_ecgs = ecg[np.random.choice(np.arange(ecg_data[np.where(age==np.unique(age, return_counts=True)[0][age_idx])[0]].shape[0]),n_resamp)]\n",
        "    original_ecgs = ecg[np.where(age==np.unique(age, return_counts=True)[0][age_idx])[0]]\n",
        "    new_ecgs = np.vstack((original_ecgs,resampled_ecgs))\n",
        "    new_ecg_array.append(new_ecgs)\n",
        "  new_age_array = np.asarray(all_age)\n",
        "  new_ecg_array = np.asarray(new_ecg_array)\n",
        "  return new_ecg_array, new_age_array"
      ],
      "metadata": {
        "id": "k1ud7WZHaoiS"
      },
      "execution_count": 194,
      "outputs": []
    },
    {
      "cell_type": "code",
      "source": [
        "new_ecg, new_age = upsample_ecgs(ecg_data, age)"
      ],
      "metadata": {
        "id": "COlCJiGdhuXc"
      },
      "execution_count": 195,
      "outputs": []
    },
    {
      "cell_type": "code",
      "source": [
        "new_ecg = new_ecg.reshape(new_age.flatten().shape[0],1000,1)"
      ],
      "metadata": {
        "id": "3e8EV-u8kNrg"
      },
      "execution_count": 196,
      "outputs": []
    },
    {
      "cell_type": "code",
      "source": [
        "new_age = new_age.flatten()"
      ],
      "metadata": {
        "id": "AyF7501WkWQe"
      },
      "execution_count": 197,
      "outputs": []
    },
    {
      "cell_type": "markdown",
      "source": [
        "# One lead model"
      ],
      "metadata": {
        "id": "Q_wTdRr7oTwD"
      }
    },
    {
      "cell_type": "code",
      "source": [
        "samp_freq = 100\n",
        "time = 10\n",
        "num_leads = 1\n",
        "batchsize = 16\n",
        "epoch = 20\n",
        "mae_score_total = []\n",
        "\n",
        "print(\"Training model...\")\n",
        "\n",
        "model = build_model((samp_freq*time,num_leads), 1)\n",
        "model.fit(x=new_ecg, y=new_age,  epochs=epoch, batch_size = batchsize,\n",
        "            steps_per_epoch=(new_ecg.shape[0]/batchsize), validation_split=0.25,\n",
        "            verbose = 1, \n",
        "            callbacks=[lr_schedule], shuffle=True,\n",
        "            )"
      ],
      "metadata": {
        "id": "q9BfnJ4fkeui",
        "outputId": "5c8ac948-d5be-4b86-ca98-aa4e889b0072",
        "colab": {
          "base_uri": "https://localhost:8080/"
        }
      },
      "execution_count": null,
      "outputs": [
        {
          "output_type": "stream",
          "name": "stdout",
          "text": [
            "Training model...\n",
            "Epoch 1/20\n",
            "2151/9454 [=====>........................] - ETA: 4:54 - loss: 19.2615 - mean_squared_error: 522.6116"
          ]
        }
      ]
    },
    {
      "cell_type": "code",
      "source": [
        "model.save_weights(\"model_weights_leadI.h5\")"
      ],
      "metadata": {
        "id": "ub0t5z9M582R"
      },
      "execution_count": null,
      "outputs": []
    },
    {
      "cell_type": "code",
      "source": [
        "data, header_data = load_challenge_data(ecg_filenames[0])"
      ],
      "metadata": {
        "id": "eSdfyyF-ofxw"
      },
      "execution_count": null,
      "outputs": []
    },
    {
      "cell_type": "code",
      "source": [
        "data = np.expand_dims(data[1,:],0)"
      ],
      "metadata": {
        "id": "4jjgRaiopMXV"
      },
      "execution_count": null,
      "outputs": []
    },
    {
      "cell_type": "code",
      "source": [
        "np.expand_dims(data[1,:],0)"
      ],
      "metadata": {
        "id": "diNQY_owpSb9"
      },
      "execution_count": null,
      "outputs": []
    },
    {
      "cell_type": "code",
      "source": [
        "new_data = np.ones(1,1000)"
      ],
      "metadata": {
        "id": "CpOGKBb2rEST",
        "outputId": "968c352c-5b09-4baa-cfc7-aa6ea5a1350f",
        "colab": {
          "base_uri": "https://localhost:8080/",
          "height": 288
        }
      },
      "execution_count": null,
      "outputs": [
        {
          "output_type": "error",
          "ename": "TypeError",
          "evalue": "ignored",
          "traceback": [
            "\u001b[0;31m---------------------------------------------------------------------------\u001b[0m",
            "\u001b[0;31mTypeError\u001b[0m                                 Traceback (most recent call last)",
            "\u001b[0;32m<ipython-input-59-da7aaf6b14a8>\u001b[0m in \u001b[0;36m<module>\u001b[0;34m\u001b[0m\n\u001b[0;32m----> 1\u001b[0;31m \u001b[0mnew_data\u001b[0m \u001b[0;34m=\u001b[0m \u001b[0mnp\u001b[0m\u001b[0;34m.\u001b[0m\u001b[0mones\u001b[0m\u001b[0;34m(\u001b[0m\u001b[0;36m1\u001b[0m\u001b[0;34m,\u001b[0m\u001b[0;36m1000\u001b[0m\u001b[0;34m)\u001b[0m\u001b[0;34m\u001b[0m\u001b[0;34m\u001b[0m\u001b[0m\n\u001b[0m",
            "\u001b[0;32m/usr/local/lib/python3.8/dist-packages/numpy/core/numeric.py\u001b[0m in \u001b[0;36mones\u001b[0;34m(shape, dtype, order, like)\u001b[0m\n\u001b[1;32m    202\u001b[0m         \u001b[0;32mreturn\u001b[0m \u001b[0m_ones_with_like\u001b[0m\u001b[0;34m(\u001b[0m\u001b[0mshape\u001b[0m\u001b[0;34m,\u001b[0m \u001b[0mdtype\u001b[0m\u001b[0;34m=\u001b[0m\u001b[0mdtype\u001b[0m\u001b[0;34m,\u001b[0m \u001b[0morder\u001b[0m\u001b[0;34m=\u001b[0m\u001b[0morder\u001b[0m\u001b[0;34m,\u001b[0m \u001b[0mlike\u001b[0m\u001b[0;34m=\u001b[0m\u001b[0mlike\u001b[0m\u001b[0;34m)\u001b[0m\u001b[0;34m\u001b[0m\u001b[0;34m\u001b[0m\u001b[0m\n\u001b[1;32m    203\u001b[0m \u001b[0;34m\u001b[0m\u001b[0m\n\u001b[0;32m--> 204\u001b[0;31m     \u001b[0ma\u001b[0m \u001b[0;34m=\u001b[0m \u001b[0mempty\u001b[0m\u001b[0;34m(\u001b[0m\u001b[0mshape\u001b[0m\u001b[0;34m,\u001b[0m \u001b[0mdtype\u001b[0m\u001b[0;34m,\u001b[0m \u001b[0morder\u001b[0m\u001b[0;34m)\u001b[0m\u001b[0;34m\u001b[0m\u001b[0;34m\u001b[0m\u001b[0m\n\u001b[0m\u001b[1;32m    205\u001b[0m     \u001b[0mmultiarray\u001b[0m\u001b[0;34m.\u001b[0m\u001b[0mcopyto\u001b[0m\u001b[0;34m(\u001b[0m\u001b[0ma\u001b[0m\u001b[0;34m,\u001b[0m \u001b[0;36m1\u001b[0m\u001b[0;34m,\u001b[0m \u001b[0mcasting\u001b[0m\u001b[0;34m=\u001b[0m\u001b[0;34m'unsafe'\u001b[0m\u001b[0;34m)\u001b[0m\u001b[0;34m\u001b[0m\u001b[0;34m\u001b[0m\u001b[0m\n\u001b[1;32m    206\u001b[0m     \u001b[0;32mreturn\u001b[0m \u001b[0ma\u001b[0m\u001b[0;34m\u001b[0m\u001b[0;34m\u001b[0m\u001b[0m\n",
            "\u001b[0;31mTypeError\u001b[0m: Cannot interpret '1000' as a data type"
          ]
        }
      ]
    },
    {
      "cell_type": "code",
      "source": [
        "data_new = signal.resample(data,1000)"
      ],
      "metadata": {
        "id": "AtA00QhxrUXa"
      },
      "execution_count": null,
      "outputs": []
    },
    {
      "cell_type": "code",
      "source": [
        "                   data_new[i] = signal.resample(\n",
        "                        j,\n",
        "                        int(\n",
        "                            (\n",
        "                                int(header_data[0].split(\" \")[3])\n",
        "                                / int(header_data[0].split(\" \")[2])\n",
        "                            )\n",
        "                            * samp_freq\n",
        "                        ),\n",
        "                    )"
      ],
      "metadata": {
        "id": "MJOr8zebp-EV"
      },
      "execution_count": null,
      "outputs": []
    }
  ],
  "metadata": {
    "accelerator": "GPU",
    "colab": {
      "name": "age-estimation-of-women-using-cnn-on-12-lead-ecg.ipynb",
      "provenance": [],
      "machine_shape": "hm"
    },
    "gpuClass": "standard",
    "kernelspec": {
      "display_name": "Python 3.8.5 ('base')",
      "language": "python",
      "name": "python3"
    },
    "language_info": {
      "codemirror_mode": {
        "name": "ipython",
        "version": 3
      },
      "file_extension": ".py",
      "mimetype": "text/x-python",
      "name": "python",
      "nbconvert_exporter": "python",
      "pygments_lexer": "ipython3",
      "version": "3.8.5"
    },
    "vscode": {
      "interpreter": {
        "hash": "39192be711985d5a4908b881b6a992a73610e2430c975ad8c4f9221a910d9ff0"
      }
    }
  },
  "nbformat": 4,
  "nbformat_minor": 0
}