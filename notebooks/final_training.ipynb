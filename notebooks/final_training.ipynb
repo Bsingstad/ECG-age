{
  "cells": [
    {
      "cell_type": "markdown",
      "metadata": {
        "id": "A0dKQrMzXNR_"
      },
      "source": [
        "# <center> Final training of Age estimation model </center>\n",
        "\n"
      ]
    },
    {
      "cell_type": "code",
      "execution_count": 1,
      "metadata": {
        "colab": {
          "base_uri": "https://localhost:8080/"
        },
        "id": "h-wFUDFP50F2",
        "outputId": "cdc632f7-75d9-4264-aef2-17c1a74d2a3c"
      },
      "outputs": [
        {
          "output_type": "stream",
          "name": "stdout",
          "text": [
            "Collecting GitPython\n",
            "  Downloading GitPython-3.1.41-py3-none-any.whl (196 kB)\n",
            "\u001b[?25l     \u001b[90m━━━━━━━━━━━━━━━━━━━━━━━━━━━━━━━━━━━━━━━━\u001b[0m \u001b[32m0.0/196.4 kB\u001b[0m \u001b[31m?\u001b[0m eta \u001b[36m-:--:--\u001b[0m\r\u001b[2K     \u001b[91m━━━━━━━━━━━━━━━━━━━━━━\u001b[0m\u001b[91m╸\u001b[0m\u001b[90m━━━━━━━━━━━━━━━━━\u001b[0m \u001b[32m112.6/196.4 kB\u001b[0m \u001b[31m3.1 MB/s\u001b[0m eta \u001b[36m0:00:01\u001b[0m\r\u001b[2K     \u001b[90m━━━━━━━━━━━━━━━━━━━━━━━━━━━━━━━━━━━━━━━━\u001b[0m \u001b[32m196.4/196.4 kB\u001b[0m \u001b[31m3.0 MB/s\u001b[0m eta \u001b[36m0:00:00\u001b[0m\n",
            "\u001b[?25hCollecting gitdb<5,>=4.0.1 (from GitPython)\n",
            "  Downloading gitdb-4.0.11-py3-none-any.whl (62 kB)\n",
            "\u001b[?25l     \u001b[90m━━━━━━━━━━━━━━━━━━━━━━━━━━━━━━━━━━━━━━━━\u001b[0m \u001b[32m0.0/62.7 kB\u001b[0m \u001b[31m?\u001b[0m eta \u001b[36m-:--:--\u001b[0m\r\u001b[2K     \u001b[90m━━━━━━━━━━━━━━━━━━━━━━━━━━━━━━━━━━━━━━━━\u001b[0m \u001b[32m62.7/62.7 kB\u001b[0m \u001b[31m4.6 MB/s\u001b[0m eta \u001b[36m0:00:00\u001b[0m\n",
            "\u001b[?25hCollecting smmap<6,>=3.0.1 (from gitdb<5,>=4.0.1->GitPython)\n",
            "  Downloading smmap-5.0.1-py3-none-any.whl (24 kB)\n",
            "Installing collected packages: smmap, gitdb, GitPython\n",
            "Successfully installed GitPython-3.1.41 gitdb-4.0.11 smmap-5.0.1\n"
          ]
        }
      ],
      "source": [
        "!pip install GitPython\n",
        "from git import Repo"
      ]
    },
    {
      "cell_type": "code",
      "execution_count": 2,
      "metadata": {
        "colab": {
          "base_uri": "https://localhost:8080/"
        },
        "id": "GxnaopyB9CC3",
        "outputId": "cce251f0-896d-46d6-ef4a-ab4b80627b6c"
      },
      "outputs": [
        {
          "output_type": "stream",
          "name": "stdout",
          "text": [
            "Collecting wget\n",
            "  Downloading wget-3.2.zip (10 kB)\n",
            "  Preparing metadata (setup.py) ... \u001b[?25l\u001b[?25hdone\n",
            "Collecting wfdb\n",
            "  Downloading wfdb-4.1.2-py3-none-any.whl (159 kB)\n",
            "\u001b[2K     \u001b[90m━━━━━━━━━━━━━━━━━━━━━━━━━━━━━━━━━━━━━━━━\u001b[0m \u001b[32m160.0/160.0 kB\u001b[0m \u001b[31m3.4 MB/s\u001b[0m eta \u001b[36m0:00:00\u001b[0m\n",
            "\u001b[?25hCollecting neurokit2\n",
            "  Downloading neurokit2-0.2.7-py2.py3-none-any.whl (1.3 MB)\n",
            "\u001b[2K     \u001b[90m━━━━━━━━━━━━━━━━━━━━━━━━━━━━━━━━━━━━━━━━\u001b[0m \u001b[32m1.3/1.3 MB\u001b[0m \u001b[31m14.1 MB/s\u001b[0m eta \u001b[36m0:00:00\u001b[0m\n",
            "\u001b[?25hRequirement already satisfied: SoundFile>=0.10.0 in /usr/local/lib/python3.10/dist-packages (from wfdb) (0.12.1)\n",
            "Requirement already satisfied: matplotlib>=3.2.2 in /usr/local/lib/python3.10/dist-packages (from wfdb) (3.7.1)\n",
            "Requirement already satisfied: numpy>=1.10.1 in /usr/local/lib/python3.10/dist-packages (from wfdb) (1.23.5)\n",
            "Requirement already satisfied: pandas>=1.3.0 in /usr/local/lib/python3.10/dist-packages (from wfdb) (1.5.3)\n",
            "Requirement already satisfied: requests>=2.8.1 in /usr/local/lib/python3.10/dist-packages (from wfdb) (2.31.0)\n",
            "Requirement already satisfied: scipy>=1.0.0 in /usr/local/lib/python3.10/dist-packages (from wfdb) (1.11.4)\n",
            "Requirement already satisfied: scikit-learn>=1.0.0 in /usr/local/lib/python3.10/dist-packages (from neurokit2) (1.2.2)\n",
            "Requirement already satisfied: contourpy>=1.0.1 in /usr/local/lib/python3.10/dist-packages (from matplotlib>=3.2.2->wfdb) (1.2.0)\n",
            "Requirement already satisfied: cycler>=0.10 in /usr/local/lib/python3.10/dist-packages (from matplotlib>=3.2.2->wfdb) (0.12.1)\n",
            "Requirement already satisfied: fonttools>=4.22.0 in /usr/local/lib/python3.10/dist-packages (from matplotlib>=3.2.2->wfdb) (4.47.0)\n",
            "Requirement already satisfied: kiwisolver>=1.0.1 in /usr/local/lib/python3.10/dist-packages (from matplotlib>=3.2.2->wfdb) (1.4.5)\n",
            "Requirement already satisfied: packaging>=20.0 in /usr/local/lib/python3.10/dist-packages (from matplotlib>=3.2.2->wfdb) (23.2)\n",
            "Requirement already satisfied: pillow>=6.2.0 in /usr/local/lib/python3.10/dist-packages (from matplotlib>=3.2.2->wfdb) (9.4.0)\n",
            "Requirement already satisfied: pyparsing>=2.3.1 in /usr/local/lib/python3.10/dist-packages (from matplotlib>=3.2.2->wfdb) (3.1.1)\n",
            "Requirement already satisfied: python-dateutil>=2.7 in /usr/local/lib/python3.10/dist-packages (from matplotlib>=3.2.2->wfdb) (2.8.2)\n",
            "Requirement already satisfied: pytz>=2020.1 in /usr/local/lib/python3.10/dist-packages (from pandas>=1.3.0->wfdb) (2023.3.post1)\n",
            "Requirement already satisfied: charset-normalizer<4,>=2 in /usr/local/lib/python3.10/dist-packages (from requests>=2.8.1->wfdb) (3.3.2)\n",
            "Requirement already satisfied: idna<4,>=2.5 in /usr/local/lib/python3.10/dist-packages (from requests>=2.8.1->wfdb) (3.6)\n",
            "Requirement already satisfied: urllib3<3,>=1.21.1 in /usr/local/lib/python3.10/dist-packages (from requests>=2.8.1->wfdb) (2.0.7)\n",
            "Requirement already satisfied: certifi>=2017.4.17 in /usr/local/lib/python3.10/dist-packages (from requests>=2.8.1->wfdb) (2023.11.17)\n",
            "Requirement already satisfied: joblib>=1.1.1 in /usr/local/lib/python3.10/dist-packages (from scikit-learn>=1.0.0->neurokit2) (1.3.2)\n",
            "Requirement already satisfied: threadpoolctl>=2.0.0 in /usr/local/lib/python3.10/dist-packages (from scikit-learn>=1.0.0->neurokit2) (3.2.0)\n",
            "Requirement already satisfied: cffi>=1.0 in /usr/local/lib/python3.10/dist-packages (from SoundFile>=0.10.0->wfdb) (1.16.0)\n",
            "Requirement already satisfied: pycparser in /usr/local/lib/python3.10/dist-packages (from cffi>=1.0->SoundFile>=0.10.0->wfdb) (2.21)\n",
            "Requirement already satisfied: six>=1.5 in /usr/local/lib/python3.10/dist-packages (from python-dateutil>=2.7->matplotlib>=3.2.2->wfdb) (1.16.0)\n",
            "Building wheels for collected packages: wget\n",
            "  Building wheel for wget (setup.py) ... \u001b[?25l\u001b[?25hdone\n",
            "  Created wheel for wget: filename=wget-3.2-py3-none-any.whl size=9655 sha256=796221ed6b688dd6e601cc8c1465cdeccee5f291e1a4bddebaa3ae0d5c0c908b\n",
            "  Stored in directory: /root/.cache/pip/wheels/8b/f1/7f/5c94f0a7a505ca1c81cd1d9208ae2064675d97582078e6c769\n",
            "Successfully built wget\n",
            "Installing collected packages: wget, wfdb, neurokit2\n",
            "Successfully installed neurokit2-0.2.7 wfdb-4.1.2 wget-3.2\n"
          ]
        }
      ],
      "source": [
        "!pip install wget wfdb neurokit2"
      ]
    },
    {
      "cell_type": "code",
      "execution_count": 6,
      "metadata": {
        "colab": {
          "base_uri": "https://localhost:8080/"
        },
        "id": "ZAshTjBx9Ku5",
        "outputId": "9be513c3-9969-4d6a-9799-b946bbf82aae"
      },
      "outputs": [
        {
          "output_type": "stream",
          "name": "stdout",
          "text": [
            "kaggle.json\n"
          ]
        }
      ],
      "source": [
        "!mkdir -p ~/.kaggle\n",
        "!cp kaggle.json ~/.kaggle/\n",
        "!ls ~/.kaggle\n",
        "!chmod 600 /root/.kaggle/kaggle.json"
      ]
    },
    {
      "cell_type": "code",
      "execution_count": 7,
      "metadata": {
        "colab": {
          "base_uri": "https://localhost:8080/"
        },
        "id": "XX8Ht9i69dgA",
        "outputId": "6f749817-c617-4300-be06-1ea4a20a048c"
      },
      "outputs": [
        {
          "output_type": "stream",
          "name": "stdout",
          "text": [
            "Downloading georgia-12lead-ecg-challenge-database.zip to /content\n",
            " 99% 480M/483M [00:16<00:00, 34.1MB/s]\n",
            "100% 483M/483M [00:16<00:00, 31.0MB/s]\n",
            "Downloading st-petersburg-incart-12lead-arrhythmia-database.zip to /content\n",
            "100% 563M/564M [00:20<00:00, 30.8MB/s]\n",
            "100% 564M/564M [00:20<00:00, 28.5MB/s]\n",
            "Downloading china-12lead-ecg-challenge-database.zip to /content\n",
            " 99% 402M/406M [00:15<00:00, 34.9MB/s]\n",
            "100% 406M/406M [00:15<00:00, 27.7MB/s]\n",
            "Downloading china-physiological-signal-challenge-in-2018.zip to /content\n",
            "100% 824M/824M [00:34<00:00, 27.2MB/s]\n",
            "100% 824M/824M [00:34<00:00, 25.1MB/s]\n",
            "Downloading chapmanshaoxing-12lead-ecg-database.zip to /content\n",
            "100% 545M/547M [00:22<00:00, 38.8MB/s]\n",
            "100% 547M/547M [00:22<00:00, 25.1MB/s]\n",
            "Downloading ningbo-first-hospital-12lead-ecg-database.zip to /content\n",
            "100% 1.78G/1.78G [01:01<00:00, 38.8MB/s]\n",
            "100% 1.78G/1.78G [01:01<00:00, 30.9MB/s]\n",
            "Downloading physionet-challenge-2021-snomed-mappings.zip to /content\n",
            "  0% 0.00/4.13k [00:00<?, ?B/s]\n",
            "100% 4.13k/4.13k [00:00<00:00, 12.5MB/s]\n"
          ]
        }
      ],
      "source": [
        "!kaggle datasets download -d bjoernjostein/georgia-12lead-ecg-challenge-database\n",
        "!kaggle datasets download -d bjoernjostein/st-petersburg-incart-12lead-arrhythmia-database\n",
        "!kaggle datasets download -d bjoernjostein/china-12lead-ecg-challenge-database\n",
        "!kaggle datasets download -d bjoernjostein/china-physiological-signal-challenge-in-2018\n",
        "!kaggle datasets download -d erarayamorenzomuten/chapmanshaoxing-12lead-ecg-database\n",
        "!kaggle datasets download -d erarayamorenzomuten/ningbo-first-hospital-12lead-ecg-database\n",
        "\n",
        "!kaggle datasets download -d bjoernjostein/physionet-challenge-2021-snomed-mappings"
      ]
    },
    {
      "cell_type": "code",
      "execution_count": 8,
      "metadata": {
        "id": "vDRLPbh-96DT"
      },
      "outputs": [],
      "source": [
        "import os, zipfile\n",
        "\n",
        "dir_name = \"./\"\n",
        "extension = \".zip\"\n",
        "\n",
        "os.chdir(dir_name) # change directory from working dir to dir with files\n",
        "\n",
        "for item in os.listdir(dir_name): # loop through items in dir\n",
        "    if item.endswith(extension): # check for \".zip\" extension\n",
        "        file_name = os.path.abspath(item) # get full path of files\n",
        "        zip_ref = zipfile.ZipFile(file_name) # create zipfile object\n",
        "        zip_ref.extractall(dir_name) # extract file to dir\n",
        "        zip_ref.close() # close file\n",
        "        os.remove(file_name) # delete zipped file"
      ]
    },
    {
      "cell_type": "code",
      "source": [
        "HTTPS_REMOTE_URL = 'https://github.com/Bsingstad/ECG-age.git'\n",
        "DEST_NAME = 'ecg_age'\n",
        "cloned_repo = Repo.clone_from(HTTPS_REMOTE_URL, DEST_NAME)"
      ],
      "metadata": {
        "id": "NebrV6SclF-5"
      },
      "execution_count": 9,
      "outputs": []
    },
    {
      "cell_type": "code",
      "execution_count": 10,
      "metadata": {
        "id": "zpTuYst398gs"
      },
      "outputs": [],
      "source": [
        "import shutil\n",
        "import os\n",
        "os.mkdir(\"/content/ecg_age/data\")\n",
        "sources = ['Training_2/',  'Training_StPetersburg/','Training_WFDB/','WFDB_ChapmanShaoxing/', 'WFDB_Ningbo/', \"WFDB/\"]\n",
        "dest1 = '/content/ecg_age/data/'\n",
        "\n",
        "\n",
        "for s in sources:\n",
        "  files = os.listdir(s)\n",
        "  for f in files:\n",
        "      shutil.move(s+f, dest1)"
      ]
    },
    {
      "cell_type": "code",
      "execution_count": 11,
      "metadata": {
        "id": "Rcmhr7MGXNSI"
      },
      "outputs": [],
      "source": [
        "from ecg_age.src.helpers.helpers import *\n",
        "from ecg_age.src.models.models import *"
      ]
    },
    {
      "cell_type": "code",
      "execution_count": 12,
      "metadata": {
        "_kg_hide-input": true,
        "execution": {
          "iopub.execute_input": "2022-05-31T14:25:18.521174Z",
          "iopub.status.busy": "2022-05-31T14:25:18.520855Z",
          "iopub.status.idle": "2022-05-31T14:25:25.957466Z",
          "shell.execute_reply": "2022-05-31T14:25:25.955896Z",
          "shell.execute_reply.started": "2022-05-31T14:25:18.521144Z"
        },
        "id": "BmvpEhIaXNSJ",
        "trusted": true
      },
      "outputs": [],
      "source": [
        "import pandas as pd\n",
        "from scipy import stats\n",
        "import numpy as np\n",
        "import matplotlib.pyplot as plt\n",
        "import seaborn as sns\n",
        "import tensorflow as tf\n",
        "import tqdm\n",
        "from scipy import signal\n",
        "from tensorflow import keras\n",
        "from tensorflow.keras.preprocessing.sequence import pad_sequences\n",
        "from sklearn.preprocessing import LabelEncoder\n",
        "from sklearn.utils.class_weight import compute_class_weight\n",
        "from sklearn.metrics import roc_auc_score\n",
        "from scipy.io import loadmat\n",
        "from sklearn.preprocessing import MultiLabelBinarizer\n",
        "from sklearn.model_selection import StratifiedKFold\n",
        "from sklearn.metrics import confusion_matrix\n",
        "from sklearn.metrics import mean_absolute_error\n",
        "from sklearn.metrics import mean_squared_error\n",
        "from sklearn.metrics import accuracy_score\n",
        "from sklearn.metrics import f1_score\n",
        "from sklearn.preprocessing import MinMaxScaler\n",
        "import warnings\n",
        "warnings.filterwarnings('ignore')\n",
        "%matplotlib inline\n",
        "%load_ext autoreload\n",
        "%autoreload\n",
        "%reload_ext autoreload\n",
        "sns.set_style(\"dark\")"
      ]
    },
    {
      "cell_type": "code",
      "execution_count": 13,
      "metadata": {
        "_kg_hide-input": true,
        "colab": {
          "base_uri": "https://localhost:8080/"
        },
        "execution": {
          "iopub.execute_input": "2022-05-31T14:25:25.961233Z",
          "iopub.status.busy": "2022-05-31T14:25:25.960438Z",
          "iopub.status.idle": "2022-05-31T14:36:53.050758Z",
          "shell.execute_reply": "2022-05-31T14:36:53.049532Z",
          "shell.execute_reply.started": "2022-05-31T14:25:25.961183Z"
        },
        "id": "6ou1aKAnXNSK",
        "outputId": "38e40601-043e-47cb-f78d-078b4d2ff615",
        "trusted": true
      },
      "outputs": [
        {
          "output_type": "stream",
          "name": "stdout",
          "text": [
            "Collecting labels, ECG filenames and metadata...\n"
          ]
        },
        {
          "output_type": "stream",
          "name": "stderr",
          "text": [
            "100%|██████████| 131800/131800 [02:51<00:00, 768.93it/s]\n"
          ]
        },
        {
          "output_type": "stream",
          "name": "stdout",
          "text": [
            "Total number of patients found: 59490\n"
          ]
        }
      ],
      "source": [
        "######################################################\n",
        "print(\"Collecting labels, ECG filenames and metadata...\")\n",
        "gender, age, labels, ecg_len, ecg_filenames = import_key_data(\"/content/ecg_age/data/\")\n",
        "ecg_filenames = np.asarray(ecg_filenames)\n",
        "age = np.asarray(age)\n",
        "gender = np.asarray(gender)\n",
        "ecg_len = np.asarray(ecg_len)\n",
        "labels = np.asarray(labels)\n",
        "print(f\"Total number of patients found: {len(age)}\")"
      ]
    },
    {
      "cell_type": "code",
      "execution_count": 14,
      "metadata": {
        "_kg_hide-input": true,
        "colab": {
          "base_uri": "https://localhost:8080/"
        },
        "execution": {
          "iopub.execute_input": "2022-05-31T14:36:53.058323Z",
          "iopub.status.busy": "2022-05-31T14:36:53.055616Z",
          "iopub.status.idle": "2022-05-31T14:36:53.1412Z",
          "shell.execute_reply": "2022-05-31T14:36:53.140173Z",
          "shell.execute_reply.started": "2022-05-31T14:36:53.058278Z"
        },
        "id": "KR2ws89DXNSL",
        "outputId": "2b1c14ab-7784-4794-d4cc-efb1688c591b",
        "trusted": true
      },
      "outputs": [
        {
          "output_type": "stream",
          "name": "stdout",
          "text": [
            "remove all ECGs not equal to 10 seconds\n"
          ]
        }
      ],
      "source": [
        "#####################################################\n",
        "print(\"remove all ECGs not equal to 10 seconds\")\n",
        "age, gender,ecg_filenames, labels = only_ten_sec(ecg_len, age, gender, ecg_filenames, labels)"
      ]
    },
    {
      "cell_type": "code",
      "execution_count": 15,
      "metadata": {
        "id": "REOVqwR1XbZC",
        "outputId": "2b150294-3720-42c4-e37c-ff870843994b",
        "colab": {
          "base_uri": "https://localhost:8080/"
        }
      },
      "outputs": [
        {
          "output_type": "stream",
          "name": "stdout",
          "text": [
            "remove all ECGs with missing values in gender or age\n"
          ]
        }
      ],
      "source": [
        "print(\"remove all ECGs with missing values in gender or age\")\n",
        "ecg_filenames, gender, age, labels = remove_nan_and_unknown_values(ecg_filenames, gender, age, labels)"
      ]
    },
    {
      "cell_type": "code",
      "execution_count": 16,
      "metadata": {
        "_kg_hide-input": true,
        "colab": {
          "base_uri": "https://localhost:8080/"
        },
        "execution": {
          "iopub.execute_input": "2022-05-31T14:36:53.381532Z",
          "iopub.status.busy": "2022-05-31T14:36:53.378988Z",
          "iopub.status.idle": "2022-05-31T14:36:53.617739Z",
          "shell.execute_reply": "2022-05-31T14:36:53.616633Z",
          "shell.execute_reply.started": "2022-05-31T14:36:53.381461Z"
        },
        "id": "Keo8bt5nXNSN",
        "outputId": "96aac707-a6b8-44d2-a4e3-6126b2a9591d",
        "trusted": true
      },
      "outputs": [
        {
          "output_type": "stream",
          "name": "stdout",
          "text": [
            "Total number of patients left after data cleaning: 59352\n"
          ]
        }
      ],
      "source": [
        "age = clean_up_age_data(age)\n",
        "gender = clean_up_gender_data(gender)\n",
        "\n",
        "print(f\"Total number of patients left after data cleaning: {len(age)}\")"
      ]
    },
    {
      "cell_type": "code",
      "execution_count": 17,
      "metadata": {
        "id": "bjcD39HqXbZD",
        "outputId": "60e70db1-63a3-41fd-f4b2-c000138ccd33",
        "colab": {
          "base_uri": "https://localhost:8080/"
        }
      },
      "outputs": [
        {
          "output_type": "stream",
          "name": "stdout",
          "text": [
            "Select ECGs from males or females\n",
            "Train on both male and female\n"
          ]
        }
      ],
      "source": [
        "print(\"Select ECGs from males or females\")\n",
        "gender_choice = \"both\"\n",
        "\n",
        "if gender_choice == \"female\":\n",
        "    gender, age, ecg_filenames, labels = male_or_female(gender, age, ecg_filenames, labels, g=\"female\")\n",
        "elif gender_choice == \"male\":\n",
        "    gender, age, ecg_filenames, labels = male_or_female(gender, age, ecg_filenames, labels, g=\"male\")\n",
        "else:\n",
        "    print(\"Train on both male and female\")\n",
        "    pass"
      ]
    },
    {
      "cell_type": "code",
      "source": [
        "np.unique(age,return_counts=True)"
      ],
      "metadata": {
        "id": "XIY9aYESVWEr",
        "outputId": "3b9718d3-8fe6-49b8-cb76-6c38018b0ed1",
        "colab": {
          "base_uri": "https://localhost:8080/"
        }
      },
      "execution_count": 18,
      "outputs": [
        {
          "output_type": "execute_result",
          "data": {
            "text/plain": [
              "(array([  0,   1,   4,   5,   6,   7,   8,   9,  10,  11,  12,  13,  14,\n",
              "         15,  16,  17,  18,  19,  20,  21,  22,  23,  24,  25,  26,  27,\n",
              "         28,  29,  30,  31,  32,  33,  34,  35,  36,  37,  38,  39,  40,\n",
              "         41,  42,  43,  44,  45,  46,  47,  48,  49,  50,  51,  52,  53,\n",
              "         54,  55,  56,  57,  58,  59,  60,  61,  62,  63,  64,  65,  66,\n",
              "         67,  68,  69,  70,  71,  72,  73,  74,  75,  76,  77,  78,  79,\n",
              "         80,  81,  82,  83,  84,  85,  86,  87,  88,  89,  90,  91,  92,\n",
              "         93,  94,  95,  96,  97,  98,  99, 100]),\n",
              " array([ 247,    3,  299,  244,  185,  138,  107,  123,   83,   83,  108,\n",
              "          66,   67,  104,  131,  137,  142,  154,  197,  237,  337,  238,\n",
              "         219,  215,  283,  307,  316,  338,  392,  334,  281,  313,  330,\n",
              "         354,  382,  369,  381,  408,  456,  477,  524,  528,  646,  683,\n",
              "         809,  793,  877,  903,  945, 1068, 1151, 1245, 1329, 1020,  888,\n",
              "         974, 1036, 1133, 1341, 1345, 1393, 1440, 1429, 1433, 1312, 1464,\n",
              "        1513, 1528, 1400, 1351, 1263, 1138, 1114, 1127,  971,  933,  964,\n",
              "        1045, 1010,  921,  903,  976,  768,  650,  549,  428,  349,  964,\n",
              "          66,   31,   35,   24,   12,    9,   10,    1,    2,    2,    1]))"
            ]
          },
          "metadata": {},
          "execution_count": 18
        }
      ]
    },
    {
      "cell_type": "code",
      "execution_count": 19,
      "metadata": {
        "colab": {
          "base_uri": "https://localhost:8080/"
        },
        "execution": {
          "iopub.execute_input": "2022-05-31T14:36:53.696689Z",
          "iopub.status.busy": "2022-05-31T14:36:53.694035Z",
          "iopub.status.idle": "2022-05-31T14:36:53.711576Z",
          "shell.execute_reply": "2022-05-31T14:36:53.710079Z",
          "shell.execute_reply.started": "2022-05-31T14:36:53.696644Z"
        },
        "id": "zWhF7DewXNSO",
        "outputId": "48d26595-a4ad-446e-cd77-df24df4cb929",
        "trusted": true
      },
      "outputs": [
        {
          "output_type": "stream",
          "name": "stdout",
          "text": [
            "Total number of patients left after selection and data cleaning: 59352\n"
          ]
        }
      ],
      "source": [
        "print(f\"Total number of patients left after selection and data cleaning: {len(age)}\")"
      ]
    },
    {
      "cell_type": "code",
      "execution_count": 20,
      "metadata": {
        "id": "6okJxzdmXbZD"
      },
      "outputs": [],
      "source": [
        "#TODO: update this acording to the optimal learning rate schedule found in hyperparameter opt.\n",
        "def scheduler(epoch, lr):\n",
        "    if epoch == 10:\n",
        "        return lr * 0.1\n",
        "    elif epoch == 15:\n",
        "        return lr * 0.1\n",
        "    elif epoch == 20:\n",
        "        return lr * 0.1\n",
        "    else:\n",
        "        return lr"
      ]
    },
    {
      "cell_type": "code",
      "execution_count": 21,
      "metadata": {
        "_kg_hide-input": true,
        "execution": {
          "iopub.execute_input": "2022-05-31T14:36:53.831108Z",
          "iopub.status.busy": "2022-05-31T14:36:53.830604Z",
          "iopub.status.idle": "2022-05-31T14:36:53.840742Z",
          "shell.execute_reply": "2022-05-31T14:36:53.839721Z",
          "shell.execute_reply.started": "2022-05-31T14:36:53.831052Z"
        },
        "id": "djkCTd91XNSP",
        "trusted": true
      },
      "outputs": [],
      "source": [
        "lr_schedule = tf.keras.callbacks.LearningRateScheduler(scheduler, verbose=0)"
      ]
    },
    {
      "cell_type": "code",
      "execution_count": 22,
      "metadata": {
        "id": "KngfVTtLXbZE"
      },
      "outputs": [],
      "source": [
        "model_name = \"inception\" # or \"inception\""
      ]
    },
    {
      "cell_type": "markdown",
      "source": [
        "# Training a 12 lead model"
      ],
      "metadata": {
        "id": "1OXP6hlwZPUp"
      }
    },
    {
      "cell_type": "code",
      "execution_count": 23,
      "metadata": {
        "_kg_hide-input": true,
        "colab": {
          "base_uri": "https://localhost:8080/",
          "height": 461
        },
        "execution": {
          "iopub.execute_input": "2022-05-31T14:36:53.913635Z",
          "iopub.status.busy": "2022-05-31T14:36:53.912945Z",
          "iopub.status.idle": "2022-05-31T14:56:24.06372Z",
          "shell.execute_reply": "2022-05-31T14:56:24.059549Z",
          "shell.execute_reply.started": "2022-05-31T14:36:53.913583Z"
        },
        "id": "2odSNCwgXNSQ",
        "outputId": "77450e9d-4915-4c53-9ee8-ceae5536ec0e",
        "trusted": true
      },
      "outputs": [
        {
          "output_type": "stream",
          "name": "stdout",
          "text": [
            "Training model...\n",
            "Epoch 1/20\n",
            "1448/3709 [==========>...................] - ETA: 3:06 - loss: 15.3188 - mean_squared_error: 470.2140"
          ]
        },
        {
          "output_type": "error",
          "ename": "KeyboardInterrupt",
          "evalue": "",
          "traceback": [
            "\u001b[0;31m---------------------------------------------------------------------------\u001b[0m",
            "\u001b[0;31mKeyboardInterrupt\u001b[0m                         Traceback (most recent call last)",
            "\u001b[0;32m<ipython-input-23-f6d5cc58f8e2>\u001b[0m in \u001b[0;36m<cell line: 15>\u001b[0;34m()\u001b[0m\n\u001b[1;32m     13\u001b[0m \u001b[0;32melif\u001b[0m \u001b[0mmodel_name\u001b[0m \u001b[0;34m==\u001b[0m \u001b[0;34m\"inception\"\u001b[0m\u001b[0;34m:\u001b[0m\u001b[0;34m\u001b[0m\u001b[0;34m\u001b[0m\u001b[0m\n\u001b[1;32m     14\u001b[0m     \u001b[0mmodel\u001b[0m \u001b[0;34m=\u001b[0m \u001b[0mbuild_model\u001b[0m\u001b[0;34m(\u001b[0m\u001b[0;34m(\u001b[0m\u001b[0msamp_freq\u001b[0m\u001b[0;34m*\u001b[0m\u001b[0mtime\u001b[0m\u001b[0;34m,\u001b[0m\u001b[0mnum_leads\u001b[0m\u001b[0;34m)\u001b[0m\u001b[0;34m,\u001b[0m \u001b[0;36m1\u001b[0m\u001b[0;34m)\u001b[0m\u001b[0;34m\u001b[0m\u001b[0;34m\u001b[0m\u001b[0m\n\u001b[0;32m---> 15\u001b[0;31m model.fit(x=shuffle_batch_generator_age(batch_size=batchsize, gen_x=generate_X_age(ecg_filenames,samp_freq=samp_freq,num_leads=num_leads), gen_y=generate_y_age(age),num_leads=num_leads, time=time, samp_freq=samp_freq), epochs=epoch, \n\u001b[0m\u001b[1;32m     16\u001b[0m             \u001b[0msteps_per_epoch\u001b[0m\u001b[0;34m=\u001b[0m\u001b[0;34m(\u001b[0m\u001b[0mlen\u001b[0m\u001b[0;34m(\u001b[0m\u001b[0mecg_filenames\u001b[0m\u001b[0;34m)\u001b[0m\u001b[0;34m/\u001b[0m\u001b[0mbatchsize\u001b[0m\u001b[0;34m)\u001b[0m\u001b[0;34m,\u001b[0m\u001b[0;34m\u001b[0m\u001b[0;34m\u001b[0m\u001b[0m\n\u001b[1;32m     17\u001b[0m             \u001b[0mverbose\u001b[0m \u001b[0;34m=\u001b[0m \u001b[0;36m1\u001b[0m\u001b[0;34m,\u001b[0m\u001b[0;34m\u001b[0m\u001b[0;34m\u001b[0m\u001b[0m\n",
            "\u001b[0;32m/usr/local/lib/python3.10/dist-packages/keras/src/utils/traceback_utils.py\u001b[0m in \u001b[0;36merror_handler\u001b[0;34m(*args, **kwargs)\u001b[0m\n\u001b[1;32m     63\u001b[0m         \u001b[0mfiltered_tb\u001b[0m \u001b[0;34m=\u001b[0m \u001b[0;32mNone\u001b[0m\u001b[0;34m\u001b[0m\u001b[0;34m\u001b[0m\u001b[0m\n\u001b[1;32m     64\u001b[0m         \u001b[0;32mtry\u001b[0m\u001b[0;34m:\u001b[0m\u001b[0;34m\u001b[0m\u001b[0;34m\u001b[0m\u001b[0m\n\u001b[0;32m---> 65\u001b[0;31m             \u001b[0;32mreturn\u001b[0m \u001b[0mfn\u001b[0m\u001b[0;34m(\u001b[0m\u001b[0;34m*\u001b[0m\u001b[0margs\u001b[0m\u001b[0;34m,\u001b[0m \u001b[0;34m**\u001b[0m\u001b[0mkwargs\u001b[0m\u001b[0;34m)\u001b[0m\u001b[0;34m\u001b[0m\u001b[0;34m\u001b[0m\u001b[0m\n\u001b[0m\u001b[1;32m     66\u001b[0m         \u001b[0;32mexcept\u001b[0m \u001b[0mException\u001b[0m \u001b[0;32mas\u001b[0m \u001b[0me\u001b[0m\u001b[0;34m:\u001b[0m\u001b[0;34m\u001b[0m\u001b[0;34m\u001b[0m\u001b[0m\n\u001b[1;32m     67\u001b[0m             \u001b[0mfiltered_tb\u001b[0m \u001b[0;34m=\u001b[0m \u001b[0m_process_traceback_frames\u001b[0m\u001b[0;34m(\u001b[0m\u001b[0me\u001b[0m\u001b[0;34m.\u001b[0m\u001b[0m__traceback__\u001b[0m\u001b[0;34m)\u001b[0m\u001b[0;34m\u001b[0m\u001b[0;34m\u001b[0m\u001b[0m\n",
            "\u001b[0;32m/usr/local/lib/python3.10/dist-packages/keras/src/engine/training.py\u001b[0m in \u001b[0;36mfit\u001b[0;34m(self, x, y, batch_size, epochs, verbose, callbacks, validation_split, validation_data, shuffle, class_weight, sample_weight, initial_epoch, steps_per_epoch, validation_steps, validation_batch_size, validation_freq, max_queue_size, workers, use_multiprocessing)\u001b[0m\n\u001b[1;32m   1805\u001b[0m                         ):\n\u001b[1;32m   1806\u001b[0m                             \u001b[0mcallbacks\u001b[0m\u001b[0;34m.\u001b[0m\u001b[0mon_train_batch_begin\u001b[0m\u001b[0;34m(\u001b[0m\u001b[0mstep\u001b[0m\u001b[0;34m)\u001b[0m\u001b[0;34m\u001b[0m\u001b[0;34m\u001b[0m\u001b[0m\n\u001b[0;32m-> 1807\u001b[0;31m                             \u001b[0mtmp_logs\u001b[0m \u001b[0;34m=\u001b[0m \u001b[0mself\u001b[0m\u001b[0;34m.\u001b[0m\u001b[0mtrain_function\u001b[0m\u001b[0;34m(\u001b[0m\u001b[0miterator\u001b[0m\u001b[0;34m)\u001b[0m\u001b[0;34m\u001b[0m\u001b[0;34m\u001b[0m\u001b[0m\n\u001b[0m\u001b[1;32m   1808\u001b[0m                             \u001b[0;32mif\u001b[0m \u001b[0mdata_handler\u001b[0m\u001b[0;34m.\u001b[0m\u001b[0mshould_sync\u001b[0m\u001b[0;34m:\u001b[0m\u001b[0;34m\u001b[0m\u001b[0;34m\u001b[0m\u001b[0m\n\u001b[1;32m   1809\u001b[0m                                 \u001b[0mcontext\u001b[0m\u001b[0;34m.\u001b[0m\u001b[0masync_wait\u001b[0m\u001b[0;34m(\u001b[0m\u001b[0;34m)\u001b[0m\u001b[0;34m\u001b[0m\u001b[0;34m\u001b[0m\u001b[0m\n",
            "\u001b[0;32m/usr/local/lib/python3.10/dist-packages/tensorflow/python/util/traceback_utils.py\u001b[0m in \u001b[0;36merror_handler\u001b[0;34m(*args, **kwargs)\u001b[0m\n\u001b[1;32m    148\u001b[0m     \u001b[0mfiltered_tb\u001b[0m \u001b[0;34m=\u001b[0m \u001b[0;32mNone\u001b[0m\u001b[0;34m\u001b[0m\u001b[0;34m\u001b[0m\u001b[0m\n\u001b[1;32m    149\u001b[0m     \u001b[0;32mtry\u001b[0m\u001b[0;34m:\u001b[0m\u001b[0;34m\u001b[0m\u001b[0;34m\u001b[0m\u001b[0m\n\u001b[0;32m--> 150\u001b[0;31m       \u001b[0;32mreturn\u001b[0m \u001b[0mfn\u001b[0m\u001b[0;34m(\u001b[0m\u001b[0;34m*\u001b[0m\u001b[0margs\u001b[0m\u001b[0;34m,\u001b[0m \u001b[0;34m**\u001b[0m\u001b[0mkwargs\u001b[0m\u001b[0;34m)\u001b[0m\u001b[0;34m\u001b[0m\u001b[0;34m\u001b[0m\u001b[0m\n\u001b[0m\u001b[1;32m    151\u001b[0m     \u001b[0;32mexcept\u001b[0m \u001b[0mException\u001b[0m \u001b[0;32mas\u001b[0m \u001b[0me\u001b[0m\u001b[0;34m:\u001b[0m\u001b[0;34m\u001b[0m\u001b[0;34m\u001b[0m\u001b[0m\n\u001b[1;32m    152\u001b[0m       \u001b[0mfiltered_tb\u001b[0m \u001b[0;34m=\u001b[0m \u001b[0m_process_traceback_frames\u001b[0m\u001b[0;34m(\u001b[0m\u001b[0me\u001b[0m\u001b[0;34m.\u001b[0m\u001b[0m__traceback__\u001b[0m\u001b[0;34m)\u001b[0m\u001b[0;34m\u001b[0m\u001b[0;34m\u001b[0m\u001b[0m\n",
            "\u001b[0;32m/usr/local/lib/python3.10/dist-packages/tensorflow/python/eager/polymorphic_function/polymorphic_function.py\u001b[0m in \u001b[0;36m__call__\u001b[0;34m(self, *args, **kwds)\u001b[0m\n\u001b[1;32m    830\u001b[0m \u001b[0;34m\u001b[0m\u001b[0m\n\u001b[1;32m    831\u001b[0m       \u001b[0;32mwith\u001b[0m \u001b[0mOptionalXlaContext\u001b[0m\u001b[0;34m(\u001b[0m\u001b[0mself\u001b[0m\u001b[0;34m.\u001b[0m\u001b[0m_jit_compile\u001b[0m\u001b[0;34m)\u001b[0m\u001b[0;34m:\u001b[0m\u001b[0;34m\u001b[0m\u001b[0;34m\u001b[0m\u001b[0m\n\u001b[0;32m--> 832\u001b[0;31m         \u001b[0mresult\u001b[0m \u001b[0;34m=\u001b[0m \u001b[0mself\u001b[0m\u001b[0;34m.\u001b[0m\u001b[0m_call\u001b[0m\u001b[0;34m(\u001b[0m\u001b[0;34m*\u001b[0m\u001b[0margs\u001b[0m\u001b[0;34m,\u001b[0m \u001b[0;34m**\u001b[0m\u001b[0mkwds\u001b[0m\u001b[0;34m)\u001b[0m\u001b[0;34m\u001b[0m\u001b[0;34m\u001b[0m\u001b[0m\n\u001b[0m\u001b[1;32m    833\u001b[0m \u001b[0;34m\u001b[0m\u001b[0m\n\u001b[1;32m    834\u001b[0m       \u001b[0mnew_tracing_count\u001b[0m \u001b[0;34m=\u001b[0m \u001b[0mself\u001b[0m\u001b[0;34m.\u001b[0m\u001b[0mexperimental_get_tracing_count\u001b[0m\u001b[0;34m(\u001b[0m\u001b[0;34m)\u001b[0m\u001b[0;34m\u001b[0m\u001b[0;34m\u001b[0m\u001b[0m\n",
            "\u001b[0;32m/usr/local/lib/python3.10/dist-packages/tensorflow/python/eager/polymorphic_function/polymorphic_function.py\u001b[0m in \u001b[0;36m_call\u001b[0;34m(self, *args, **kwds)\u001b[0m\n\u001b[1;32m    866\u001b[0m       \u001b[0;31m# In this case we have created variables on the first call, so we run the\u001b[0m\u001b[0;34m\u001b[0m\u001b[0;34m\u001b[0m\u001b[0m\n\u001b[1;32m    867\u001b[0m       \u001b[0;31m# defunned version which is guaranteed to never create variables.\u001b[0m\u001b[0;34m\u001b[0m\u001b[0;34m\u001b[0m\u001b[0m\n\u001b[0;32m--> 868\u001b[0;31m       return tracing_compilation.call_function(\n\u001b[0m\u001b[1;32m    869\u001b[0m           \u001b[0margs\u001b[0m\u001b[0;34m,\u001b[0m \u001b[0mkwds\u001b[0m\u001b[0;34m,\u001b[0m \u001b[0mself\u001b[0m\u001b[0;34m.\u001b[0m\u001b[0m_no_variable_creation_config\u001b[0m\u001b[0;34m\u001b[0m\u001b[0;34m\u001b[0m\u001b[0m\n\u001b[1;32m    870\u001b[0m       )\n",
            "\u001b[0;32m/usr/local/lib/python3.10/dist-packages/tensorflow/python/eager/polymorphic_function/tracing_compilation.py\u001b[0m in \u001b[0;36mcall_function\u001b[0;34m(args, kwargs, tracing_options)\u001b[0m\n\u001b[1;32m    137\u001b[0m   \u001b[0mbound_args\u001b[0m \u001b[0;34m=\u001b[0m \u001b[0mfunction\u001b[0m\u001b[0;34m.\u001b[0m\u001b[0mfunction_type\u001b[0m\u001b[0;34m.\u001b[0m\u001b[0mbind\u001b[0m\u001b[0;34m(\u001b[0m\u001b[0;34m*\u001b[0m\u001b[0margs\u001b[0m\u001b[0;34m,\u001b[0m \u001b[0;34m**\u001b[0m\u001b[0mkwargs\u001b[0m\u001b[0;34m)\u001b[0m\u001b[0;34m\u001b[0m\u001b[0;34m\u001b[0m\u001b[0m\n\u001b[1;32m    138\u001b[0m   \u001b[0mflat_inputs\u001b[0m \u001b[0;34m=\u001b[0m \u001b[0mfunction\u001b[0m\u001b[0;34m.\u001b[0m\u001b[0mfunction_type\u001b[0m\u001b[0;34m.\u001b[0m\u001b[0munpack_inputs\u001b[0m\u001b[0;34m(\u001b[0m\u001b[0mbound_args\u001b[0m\u001b[0;34m)\u001b[0m\u001b[0;34m\u001b[0m\u001b[0;34m\u001b[0m\u001b[0m\n\u001b[0;32m--> 139\u001b[0;31m   return function._call_flat(  # pylint: disable=protected-access\n\u001b[0m\u001b[1;32m    140\u001b[0m       \u001b[0mflat_inputs\u001b[0m\u001b[0;34m,\u001b[0m \u001b[0mcaptured_inputs\u001b[0m\u001b[0;34m=\u001b[0m\u001b[0mfunction\u001b[0m\u001b[0;34m.\u001b[0m\u001b[0mcaptured_inputs\u001b[0m\u001b[0;34m\u001b[0m\u001b[0;34m\u001b[0m\u001b[0m\n\u001b[1;32m    141\u001b[0m   )\n",
            "\u001b[0;32m/usr/local/lib/python3.10/dist-packages/tensorflow/python/eager/polymorphic_function/concrete_function.py\u001b[0m in \u001b[0;36m_call_flat\u001b[0;34m(self, tensor_inputs, captured_inputs)\u001b[0m\n\u001b[1;32m   1321\u001b[0m         and executing_eagerly):\n\u001b[1;32m   1322\u001b[0m       \u001b[0;31m# No tape is watching; skip to running the function.\u001b[0m\u001b[0;34m\u001b[0m\u001b[0;34m\u001b[0m\u001b[0m\n\u001b[0;32m-> 1323\u001b[0;31m       \u001b[0;32mreturn\u001b[0m \u001b[0mself\u001b[0m\u001b[0;34m.\u001b[0m\u001b[0m_inference_function\u001b[0m\u001b[0;34m.\u001b[0m\u001b[0mcall_preflattened\u001b[0m\u001b[0;34m(\u001b[0m\u001b[0margs\u001b[0m\u001b[0;34m)\u001b[0m\u001b[0;34m\u001b[0m\u001b[0;34m\u001b[0m\u001b[0m\n\u001b[0m\u001b[1;32m   1324\u001b[0m     forward_backward = self._select_forward_and_backward_functions(\n\u001b[1;32m   1325\u001b[0m         \u001b[0margs\u001b[0m\u001b[0;34m,\u001b[0m\u001b[0;34m\u001b[0m\u001b[0;34m\u001b[0m\u001b[0m\n",
            "\u001b[0;32m/usr/local/lib/python3.10/dist-packages/tensorflow/python/eager/polymorphic_function/atomic_function.py\u001b[0m in \u001b[0;36mcall_preflattened\u001b[0;34m(self, args)\u001b[0m\n\u001b[1;32m    214\u001b[0m   \u001b[0;32mdef\u001b[0m \u001b[0mcall_preflattened\u001b[0m\u001b[0;34m(\u001b[0m\u001b[0mself\u001b[0m\u001b[0;34m,\u001b[0m \u001b[0margs\u001b[0m\u001b[0;34m:\u001b[0m \u001b[0mSequence\u001b[0m\u001b[0;34m[\u001b[0m\u001b[0mcore\u001b[0m\u001b[0;34m.\u001b[0m\u001b[0mTensor\u001b[0m\u001b[0;34m]\u001b[0m\u001b[0;34m)\u001b[0m \u001b[0;34m->\u001b[0m \u001b[0mAny\u001b[0m\u001b[0;34m:\u001b[0m\u001b[0;34m\u001b[0m\u001b[0;34m\u001b[0m\u001b[0m\n\u001b[1;32m    215\u001b[0m     \u001b[0;34m\"\"\"Calls with flattened tensor inputs and returns the structured output.\"\"\"\u001b[0m\u001b[0;34m\u001b[0m\u001b[0;34m\u001b[0m\u001b[0m\n\u001b[0;32m--> 216\u001b[0;31m     \u001b[0mflat_outputs\u001b[0m \u001b[0;34m=\u001b[0m \u001b[0mself\u001b[0m\u001b[0;34m.\u001b[0m\u001b[0mcall_flat\u001b[0m\u001b[0;34m(\u001b[0m\u001b[0;34m*\u001b[0m\u001b[0margs\u001b[0m\u001b[0;34m)\u001b[0m\u001b[0;34m\u001b[0m\u001b[0;34m\u001b[0m\u001b[0m\n\u001b[0m\u001b[1;32m    217\u001b[0m     \u001b[0;32mreturn\u001b[0m \u001b[0mself\u001b[0m\u001b[0;34m.\u001b[0m\u001b[0mfunction_type\u001b[0m\u001b[0;34m.\u001b[0m\u001b[0mpack_output\u001b[0m\u001b[0;34m(\u001b[0m\u001b[0mflat_outputs\u001b[0m\u001b[0;34m)\u001b[0m\u001b[0;34m\u001b[0m\u001b[0;34m\u001b[0m\u001b[0m\n\u001b[1;32m    218\u001b[0m \u001b[0;34m\u001b[0m\u001b[0m\n",
            "\u001b[0;32m/usr/local/lib/python3.10/dist-packages/tensorflow/python/eager/polymorphic_function/atomic_function.py\u001b[0m in \u001b[0;36mcall_flat\u001b[0;34m(self, *args)\u001b[0m\n\u001b[1;32m    249\u001b[0m         \u001b[0;32mwith\u001b[0m \u001b[0mrecord\u001b[0m\u001b[0;34m.\u001b[0m\u001b[0mstop_recording\u001b[0m\u001b[0;34m(\u001b[0m\u001b[0;34m)\u001b[0m\u001b[0;34m:\u001b[0m\u001b[0;34m\u001b[0m\u001b[0;34m\u001b[0m\u001b[0m\n\u001b[1;32m    250\u001b[0m           \u001b[0;32mif\u001b[0m \u001b[0mself\u001b[0m\u001b[0;34m.\u001b[0m\u001b[0m_bound_context\u001b[0m\u001b[0;34m.\u001b[0m\u001b[0mexecuting_eagerly\u001b[0m\u001b[0;34m(\u001b[0m\u001b[0;34m)\u001b[0m\u001b[0;34m:\u001b[0m\u001b[0;34m\u001b[0m\u001b[0;34m\u001b[0m\u001b[0m\n\u001b[0;32m--> 251\u001b[0;31m             outputs = self._bound_context.call_function(\n\u001b[0m\u001b[1;32m    252\u001b[0m                 \u001b[0mself\u001b[0m\u001b[0;34m.\u001b[0m\u001b[0mname\u001b[0m\u001b[0;34m,\u001b[0m\u001b[0;34m\u001b[0m\u001b[0;34m\u001b[0m\u001b[0m\n\u001b[1;32m    253\u001b[0m                 \u001b[0mlist\u001b[0m\u001b[0;34m(\u001b[0m\u001b[0margs\u001b[0m\u001b[0;34m)\u001b[0m\u001b[0;34m,\u001b[0m\u001b[0;34m\u001b[0m\u001b[0;34m\u001b[0m\u001b[0m\n",
            "\u001b[0;32m/usr/local/lib/python3.10/dist-packages/tensorflow/python/eager/context.py\u001b[0m in \u001b[0;36mcall_function\u001b[0;34m(self, name, tensor_inputs, num_outputs)\u001b[0m\n\u001b[1;32m   1484\u001b[0m     \u001b[0mcancellation_context\u001b[0m \u001b[0;34m=\u001b[0m \u001b[0mcancellation\u001b[0m\u001b[0;34m.\u001b[0m\u001b[0mcontext\u001b[0m\u001b[0;34m(\u001b[0m\u001b[0;34m)\u001b[0m\u001b[0;34m\u001b[0m\u001b[0;34m\u001b[0m\u001b[0m\n\u001b[1;32m   1485\u001b[0m     \u001b[0;32mif\u001b[0m \u001b[0mcancellation_context\u001b[0m \u001b[0;32mis\u001b[0m \u001b[0;32mNone\u001b[0m\u001b[0;34m:\u001b[0m\u001b[0;34m\u001b[0m\u001b[0;34m\u001b[0m\u001b[0m\n\u001b[0;32m-> 1486\u001b[0;31m       outputs = execute.execute(\n\u001b[0m\u001b[1;32m   1487\u001b[0m           \u001b[0mname\u001b[0m\u001b[0;34m.\u001b[0m\u001b[0mdecode\u001b[0m\u001b[0;34m(\u001b[0m\u001b[0;34m\"utf-8\"\u001b[0m\u001b[0;34m)\u001b[0m\u001b[0;34m,\u001b[0m\u001b[0;34m\u001b[0m\u001b[0;34m\u001b[0m\u001b[0m\n\u001b[1;32m   1488\u001b[0m           \u001b[0mnum_outputs\u001b[0m\u001b[0;34m=\u001b[0m\u001b[0mnum_outputs\u001b[0m\u001b[0;34m,\u001b[0m\u001b[0;34m\u001b[0m\u001b[0;34m\u001b[0m\u001b[0m\n",
            "\u001b[0;32m/usr/local/lib/python3.10/dist-packages/tensorflow/python/eager/execute.py\u001b[0m in \u001b[0;36mquick_execute\u001b[0;34m(op_name, num_outputs, inputs, attrs, ctx, name)\u001b[0m\n\u001b[1;32m     51\u001b[0m   \u001b[0;32mtry\u001b[0m\u001b[0;34m:\u001b[0m\u001b[0;34m\u001b[0m\u001b[0;34m\u001b[0m\u001b[0m\n\u001b[1;32m     52\u001b[0m     \u001b[0mctx\u001b[0m\u001b[0;34m.\u001b[0m\u001b[0mensure_initialized\u001b[0m\u001b[0;34m(\u001b[0m\u001b[0;34m)\u001b[0m\u001b[0;34m\u001b[0m\u001b[0;34m\u001b[0m\u001b[0m\n\u001b[0;32m---> 53\u001b[0;31m     tensors = pywrap_tfe.TFE_Py_Execute(ctx._handle, device_name, op_name,\n\u001b[0m\u001b[1;32m     54\u001b[0m                                         inputs, attrs, num_outputs)\n\u001b[1;32m     55\u001b[0m   \u001b[0;32mexcept\u001b[0m \u001b[0mcore\u001b[0m\u001b[0;34m.\u001b[0m\u001b[0m_NotOkStatusException\u001b[0m \u001b[0;32mas\u001b[0m \u001b[0me\u001b[0m\u001b[0;34m:\u001b[0m\u001b[0;34m\u001b[0m\u001b[0;34m\u001b[0m\u001b[0m\n",
            "\u001b[0;31mKeyboardInterrupt\u001b[0m: "
          ]
        }
      ],
      "source": [
        "samp_freq = 100\n",
        "time = 10\n",
        "num_leads = 12\n",
        "batchsize = 16\n",
        "epoch = 20\n",
        "mae_score_total = []\n",
        "\n",
        "print(\"Training model...\")\n",
        "\n",
        "#Chose model:\n",
        "if model_name == \"attia\":\n",
        "    model = attia_model(samp_freq, time, num_leads)\n",
        "elif model_name == \"inception\":\n",
        "    model = build_model((samp_freq*time,num_leads), 1)\n",
        "model.fit(x=shuffle_batch_generator_age(batch_size=batchsize, gen_x=generate_X_age(ecg_filenames,samp_freq=samp_freq,num_leads=num_leads), gen_y=generate_y_age(age),num_leads=num_leads, time=time, samp_freq=samp_freq), epochs=epoch,\n",
        "            steps_per_epoch=(len(ecg_filenames)/batchsize),\n",
        "            verbose = 1,\n",
        "            callbacks=[lr_schedule]\n",
        "            )"
      ]
    },
    {
      "cell_type": "code",
      "execution_count": null,
      "metadata": {
        "id": "4KIS-EsAXbZE"
      },
      "outputs": [],
      "source": [
        "model.save_weights(\"model_weights_\" + model_name + gender_choice + \".h5\")"
      ]
    },
    {
      "cell_type": "markdown",
      "source": [
        "# Training a single lead model"
      ],
      "metadata": {
        "id": "yqDI-fssZCX5"
      }
    },
    {
      "cell_type": "code",
      "source": [
        "def import_ecg_data_one_lead(filenames, samp_freq=100,time=10,num_leads=1):\n",
        "  all_data = np.zeros((len(filenames), samp_freq * time, num_leads))\n",
        "  cnt = 0\n",
        "  print(\"Load ECGs...\")\n",
        "  for filename in tqdm.tqdm(filenames):\n",
        "    data, header_data = load_challenge_data(filename)\n",
        "    if int(header_data[0].split(\" \")[2]) != samp_freq:\n",
        "        data_new = np.ones(\n",
        "            [\n",
        "                num_leads,\n",
        "                int(\n",
        "                    (\n",
        "                        int(header_data[0].split(\" \")[3])\n",
        "                        / int(header_data[0].split(\" \")[2])\n",
        "                    )\n",
        "                    * samp_freq\n",
        "                ),\n",
        "            ]\n",
        "        )\n",
        "        data = data[0,:]\n",
        "        data = np.expand_dims(data,1)\n",
        "        scaler = MinMaxScaler()\n",
        "        scaled_data = scaler.fit_transform(data)\n",
        "        data_new = signal.resample(\n",
        "            scaled_data[:,0], #scaled_data[0],\n",
        "            int(\n",
        "                (\n",
        "                    int(header_data[0].split(\" \")[3])\n",
        "                    / int(header_data[0].split(\" \")[2])\n",
        "                )\n",
        "                * samp_freq\n",
        "            ),\n",
        "        )\n",
        "    data = data_new\n",
        "    if len(data) > 1000:\n",
        "      data = data[:1000]\n",
        "\n",
        "    #plt.plot(data[0])\n",
        "    #plt.show()\n",
        "    #data = pad_sequences(np.expand_dims(data,0), maxlen=samp_freq * 10, truncating=\"post\", padding=\"post\")\n",
        "\n",
        "\n",
        "    all_data[cnt] = np.expand_dims(data,1)\n",
        "    cnt += 1\n",
        "  return all_data\n",
        "\n",
        ""
      ],
      "metadata": {
        "id": "vIYI6QIyyxcv"
      },
      "execution_count": 24,
      "outputs": []
    },
    {
      "cell_type": "code",
      "source": [
        "ecg_data = import_ecg_data_one_lead(ecg_filenames)"
      ],
      "metadata": {
        "id": "hArPETTIPB0w",
        "outputId": "dbccb89f-28a6-4cbd-e889-8532d3c56ed9",
        "colab": {
          "base_uri": "https://localhost:8080/"
        }
      },
      "execution_count": 25,
      "outputs": [
        {
          "output_type": "stream",
          "name": "stdout",
          "text": [
            "Load ECGs...\n"
          ]
        },
        {
          "output_type": "stream",
          "name": "stderr",
          "text": [
            "100%|██████████| 59352/59352 [02:19<00:00, 424.34it/s]\n"
          ]
        }
      ]
    },
    {
      "cell_type": "code",
      "source": [
        "from sklearn.utils.class_weight import compute_class_weight"
      ],
      "metadata": {
        "id": "T_cPecTAKcvp"
      },
      "execution_count": 26,
      "outputs": []
    },
    {
      "cell_type": "code",
      "source": [
        "weights = compute_class_weight(class_weight = \"balanced\", classes = np.unique(age), y = age)"
      ],
      "metadata": {
        "id": "oynZrPxvNI18"
      },
      "execution_count": 27,
      "outputs": []
    },
    {
      "cell_type": "code",
      "source": [
        "keys = np.unique(age)\n",
        "weight_dictionary = dict(zip(keys, weights))"
      ],
      "metadata": {
        "id": "epNVUN2rNs_4"
      },
      "execution_count": 28,
      "outputs": []
    },
    {
      "cell_type": "code",
      "source": [
        "plt.hist(age)\n",
        "plt.show()"
      ],
      "metadata": {
        "id": "ZdKT763lHWSU",
        "outputId": "771b9704-8740-43be-ff6f-d1a1db28053f",
        "colab": {
          "base_uri": "https://localhost:8080/",
          "height": 430
        }
      },
      "execution_count": 29,
      "outputs": [
        {
          "output_type": "display_data",
          "data": {
            "text/plain": [
              "<Figure size 640x480 with 1 Axes>"
            ],
            "image/png": "[encoded data removed]"
          },
          "metadata": {}
        }
      ]
    },
    {
      "cell_type": "code",
      "source": [
        "def upsample_ecgs(ecg, age):\n",
        "  all_age = []\n",
        "  new_ecg_array = []\n",
        "  max_val = np.unique(age, return_counts=True)[1].max()\n",
        "\n",
        "  for age_idx in range(len(np.unique(age, return_counts=True)[0])):\n",
        "    age_n = np.ones(max_val)*np.unique(age, return_counts=True)[0][age_idx]\n",
        "    all_age.append(age_n)\n",
        "    n_resamp = max_val - np.unique(age, return_counts=True)[1][age_idx]\n",
        "    resampled_ecgs = ecg[np.random.choice(np.arange(ecg_data[np.where(age==np.unique(age, return_counts=True)[0][age_idx])[0]].shape[0]),n_resamp)]\n",
        "    original_ecgs = ecg[np.where(age==np.unique(age, return_counts=True)[0][age_idx])[0]]\n",
        "    new_ecgs = np.vstack((original_ecgs,resampled_ecgs))\n",
        "    new_ecg_array.append(new_ecgs)\n",
        "  new_age_array = np.asarray(all_age)\n",
        "  new_ecg_array = np.asarray(new_ecg_array)\n",
        "  return new_ecg_array, new_age_array"
      ],
      "metadata": {
        "id": "k1ud7WZHaoiS"
      },
      "execution_count": 30,
      "outputs": []
    },
    {
      "cell_type": "code",
      "source": [
        "new_ecg, new_age = upsample_ecgs(ecg_data, age)"
      ],
      "metadata": {
        "id": "COlCJiGdhuXc"
      },
      "execution_count": 31,
      "outputs": []
    },
    {
      "cell_type": "code",
      "source": [
        "new_ecg = new_ecg.reshape(new_age.flatten().shape[0],1000,1)"
      ],
      "metadata": {
        "id": "3e8EV-u8kNrg"
      },
      "execution_count": 32,
      "outputs": []
    },
    {
      "cell_type": "code",
      "source": [
        "new_ecg.shape"
      ],
      "metadata": {
        "id": "VNJZDeuIZYQ7",
        "outputId": "14d32d78-56b8-4a5d-a652-b6a8f19d79f7",
        "colab": {
          "base_uri": "https://localhost:8080/"
        }
      },
      "execution_count": 33,
      "outputs": [
        {
          "output_type": "execute_result",
          "data": {
            "text/plain": [
              "(151272, 1000, 1)"
            ]
          },
          "metadata": {},
          "execution_count": 33
        }
      ]
    },
    {
      "cell_type": "code",
      "source": [
        "new_age = new_age.flatten()"
      ],
      "metadata": {
        "id": "AyF7501WkWQe"
      },
      "execution_count": 34,
      "outputs": []
    },
    {
      "cell_type": "markdown",
      "source": [
        "# One lead model"
      ],
      "metadata": {
        "id": "Q_wTdRr7oTwD"
      }
    },
    {
      "cell_type": "code",
      "source": [
        "samp_freq = 100\n",
        "time = 10\n",
        "num_leads = 1\n",
        "batchsize = 16\n",
        "epoch = 10\n",
        "mae_score_total = []\n",
        "\n",
        "print(\"Training model...\")\n",
        "\n",
        "model = build_model((samp_freq*time,num_leads), 1)\n",
        "model.fit(x=new_ecg, y=new_age,  epochs=epoch, batch_size = batchsize,\n",
        "            steps_per_epoch=(new_ecg.shape[0]/batchsize), validation_split=0.25,\n",
        "            verbose = 1,\n",
        "            callbacks=[lr_schedule], shuffle=True,\n",
        "            )"
      ],
      "metadata": {
        "id": "q9BfnJ4fkeui",
        "outputId": "d6a2550a-154e-4a57-8463-b45d1da06c9d",
        "colab": {
          "base_uri": "https://localhost:8080/"
        }
      },
      "execution_count": null,
      "outputs": [
        {
          "output_type": "stream",
          "name": "stdout",
          "text": [
            "Training model...\n",
            "Epoch 1/10\n",
            "6258/9454 [==================>...........] - ETA: 2:06 - loss: 18.1894 - mean_squared_error: 469.6214"
          ]
        }
      ]
    },
    {
      "cell_type": "code",
      "source": [
        "model.save_weights(\"model_weights_leadI.h5\")"
      ],
      "metadata": {
        "id": "ub0t5z9M582R"
      },
      "execution_count": null,
      "outputs": []
    }
  ],
  "metadata": {
    "accelerator": "GPU",
    "colab": {
      "name": "age-estimation-of-women-using-cnn-on-12-lead-ecg.ipynb",
      "provenance": [],
      "machine_shape": "hm"
    },
    "gpuClass": "standard",
    "kernelspec": {
      "display_name": "Python 3.8.5 ('base')",
      "language": "python",
      "name": "python3"
    },
    "language_info": {
      "codemirror_mode": {
        "name": "ipython",
        "version": 3
      },
      "file_extension": ".py",
      "mimetype": "text/x-python",
      "name": "python",
      "nbconvert_exporter": "python",
      "pygments_lexer": "ipython3",
      "version": "3.8.5"
    },
    "vscode": {
      "interpreter": {
        "hash": "39192be711985d5a4908b881b6a992a73610e2430c975ad8c4f9221a910d9ff0"
      }
    }
  },
  "nbformat": 4,
  "nbformat_minor": 0
}