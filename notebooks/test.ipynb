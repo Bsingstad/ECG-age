{
 "cells": [
  {
   "cell_type": "code",
   "execution_count": 9,
   "metadata": {},
   "outputs": [],
   "source": [
    "import sys\n",
    "sys.path.append(\"..\")\n",
    "from src.helpers import *"
   ]
  },
  {
   "cell_type": "code",
   "execution_count": 13,
   "metadata": {},
   "outputs": [
    {
     "data": {
      "text/plain": [
       "(array([[  0.,   0.,   0., ..., -13.,  -8., -10.],\n",
       "        [ 10.,  12.,  11., ...,  -1.,   4.,   7.],\n",
       "        [ 10.,  13.,  12., ...,  12.,  12.,  18.],\n",
       "        ...,\n",
       "        [ 75., 103.,  89., ..., 107., 104., 121.],\n",
       "        [ 16.,  18.,  13., ...,   2.,   6.,   8.],\n",
       "        [  9.,   9.,   4., ...,   3.,   2.,   3.]]),\n",
       " ['Q0001 12 500 5000 15-May-2020 15:35:30\\n',\n",
       "  'Q0001.mat 16+24 1000/mV 16 0 0 -14 0 I\\n',\n",
       "  'Q0001.mat 16+24 1000/mV 16 0 10 -9 0 II\\n',\n",
       "  'Q0001.mat 16+24 1000/mV 16 0 10 -2 0 III\\n',\n",
       "  'Q0001.mat 16+24 1000/mV 16 0 -5 5 0 aVR\\n',\n",
       "  'Q0001.mat 16+24 1000/mV 16 0 -5 21 0 aVL\\n',\n",
       "  'Q0001.mat 16+24 1000/mV 16 0 11 -34 0 aVF\\n',\n",
       "  'Q0001.mat 16+24 1000/mV 16 0 52 -30 0 V1\\n',\n",
       "  'Q0001.mat 16+24 1000/mV 16 0 44 -15 0 V2\\n',\n",
       "  'Q0001.mat 16+24 1000/mV 16 0 17 -39 0 V3\\n',\n",
       "  'Q0001.mat 16+24 1000/mV 16 0 75 -64 0 V4\\n',\n",
       "  'Q0001.mat 16+24 1000/mV 16 0 16 -27 0 V5\\n',\n",
       "  'Q0001.mat 16+24 1000/mV 16 0 9 18 0 V6\\n',\n",
       "  '#Age: 53\\n',\n",
       "  '#Sex: Male\\n',\n",
       "  '#Dx: 164867002,427084000\\n',\n",
       "  '#Rx: Unknown\\n',\n",
       "  '#Hx: Unknown\\n',\n",
       "  '#Sx: Unknown\\n'])"
      ]
     },
     "execution_count": 13,
     "metadata": {},
     "output_type": "execute_result"
    }
   ],
   "source": [
    "load_challenge_data(\"../data/Q0001.mat\")"
   ]
  },
  {
   "cell_type": "code",
   "execution_count": null,
   "metadata": {},
   "outputs": [],
   "source": []
  }
 ],
 "metadata": {
  "kernelspec": {
   "display_name": "Python 3.8.5 ('base')",
   "language": "python",
   "name": "python3"
  },
  "language_info": {
   "codemirror_mode": {
    "name": "ipython",
    "version": 3
   },
   "file_extension": ".py",
   "mimetype": "text/x-python",
   "name": "python",
   "nbconvert_exporter": "python",
   "pygments_lexer": "ipython3",
   "version": "3.8.5"
  },
  "orig_nbformat": 4,
  "vscode": {
   "interpreter": {
    "hash": "39192be711985d5a4908b881b6a992a73610e2430c975ad8c4f9221a910d9ff0"
   }
  }
 },
 "nbformat": 4,
 "nbformat_minor": 2
}
